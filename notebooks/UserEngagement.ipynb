{
 "cells": [
  {
   "cell_type": "code",
   "execution_count": 3,
   "metadata": {},
   "outputs": [],
   "source": [
    "import numpy as np\n",
    "import pandas as pd\n",
    "from sklearn.cluster import KMeans\n",
    "from kneed import KneeLocator\n",
    "import matplotlib.pyplot as plt\n",
    "import seaborn as sns\n",
    "import pickle\n",
    "import os\n",
    "import sys"
   ]
  },
  {
   "cell_type": "code",
   "execution_count": 4,
   "metadata": {},
   "outputs": [],
   "source": [
    "import warnings\n",
    "warnings.filterwarnings('ignore')"
   ]
  },
  {
   "cell_type": "code",
   "execution_count": 6,
   "metadata": {},
   "outputs": [],
   "source": [
    "sys.path.append(os.path.abspath(os.path.join('../scripts')))\n",
    "from preprocessing import PreProcess\n",
    "from overview import Overview\n",
    "from plot import Plot\n",
    "from loggers import Logger"
   ]
  },
  {
   "cell_type": "code",
   "execution_count": 7,
   "metadata": {},
   "outputs": [
    {
     "name": "stdout",
     "output_type": "stream",
     "text": [
      "[27/Aug/2022 16:40:32] INFO - Initialized userEngagement.py logger\n"
     ]
    }
   ],
   "source": [
    "loggers = Logger(\"userEngagement.log\").get_app_logger()\n",
    "loggers.info(\"Initialized userEngagement.py logger\")"
   ]
  },
  {
   "cell_type": "code",
   "execution_count": 8,
   "metadata": {},
   "outputs": [],
   "source": [
    "df_org = pd.read_csv('../data/cleaned_data_outliers.csv')"
   ]
  },
  {
   "cell_type": "code",
   "execution_count": 9,
   "metadata": {},
   "outputs": [],
   "source": [
    "df = df_org.copy()"
   ]
  },
  {
   "cell_type": "code",
   "execution_count": 10,
   "metadata": {},
   "outputs": [
    {
     "name": "stdout",
     "output_type": "stream",
     "text": [
      "[27/Aug/2022 17:07:50] INFO - Successfully Instantiated Preprocessing Class Object\n",
      "[27/Aug/2022 17:07:50] INFO - Successfully Instantiated Outlier Class Object\n"
     ]
    }
   ],
   "source": [
    "pl = Plot()\n",
    "overview = Overview(df)"
   ]
  },
  {
   "cell_type": "code",
   "execution_count": 11,
   "metadata": {
    "scrolled": true
   },
   "outputs": [
    {
     "data": {
      "text/html": [
       "<div>\n",
       "<style scoped>\n",
       "    .dataframe tbody tr th:only-of-type {\n",
       "        vertical-align: middle;\n",
       "    }\n",
       "\n",
       "    .dataframe tbody tr th {\n",
       "        vertical-align: top;\n",
       "    }\n",
       "\n",
       "    .dataframe thead th {\n",
       "        text-align: right;\n",
       "    }\n",
       "</style>\n",
       "<table border=\"1\" class=\"dataframe\">\n",
       "  <thead>\n",
       "    <tr style=\"text-align: right;\">\n",
       "      <th></th>\n",
       "      <th>Unnamed: 0</th>\n",
       "      <th>Unnamed: 0.1</th>\n",
       "      <th>Bearer Id</th>\n",
       "      <th>Start</th>\n",
       "      <th>Start ms</th>\n",
       "      <th>End</th>\n",
       "      <th>End ms</th>\n",
       "      <th>Dur. (ms)</th>\n",
       "      <th>IMSI</th>\n",
       "      <th>MSISDN/Number</th>\n",
       "      <th>...</th>\n",
       "      <th>Total UL (Bytes)</th>\n",
       "      <th>Total DL (Bytes)</th>\n",
       "      <th>social_media</th>\n",
       "      <th>google</th>\n",
       "      <th>email</th>\n",
       "      <th>youtube</th>\n",
       "      <th>netflix</th>\n",
       "      <th>gaming</th>\n",
       "      <th>other</th>\n",
       "      <th>total_data</th>\n",
       "    </tr>\n",
       "  </thead>\n",
       "  <tbody>\n",
       "    <tr>\n",
       "      <th>0</th>\n",
       "      <td>0</td>\n",
       "      <td>-inf</td>\n",
       "      <td>44.020249</td>\n",
       "      <td>4/4/2019 12:01</td>\n",
       "      <td>6.646391</td>\n",
       "      <td>4/25/2019 14:35</td>\n",
       "      <td>6.495266</td>\n",
       "      <td>14.416352</td>\n",
       "      <td>32.969527</td>\n",
       "      <td>24.239723</td>\n",
       "      <td>...</td>\n",
       "      <td>17.419642</td>\n",
       "      <td>19.548462</td>\n",
       "      <td>-27.179828</td>\n",
       "      <td>-12.748763</td>\n",
       "      <td>-12.506825</td>\n",
       "      <td>-10.905557</td>\n",
       "      <td>-10.933217</td>\n",
       "      <td>5.678213</td>\n",
       "      <td>5.196057</td>\n",
       "      <td>5.845367</td>\n",
       "    </tr>\n",
       "    <tr>\n",
       "      <th>1</th>\n",
       "      <td>1</td>\n",
       "      <td>0.000000</td>\n",
       "      <td>44.020249</td>\n",
       "      <td>4/9/2019 13:04</td>\n",
       "      <td>5.459586</td>\n",
       "      <td>4/25/2019 8:15</td>\n",
       "      <td>6.406880</td>\n",
       "      <td>14.126741</td>\n",
       "      <td>32.969529</td>\n",
       "      <td>24.240225</td>\n",
       "      <td>...</td>\n",
       "      <td>17.800791</td>\n",
       "      <td>20.297677</td>\n",
       "      <td>-26.971804</td>\n",
       "      <td>-12.330708</td>\n",
       "      <td>-13.880172</td>\n",
       "      <td>-10.142783</td>\n",
       "      <td>-10.244133</td>\n",
       "      <td>6.413329</td>\n",
       "      <td>6.295191</td>\n",
       "      <td>6.561293</td>\n",
       "    </tr>\n",
       "    <tr>\n",
       "      <th>2</th>\n",
       "      <td>2</td>\n",
       "      <td>0.693147</td>\n",
       "      <td>44.020249</td>\n",
       "      <td>4/9/2019 17:42</td>\n",
       "      <td>0.000000</td>\n",
       "      <td>4/25/2019 11:58</td>\n",
       "      <td>6.480045</td>\n",
       "      <td>14.124290</td>\n",
       "      <td>32.969522</td>\n",
       "      <td>24.242561</td>\n",
       "      <td>...</td>\n",
       "      <td>17.143551</td>\n",
       "      <td>19.449612</td>\n",
       "      <td>-27.085054</td>\n",
       "      <td>-11.490272</td>\n",
       "      <td>-12.602640</td>\n",
       "      <td>-10.276721</td>\n",
       "      <td>-10.647877</td>\n",
       "      <td>5.437993</td>\n",
       "      <td>6.028058</td>\n",
       "      <td>5.729096</td>\n",
       "    </tr>\n",
       "    <tr>\n",
       "      <th>3</th>\n",
       "      <td>3</td>\n",
       "      <td>1.098612</td>\n",
       "      <td>44.020249</td>\n",
       "      <td>4/10/2019 0:31</td>\n",
       "      <td>6.186209</td>\n",
       "      <td>4/25/2019 7:36</td>\n",
       "      <td>5.141664</td>\n",
       "      <td>14.094285</td>\n",
       "      <td>32.969527</td>\n",
       "      <td>24.242256</td>\n",
       "      <td>...</td>\n",
       "      <td>17.584222</td>\n",
       "      <td>20.556064</td>\n",
       "      <td>-28.050342</td>\n",
       "      <td>-11.346415</td>\n",
       "      <td>-13.087487</td>\n",
       "      <td>-10.217246</td>\n",
       "      <td>-11.101307</td>\n",
       "      <td>6.697513</td>\n",
       "      <td>6.635733</td>\n",
       "      <td>6.790494</td>\n",
       "    </tr>\n",
       "    <tr>\n",
       "      <th>4</th>\n",
       "      <td>4</td>\n",
       "      <td>1.386294</td>\n",
       "      <td>44.020249</td>\n",
       "      <td>4/12/2019 20:10</td>\n",
       "      <td>6.336826</td>\n",
       "      <td>4/25/2019 10:40</td>\n",
       "      <td>6.860664</td>\n",
       "      <td>13.900779</td>\n",
       "      <td>32.969527</td>\n",
       "      <td>24.240758</td>\n",
       "      <td>...</td>\n",
       "      <td>17.467280</td>\n",
       "      <td>20.159635</td>\n",
       "      <td>-27.722273</td>\n",
       "      <td>-11.767967</td>\n",
       "      <td>-13.068657</td>\n",
       "      <td>-10.282634</td>\n",
       "      <td>-10.951038</td>\n",
       "      <td>6.275208</td>\n",
       "      <td>6.336153</td>\n",
       "      <td>6.409651</td>\n",
       "    </tr>\n",
       "  </tbody>\n",
       "</table>\n",
       "<p>5 rows × 49 columns</p>\n",
       "</div>"
      ],
      "text/plain": [
       "   Unnamed: 0  Unnamed: 0.1  Bearer Id            Start  Start ms  \\\n",
       "0           0          -inf  44.020249   4/4/2019 12:01  6.646391   \n",
       "1           1      0.000000  44.020249   4/9/2019 13:04  5.459586   \n",
       "2           2      0.693147  44.020249   4/9/2019 17:42  0.000000   \n",
       "3           3      1.098612  44.020249   4/10/2019 0:31  6.186209   \n",
       "4           4      1.386294  44.020249  4/12/2019 20:10  6.336826   \n",
       "\n",
       "               End    End ms  Dur. (ms)       IMSI  MSISDN/Number  ...  \\\n",
       "0  4/25/2019 14:35  6.495266  14.416352  32.969527      24.239723  ...   \n",
       "1   4/25/2019 8:15  6.406880  14.126741  32.969529      24.240225  ...   \n",
       "2  4/25/2019 11:58  6.480045  14.124290  32.969522      24.242561  ...   \n",
       "3   4/25/2019 7:36  5.141664  14.094285  32.969527      24.242256  ...   \n",
       "4  4/25/2019 10:40  6.860664  13.900779  32.969527      24.240758  ...   \n",
       "\n",
       "   Total UL (Bytes) Total DL (Bytes)  social_media     google      email  \\\n",
       "0         17.419642        19.548462    -27.179828 -12.748763 -12.506825   \n",
       "1         17.800791        20.297677    -26.971804 -12.330708 -13.880172   \n",
       "2         17.143551        19.449612    -27.085054 -11.490272 -12.602640   \n",
       "3         17.584222        20.556064    -28.050342 -11.346415 -13.087487   \n",
       "4         17.467280        20.159635    -27.722273 -11.767967 -13.068657   \n",
       "\n",
       "     youtube    netflix    gaming     other  total_data  \n",
       "0 -10.905557 -10.933217  5.678213  5.196057    5.845367  \n",
       "1 -10.142783 -10.244133  6.413329  6.295191    6.561293  \n",
       "2 -10.276721 -10.647877  5.437993  6.028058    5.729096  \n",
       "3 -10.217246 -11.101307  6.697513  6.635733    6.790494  \n",
       "4 -10.282634 -10.951038  6.275208  6.336153    6.409651  \n",
       "\n",
       "[5 rows x 49 columns]"
      ]
     },
     "execution_count": 11,
     "metadata": {},
     "output_type": "execute_result"
    }
   ],
   "source": [
    "df.head()"
   ]
  },
  {
   "cell_type": "code",
   "execution_count": 14,
   "metadata": {},
   "outputs": [],
   "source": [
    "df = df.rename( columns={'Bearer Id': 'sessions'})"
   ]
  },
  {
   "cell_type": "code",
   "execution_count": 16,
   "metadata": {},
   "outputs": [],
   "source": [
    "user_engagement = df.groupby('MSISDN/Number').agg({'sessions': 'count', 'Dur. (ms)': 'sum', 'total_data': 'sum'})\n"
   ]
  },
  {
   "cell_type": "code",
   "execution_count": 17,
   "metadata": {},
   "outputs": [
    {
     "data": {
      "text/html": [
       "<div>\n",
       "<style scoped>\n",
       "    .dataframe tbody tr th:only-of-type {\n",
       "        vertical-align: middle;\n",
       "    }\n",
       "\n",
       "    .dataframe tbody tr th {\n",
       "        vertical-align: top;\n",
       "    }\n",
       "\n",
       "    .dataframe thead th {\n",
       "        text-align: right;\n",
       "    }\n",
       "</style>\n",
       "<table border=\"1\" class=\"dataframe\">\n",
       "  <thead>\n",
       "    <tr style=\"text-align: right;\">\n",
       "      <th></th>\n",
       "      <th>sessions</th>\n",
       "      <th>Dur. (ms)</th>\n",
       "      <th>total_data</th>\n",
       "    </tr>\n",
       "    <tr>\n",
       "      <th>MSISDN/Number</th>\n",
       "      <th></th>\n",
       "      <th></th>\n",
       "      <th></th>\n",
       "    </tr>\n",
       "  </thead>\n",
       "  <tbody>\n",
       "    <tr>\n",
       "      <th>24.237822</th>\n",
       "      <td>1</td>\n",
       "      <td>11.667533</td>\n",
       "      <td>6.778433</td>\n",
       "    </tr>\n",
       "    <tr>\n",
       "      <th>24.237822</th>\n",
       "      <td>1</td>\n",
       "      <td>12.107522</td>\n",
       "      <td>5.055351</td>\n",
       "    </tr>\n",
       "    <tr>\n",
       "      <th>24.237822</th>\n",
       "      <td>1</td>\n",
       "      <td>11.812800</td>\n",
       "      <td>6.390184</td>\n",
       "    </tr>\n",
       "    <tr>\n",
       "      <th>24.237822</th>\n",
       "      <td>1</td>\n",
       "      <td>10.817335</td>\n",
       "      <td>6.045765</td>\n",
       "    </tr>\n",
       "    <tr>\n",
       "      <th>24.237822</th>\n",
       "      <td>2</td>\n",
       "      <td>19.656666</td>\n",
       "      <td>13.143197</td>\n",
       "    </tr>\n",
       "  </tbody>\n",
       "</table>\n",
       "</div>"
      ],
      "text/plain": [
       "               sessions  Dur. (ms)  total_data\n",
       "MSISDN/Number                                 \n",
       "24.237822             1  11.667533    6.778433\n",
       "24.237822             1  12.107522    5.055351\n",
       "24.237822             1  11.812800    6.390184\n",
       "24.237822             1  10.817335    6.045765\n",
       "24.237822             2  19.656666   13.143197"
      ]
     },
     "execution_count": 17,
     "metadata": {},
     "output_type": "execute_result"
    }
   ],
   "source": [
    "user_engagement.head()"
   ]
  },
  {
   "cell_type": "markdown",
   "metadata": {},
   "source": [
    "#### Aggregate the above metrics per customer id (MSISDN) and report the top 10 customers per engagement metric "
   ]
  },
  {
   "cell_type": "code",
   "execution_count": 18,
   "metadata": {},
   "outputs": [
    {
     "data": {
      "text/plain": [
       "(106856, 3)"
      ]
     },
     "execution_count": 18,
     "metadata": {},
     "output_type": "execute_result"
    }
   ],
   "source": [
    "user_engagement.shape\n"
   ]
  },
  {
   "cell_type": "code",
   "execution_count": 26,
   "metadata": {},
   "outputs": [],
   "source": [
    "sessions = user_engagement.nlargest(10, \"sessions\")['sessions']\n",
    "duration = user_engagement.nlargest(10, \"Dur. (ms)\")['Dur. (ms)']\n",
    "total_data = user_engagement.nlargest(10, \"total_data\")['total_data']"
   ]
  },
  {
   "cell_type": "code",
   "execution_count": 32,
   "metadata": {},
   "outputs": [],
   "source": [
    "sesssions_df = pd.DataFrame()\n",
    "sesssions_df['User_ID'] = sessions.index\n",
    "sesssions_df['Sessions'] = sessions.values\n",
    "durations_df = pd.DataFrame()\n",
    "durations_df['User_ID'] = duration.index\n",
    "durations_df['duration'] = duration.values\n",
    "total_data_df = pd.DataFrame()\n",
    "total_data_df['User_ID'] = total_data.index\n",
    "total_data_df['total_data'] = total_data.values"
   ]
  },
  {
   "cell_type": "code",
   "execution_count": 33,
   "metadata": {},
   "outputs": [
    {
     "data": {
      "text/html": [
       "<div>\n",
       "<style scoped>\n",
       "    .dataframe tbody tr th:only-of-type {\n",
       "        vertical-align: middle;\n",
       "    }\n",
       "\n",
       "    .dataframe tbody tr th {\n",
       "        vertical-align: top;\n",
       "    }\n",
       "\n",
       "    .dataframe thead th {\n",
       "        text-align: right;\n",
       "    }\n",
       "</style>\n",
       "<table border=\"1\" class=\"dataframe\">\n",
       "  <thead>\n",
       "    <tr style=\"text-align: right;\">\n",
       "      <th></th>\n",
       "      <th>User_ID</th>\n",
       "      <th>Sessions</th>\n",
       "    </tr>\n",
       "  </thead>\n",
       "  <tbody>\n",
       "    <tr>\n",
       "      <th>0</th>\n",
       "      <td>24.239686</td>\n",
       "      <td>1067</td>\n",
       "    </tr>\n",
       "    <tr>\n",
       "      <th>1</th>\n",
       "      <td>24.238575</td>\n",
       "      <td>18</td>\n",
       "    </tr>\n",
       "    <tr>\n",
       "      <th>2</th>\n",
       "      <td>24.238235</td>\n",
       "      <td>17</td>\n",
       "    </tr>\n",
       "    <tr>\n",
       "      <th>3</th>\n",
       "      <td>24.238559</td>\n",
       "      <td>17</td>\n",
       "    </tr>\n",
       "    <tr>\n",
       "      <th>4</th>\n",
       "      <td>24.239568</td>\n",
       "      <td>16</td>\n",
       "    </tr>\n",
       "  </tbody>\n",
       "</table>\n",
       "</div>"
      ],
      "text/plain": [
       "     User_ID  Sessions\n",
       "0  24.239686      1067\n",
       "1  24.238575        18\n",
       "2  24.238235        17\n",
       "3  24.238559        17\n",
       "4  24.239568        16"
      ]
     },
     "execution_count": 33,
     "metadata": {},
     "output_type": "execute_result"
    }
   ],
   "source": [
    "sesssions_df.head()"
   ]
  },
  {
   "cell_type": "code",
   "execution_count": 34,
   "metadata": {},
   "outputs": [
    {
     "data": {
      "text/html": [
       "<div>\n",
       "<style scoped>\n",
       "    .dataframe tbody tr th:only-of-type {\n",
       "        vertical-align: middle;\n",
       "    }\n",
       "\n",
       "    .dataframe tbody tr th {\n",
       "        vertical-align: top;\n",
       "    }\n",
       "\n",
       "    .dataframe thead th {\n",
       "        text-align: right;\n",
       "    }\n",
       "</style>\n",
       "<table border=\"1\" class=\"dataframe\">\n",
       "  <thead>\n",
       "    <tr style=\"text-align: right;\">\n",
       "      <th></th>\n",
       "      <th>User_ID</th>\n",
       "      <th>duration</th>\n",
       "    </tr>\n",
       "  </thead>\n",
       "  <tbody>\n",
       "    <tr>\n",
       "      <th>0</th>\n",
       "      <td>24.239686</td>\n",
       "      <td>11474.784780</td>\n",
       "    </tr>\n",
       "    <tr>\n",
       "      <th>1</th>\n",
       "      <td>24.238559</td>\n",
       "      <td>233.413129</td>\n",
       "    </tr>\n",
       "    <tr>\n",
       "      <th>2</th>\n",
       "      <td>24.238575</td>\n",
       "      <td>231.977427</td>\n",
       "    </tr>\n",
       "    <tr>\n",
       "      <th>3</th>\n",
       "      <td>24.238235</td>\n",
       "      <td>222.446521</td>\n",
       "    </tr>\n",
       "    <tr>\n",
       "      <th>4</th>\n",
       "      <td>24.239568</td>\n",
       "      <td>198.016024</td>\n",
       "    </tr>\n",
       "  </tbody>\n",
       "</table>\n",
       "</div>"
      ],
      "text/plain": [
       "     User_ID      duration\n",
       "0  24.239686  11474.784780\n",
       "1  24.238559    233.413129\n",
       "2  24.238575    231.977427\n",
       "3  24.238235    222.446521\n",
       "4  24.239568    198.016024"
      ]
     },
     "execution_count": 34,
     "metadata": {},
     "output_type": "execute_result"
    }
   ],
   "source": [
    "durations_df.head()"
   ]
  },
  {
   "cell_type": "code",
   "execution_count": 30,
   "metadata": {},
   "outputs": [
    {
     "data": {
      "text/html": [
       "<div>\n",
       "<style scoped>\n",
       "    .dataframe tbody tr th:only-of-type {\n",
       "        vertical-align: middle;\n",
       "    }\n",
       "\n",
       "    .dataframe tbody tr th {\n",
       "        vertical-align: top;\n",
       "    }\n",
       "\n",
       "    .dataframe thead th {\n",
       "        text-align: right;\n",
       "    }\n",
       "</style>\n",
       "<table border=\"1\" class=\"dataframe\">\n",
       "  <thead>\n",
       "    <tr style=\"text-align: right;\">\n",
       "      <th></th>\n",
       "      <th>User_ID</th>\n",
       "      <th>total_data</th>\n",
       "    </tr>\n",
       "  </thead>\n",
       "  <tbody>\n",
       "    <tr>\n",
       "      <th>0</th>\n",
       "      <td>24.239686</td>\n",
       "      <td>6451.672649</td>\n",
       "    </tr>\n",
       "    <tr>\n",
       "      <th>1</th>\n",
       "      <td>24.238575</td>\n",
       "      <td>107.793076</td>\n",
       "    </tr>\n",
       "    <tr>\n",
       "      <th>2</th>\n",
       "      <td>24.238235</td>\n",
       "      <td>103.652870</td>\n",
       "    </tr>\n",
       "    <tr>\n",
       "      <th>3</th>\n",
       "      <td>24.238559</td>\n",
       "      <td>103.623238</td>\n",
       "    </tr>\n",
       "    <tr>\n",
       "      <th>4</th>\n",
       "      <td>24.239568</td>\n",
       "      <td>95.490500</td>\n",
       "    </tr>\n",
       "  </tbody>\n",
       "</table>\n",
       "</div>"
      ],
      "text/plain": [
       "     User_ID   total_data\n",
       "0  24.239686  6451.672649\n",
       "1  24.238575   107.793076\n",
       "2  24.238235   103.652870\n",
       "3  24.238559   103.623238\n",
       "4  24.239568    95.490500"
      ]
     },
     "execution_count": 30,
     "metadata": {},
     "output_type": "execute_result"
    }
   ],
   "source": [
    "total_data_df.head()"
   ]
  },
  {
   "cell_type": "code",
   "execution_count": 35,
   "metadata": {},
   "outputs": [
    {
     "data": {
      "text/plain": [
       "[]"
      ]
     },
     "execution_count": 35,
     "metadata": {},
     "output_type": "execute_result"
    },
    {
     "data": {
      "image/png": "[encoded data removed]",
      "text/plain": [
       "<Figure size 1800x360 with 3 Axes>"
      ]
     },
     "metadata": {
      "needs_background": "light"
     },
     "output_type": "display_data"
    }
   ],
   "source": [
    "f, axes = plt.subplots(1, 3, figsize=(25, 5))\n",
    "ax1 = sns.barplot(data=sesssions_df, x='User_ID', orient='v', y='Sessions', ax=axes[0])\n",
    "ax2 = sns.barplot(data=durations_df, x='User_ID',orient='v', y='duration', ax=axes[1])\n",
    "ax3 = sns.barplot(data=total_data_df, x='User_ID',orient='v', y='total_data', ax=axes[2])\n",
    "ax1.set_xticklabels(ax1.xaxis.get_majorticklabels(), rotation=45)\n",
    "ax2.set_xticklabels(ax2.xaxis.get_majorticklabels(), rotation=45)\n",
    "ax3.set_xticklabels(ax3.xaxis.get_majorticklabels(), rotation=45)\n",
    "plt.plot()"
   ]
  },
  {
   "cell_type": "code",
   "execution_count": 36,
   "metadata": {},
   "outputs": [],
   "source": [
    "from sklearn.preprocessing import Normalizer\n",
    "\n",
    "def normalizer(df, columns):\n",
    "    norm = Normalizer()\n",
    "    # normalize the exponential data with boxcox\n",
    "    normalized_data = norm.fit_transform(df)\n",
    "\n",
    "    # plot both together to compare\n",
    "    fig, ax=plt.subplots(1,2, figsize=(10, 6))\n",
    "    sns.histplot(df, ax=ax[0])\n",
    "    ax[0].set_title(\"Original Data\")\n",
    "    sns.histplot(normalized_data[0], ax=ax[1])\n",
    "    ax[1].set_title(\"Normalized data\")\n",
    "    return pd.DataFrame(norm.fit_transform(df), columns=columns)\n"
   ]
  },
  {
   "cell_type": "code",
   "execution_count": 38,
   "metadata": {},
   "outputs": [
    {
     "data": {
      "image/png": "[encoded data removed]",
      "text/plain": [
       "<Figure size 720x432 with 2 Axes>"
      ]
     },
     "metadata": {
      "needs_background": "light"
     },
     "output_type": "display_data"
    }
   ],
   "source": [
    "normalized_user_engagement = normalizer(user_engagement, ['sessions', 'Dur. (ms)', 'total_data'] )"
   ]
  },
  {
   "cell_type": "code",
   "execution_count": 39,
   "metadata": {},
   "outputs": [
    {
     "data": {
      "text/html": [
       "<div>\n",
       "<style scoped>\n",
       "    .dataframe tbody tr th:only-of-type {\n",
       "        vertical-align: middle;\n",
       "    }\n",
       "\n",
       "    .dataframe tbody tr th {\n",
       "        vertical-align: top;\n",
       "    }\n",
       "\n",
       "    .dataframe thead th {\n",
       "        text-align: right;\n",
       "    }\n",
       "</style>\n",
       "<table border=\"1\" class=\"dataframe\">\n",
       "  <thead>\n",
       "    <tr style=\"text-align: right;\">\n",
       "      <th></th>\n",
       "      <th>sessions</th>\n",
       "      <th>Dur. (ms)</th>\n",
       "      <th>total_data</th>\n",
       "    </tr>\n",
       "  </thead>\n",
       "  <tbody>\n",
       "    <tr>\n",
       "      <th>0</th>\n",
       "      <td>0.073906</td>\n",
       "      <td>0.862304</td>\n",
       "      <td>0.500969</td>\n",
       "    </tr>\n",
       "    <tr>\n",
       "      <th>1</th>\n",
       "      <td>0.075996</td>\n",
       "      <td>0.920123</td>\n",
       "      <td>0.384186</td>\n",
       "    </tr>\n",
       "    <tr>\n",
       "      <th>2</th>\n",
       "      <td>0.074252</td>\n",
       "      <td>0.877126</td>\n",
       "      <td>0.474485</td>\n",
       "    </tr>\n",
       "    <tr>\n",
       "      <th>3</th>\n",
       "      <td>0.080435</td>\n",
       "      <td>0.870088</td>\n",
       "      <td>0.486289</td>\n",
       "    </tr>\n",
       "    <tr>\n",
       "      <th>4</th>\n",
       "      <td>0.084280</td>\n",
       "      <td>0.828335</td>\n",
       "      <td>0.553857</td>\n",
       "    </tr>\n",
       "  </tbody>\n",
       "</table>\n",
       "</div>"
      ],
      "text/plain": [
       "   sessions  Dur. (ms)  total_data\n",
       "0  0.073906   0.862304    0.500969\n",
       "1  0.075996   0.920123    0.384186\n",
       "2  0.074252   0.877126    0.474485\n",
       "3  0.080435   0.870088    0.486289\n",
       "4  0.084280   0.828335    0.553857"
      ]
     },
     "execution_count": 39,
     "metadata": {},
     "output_type": "execute_result"
    }
   ],
   "source": [
    "normalized_user_engagement.head()"
   ]
  },
  {
   "cell_type": "code",
   "execution_count": 40,
   "metadata": {},
   "outputs": [
    {
     "data": {
      "text/html": [
       "<div>\n",
       "<style scoped>\n",
       "    .dataframe tbody tr th:only-of-type {\n",
       "        vertical-align: middle;\n",
       "    }\n",
       "\n",
       "    .dataframe tbody tr th {\n",
       "        vertical-align: top;\n",
       "    }\n",
       "\n",
       "    .dataframe thead th {\n",
       "        text-align: right;\n",
       "    }\n",
       "</style>\n",
       "<table border=\"1\" class=\"dataframe\">\n",
       "  <thead>\n",
       "    <tr style=\"text-align: right;\">\n",
       "      <th></th>\n",
       "      <th>sessions</th>\n",
       "      <th>Dur. (ms)</th>\n",
       "      <th>total_data</th>\n",
       "    </tr>\n",
       "  </thead>\n",
       "  <tbody>\n",
       "    <tr>\n",
       "      <th>count</th>\n",
       "      <td>106856.000000</td>\n",
       "      <td>106856.000000</td>\n",
       "      <td>106856.000000</td>\n",
       "    </tr>\n",
       "    <tr>\n",
       "      <th>mean</th>\n",
       "      <td>0.077967</td>\n",
       "      <td>0.877781</td>\n",
       "      <td>0.470060</td>\n",
       "    </tr>\n",
       "    <tr>\n",
       "      <th>std</th>\n",
       "      <td>0.004361</td>\n",
       "      <td>0.023141</td>\n",
       "      <td>0.043711</td>\n",
       "    </tr>\n",
       "    <tr>\n",
       "      <th>min</th>\n",
       "      <td>0.063789</td>\n",
       "      <td>0.792003</td>\n",
       "      <td>0.277730</td>\n",
       "    </tr>\n",
       "    <tr>\n",
       "      <th>25%</th>\n",
       "      <td>0.075117</td>\n",
       "      <td>0.863705</td>\n",
       "      <td>0.444631</td>\n",
       "    </tr>\n",
       "    <tr>\n",
       "      <th>50%</th>\n",
       "      <td>0.077088</td>\n",
       "      <td>0.876988</td>\n",
       "      <td>0.474364</td>\n",
       "    </tr>\n",
       "    <tr>\n",
       "      <th>75%</th>\n",
       "      <td>0.080240</td>\n",
       "      <td>0.892356</td>\n",
       "      <td>0.498022</td>\n",
       "    </tr>\n",
       "    <tr>\n",
       "      <th>max</th>\n",
       "      <td>0.100446</td>\n",
       "      <td>0.957425</td>\n",
       "      <td>0.604044</td>\n",
       "    </tr>\n",
       "  </tbody>\n",
       "</table>\n",
       "</div>"
      ],
      "text/plain": [
       "            sessions      Dur. (ms)     total_data\n",
       "count  106856.000000  106856.000000  106856.000000\n",
       "mean        0.077967       0.877781       0.470060\n",
       "std         0.004361       0.023141       0.043711\n",
       "min         0.063789       0.792003       0.277730\n",
       "25%         0.075117       0.863705       0.444631\n",
       "50%         0.077088       0.876988       0.474364\n",
       "75%         0.080240       0.892356       0.498022\n",
       "max         0.100446       0.957425       0.604044"
      ]
     },
     "execution_count": 40,
     "metadata": {},
     "output_type": "execute_result"
    }
   ],
   "source": [
    "normalized_user_engagement.describe()"
   ]
  },
  {
   "cell_type": "code",
   "execution_count": 45,
   "metadata": {},
   "outputs": [],
   "source": [
    "normalized__eng = normalized_user_engagement.copy()"
   ]
  },
  {
   "cell_type": "code",
   "execution_count": 46,
   "metadata": {},
   "outputs": [
    {
     "data": {
      "image/png": "[encoded data removed]",
      "text/plain": [
       "<Figure size 1080x432 with 2 Axes>"
      ]
     },
     "metadata": {
      "needs_background": "light"
     },
     "output_type": "display_data"
    }
   ],
   "source": [
    "plt.figure(figsize=(15,6))\n",
    "plt.subplot(1,2,1)\n",
    "sns.violinplot(y=user_engagement[\"Dur. (ms)\"])\n",
    "# sns.boxplot(y=user_engagement[\"dur._(ms)\"], color=\"red\")\n",
    "plt.subplot(1,2,2)\n",
    "sns.violinplot(y=user_engagement[\"sessions\"])\n",
    "# sns.boxplot(y=user_engagement[\"total_data\"])\n",
    "plt.show()"
   ]
  },
  {
   "cell_type": "code",
   "execution_count": 48,
   "metadata": {},
   "outputs": [],
   "source": [
    "kmeans = KMeans(init=\"random\",n_clusters=3,n_init=10,max_iter=300,random_state=42)\n",
    "label = kmeans.fit_predict(normalized__eng)\n",
    "centroids = kmeans.cluster_centers_"
   ]
  },
  {
   "cell_type": "code",
   "execution_count": 49,
   "metadata": {},
   "outputs": [
    {
     "data": {
      "image/png": "[encoded data removed]",
      "text/plain": [
       "<Figure size 720x360 with 1 Axes>"
      ]
     },
     "metadata": {
      "needs_background": "light"
     },
     "output_type": "display_data"
    }
   ],
   "source": [
    "lables_unique = np.unique(label)\n",
    "#plotting the results:\n",
    "plt.figure(figsize=(10,5))\n",
    "plt.title('User K-Means Classification with 3 Groups (Standardized Data)')\n",
    "for i in lables_unique:\n",
    "    plt.scatter(normalized__eng[label == i].iloc[:,0] , normalized__eng[label == i].iloc[:,1], marker='o', label = i)\n",
    "plt.scatter(centroids[:,0] , centroids[:,1],centroids[:,2], marker='x', color = 'black')\n",
    "plt.legend()\n",
    "plt.show()"
   ]
  },
  {
   "cell_type": "code",
   "execution_count": 52,
   "metadata": {},
   "outputs": [
    {
     "name": "stdout",
     "output_type": "stream",
     "text": [
      "[27/Aug/2022 17:41:36] INFO - # Centroids of the clustering:\n",
      "[[0.08009894 0.85048028 0.51926622]\n",
      " [0.07818572 0.90938692 0.40752989]\n",
      " [0.07670908 0.87904351 0.47018571]]\n",
      "[27/Aug/2022 17:41:36] INFO - # The number of iterations required to converge: 55.23557709160564\n",
      "[27/Aug/2022 17:41:36] INFO - # The number of iterations required to converge: 11\n"
     ]
    }
   ],
   "source": [
    "loggers.info(f'# Centroids of the clustering:\\n{centroids}')\n",
    "loggers.info(f'# The number of iterations required to converge: {kmeans.inertia_}')\n",
    "loggers.info(f'# The number of iterations required to converge: {kmeans.n_iter_}')"
   ]
  },
  {
   "cell_type": "code",
   "execution_count": 53,
   "metadata": {},
   "outputs": [
    {
     "data": {
      "text/html": [
       "<div>\n",
       "<style scoped>\n",
       "    .dataframe tbody tr th:only-of-type {\n",
       "        vertical-align: middle;\n",
       "    }\n",
       "\n",
       "    .dataframe tbody tr th {\n",
       "        vertical-align: top;\n",
       "    }\n",
       "\n",
       "    .dataframe thead th {\n",
       "        text-align: right;\n",
       "    }\n",
       "</style>\n",
       "<table border=\"1\" class=\"dataframe\">\n",
       "  <thead>\n",
       "    <tr style=\"text-align: right;\">\n",
       "      <th></th>\n",
       "      <th>sessions</th>\n",
       "      <th>Dur. (ms)</th>\n",
       "      <th>total_data</th>\n",
       "    </tr>\n",
       "  </thead>\n",
       "  <tbody>\n",
       "    <tr>\n",
       "      <th>0</th>\n",
       "      <td>0.073906</td>\n",
       "      <td>0.862304</td>\n",
       "      <td>0.500969</td>\n",
       "    </tr>\n",
       "    <tr>\n",
       "      <th>1</th>\n",
       "      <td>0.075996</td>\n",
       "      <td>0.920123</td>\n",
       "      <td>0.384186</td>\n",
       "    </tr>\n",
       "    <tr>\n",
       "      <th>2</th>\n",
       "      <td>0.074252</td>\n",
       "      <td>0.877126</td>\n",
       "      <td>0.474485</td>\n",
       "    </tr>\n",
       "    <tr>\n",
       "      <th>3</th>\n",
       "      <td>0.080435</td>\n",
       "      <td>0.870088</td>\n",
       "      <td>0.486289</td>\n",
       "    </tr>\n",
       "    <tr>\n",
       "      <th>4</th>\n",
       "      <td>0.084280</td>\n",
       "      <td>0.828335</td>\n",
       "      <td>0.553857</td>\n",
       "    </tr>\n",
       "  </tbody>\n",
       "</table>\n",
       "</div>"
      ],
      "text/plain": [
       "   sessions  Dur. (ms)  total_data\n",
       "0  0.073906   0.862304    0.500969\n",
       "1  0.075996   0.920123    0.384186\n",
       "2  0.074252   0.877126    0.474485\n",
       "3  0.080435   0.870088    0.486289\n",
       "4  0.084280   0.828335    0.553857"
      ]
     },
     "execution_count": 53,
     "metadata": {},
     "output_type": "execute_result"
    }
   ],
   "source": [
    "normalized__eng.head()"
   ]
  },
  {
   "cell_type": "code",
   "execution_count": 54,
   "metadata": {},
   "outputs": [],
   "source": [
    "clustered_Df = pd.DataFrame()\n",
    "clustered_Df['data_index'] = normalized__eng.index.values\n",
    "clustered_Df['cluster'] = kmeans.labels_"
   ]
  },
  {
   "cell_type": "code",
   "execution_count": 55,
   "metadata": {},
   "outputs": [
    {
     "data": {
      "text/plain": [
       "2    53985\n",
       "0    29610\n",
       "1    23261\n",
       "Name: cluster, dtype: int64"
      ]
     },
     "execution_count": 55,
     "metadata": {},
     "output_type": "execute_result"
    }
   ],
   "source": [
    "clustered_Df.cluster.value_counts()"
   ]
  },
  {
   "cell_type": "code",
   "execution_count": 56,
   "metadata": {},
   "outputs": [],
   "source": [
    "u_eng = user_engagement.copy()"
   ]
  },
  {
   "cell_type": "code",
   "execution_count": 57,
   "metadata": {},
   "outputs": [
    {
     "data": {
      "text/html": [
       "<div>\n",
       "<style scoped>\n",
       "    .dataframe tbody tr th:only-of-type {\n",
       "        vertical-align: middle;\n",
       "    }\n",
       "\n",
       "    .dataframe tbody tr th {\n",
       "        vertical-align: top;\n",
       "    }\n",
       "\n",
       "    .dataframe thead th {\n",
       "        text-align: right;\n",
       "    }\n",
       "</style>\n",
       "<table border=\"1\" class=\"dataframe\">\n",
       "  <thead>\n",
       "    <tr style=\"text-align: right;\">\n",
       "      <th></th>\n",
       "      <th>cluster</th>\n",
       "      <th>sessions</th>\n",
       "      <th>Dur. (ms)</th>\n",
       "      <th>total_data</th>\n",
       "    </tr>\n",
       "    <tr>\n",
       "      <th>MSISDN/Number</th>\n",
       "      <th></th>\n",
       "      <th></th>\n",
       "      <th></th>\n",
       "      <th></th>\n",
       "    </tr>\n",
       "  </thead>\n",
       "  <tbody>\n",
       "    <tr>\n",
       "      <th>24.237822</th>\n",
       "      <td>0</td>\n",
       "      <td>1</td>\n",
       "      <td>11.667533</td>\n",
       "      <td>6.778433</td>\n",
       "    </tr>\n",
       "    <tr>\n",
       "      <th>24.237822</th>\n",
       "      <td>1</td>\n",
       "      <td>1</td>\n",
       "      <td>12.107522</td>\n",
       "      <td>5.055351</td>\n",
       "    </tr>\n",
       "    <tr>\n",
       "      <th>24.237822</th>\n",
       "      <td>2</td>\n",
       "      <td>1</td>\n",
       "      <td>11.812800</td>\n",
       "      <td>6.390184</td>\n",
       "    </tr>\n",
       "    <tr>\n",
       "      <th>24.237822</th>\n",
       "      <td>2</td>\n",
       "      <td>1</td>\n",
       "      <td>10.817335</td>\n",
       "      <td>6.045765</td>\n",
       "    </tr>\n",
       "    <tr>\n",
       "      <th>24.237822</th>\n",
       "      <td>0</td>\n",
       "      <td>2</td>\n",
       "      <td>19.656666</td>\n",
       "      <td>13.143197</td>\n",
       "    </tr>\n",
       "  </tbody>\n",
       "</table>\n",
       "</div>"
      ],
      "text/plain": [
       "               cluster  sessions  Dur. (ms)  total_data\n",
       "MSISDN/Number                                          \n",
       "24.237822            0         1  11.667533    6.778433\n",
       "24.237822            1         1  12.107522    5.055351\n",
       "24.237822            2         1  11.812800    6.390184\n",
       "24.237822            2         1  10.817335    6.045765\n",
       "24.237822            0         2  19.656666   13.143197"
      ]
     },
     "execution_count": 57,
     "metadata": {},
     "output_type": "execute_result"
    }
   ],
   "source": [
    "u_eng.insert(0, 'cluster', kmeans.labels_)\n",
    "u_eng.head(5)"
   ]
  },
  {
   "cell_type": "code",
   "execution_count": 58,
   "metadata": {},
   "outputs": [
    {
     "data": {
      "text/html": [
       "<div>\n",
       "<style scoped>\n",
       "    .dataframe tbody tr th:only-of-type {\n",
       "        vertical-align: middle;\n",
       "    }\n",
       "\n",
       "    .dataframe tbody tr th {\n",
       "        vertical-align: top;\n",
       "    }\n",
       "\n",
       "    .dataframe thead th {\n",
       "        text-align: right;\n",
       "    }\n",
       "</style>\n",
       "<table border=\"1\" class=\"dataframe\">\n",
       "  <thead>\n",
       "    <tr style=\"text-align: right;\">\n",
       "      <th></th>\n",
       "      <th>cluster</th>\n",
       "      <th>sessions</th>\n",
       "      <th>Dur. (ms)</th>\n",
       "      <th>total_data</th>\n",
       "    </tr>\n",
       "  </thead>\n",
       "  <tbody>\n",
       "    <tr>\n",
       "      <th>count</th>\n",
       "      <td>29610.0</td>\n",
       "      <td>29610.000000</td>\n",
       "      <td>29610.000000</td>\n",
       "      <td>29610.000000</td>\n",
       "    </tr>\n",
       "    <tr>\n",
       "      <th>mean</th>\n",
       "      <td>0.0</td>\n",
       "      <td>1.242891</td>\n",
       "      <td>13.250092</td>\n",
       "      <td>8.049641</td>\n",
       "    </tr>\n",
       "    <tr>\n",
       "      <th>std</th>\n",
       "      <td>0.0</td>\n",
       "      <td>0.523265</td>\n",
       "      <td>5.705725</td>\n",
       "      <td>3.337156</td>\n",
       "    </tr>\n",
       "    <tr>\n",
       "      <th>min</th>\n",
       "      <td>0.0</td>\n",
       "      <td>1.000000</td>\n",
       "      <td>8.873748</td>\n",
       "      <td>5.161386</td>\n",
       "    </tr>\n",
       "    <tr>\n",
       "      <th>25%</th>\n",
       "      <td>0.0</td>\n",
       "      <td>1.000000</td>\n",
       "      <td>10.253942</td>\n",
       "      <td>6.471567</td>\n",
       "    </tr>\n",
       "    <tr>\n",
       "      <th>50%</th>\n",
       "      <td>0.0</td>\n",
       "      <td>1.000000</td>\n",
       "      <td>11.136500</td>\n",
       "      <td>6.669994</td>\n",
       "    </tr>\n",
       "    <tr>\n",
       "      <th>75%</th>\n",
       "      <td>0.0</td>\n",
       "      <td>1.000000</td>\n",
       "      <td>11.561330</td>\n",
       "      <td>6.804740</td>\n",
       "    </tr>\n",
       "    <tr>\n",
       "      <th>max</th>\n",
       "      <td>0.0</td>\n",
       "      <td>7.000000</td>\n",
       "      <td>70.557294</td>\n",
       "      <td>43.870378</td>\n",
       "    </tr>\n",
       "  </tbody>\n",
       "</table>\n",
       "</div>"
      ],
      "text/plain": [
       "       cluster      sessions     Dur. (ms)    total_data\n",
       "count  29610.0  29610.000000  29610.000000  29610.000000\n",
       "mean       0.0      1.242891     13.250092      8.049641\n",
       "std        0.0      0.523265      5.705725      3.337156\n",
       "min        0.0      1.000000      8.873748      5.161386\n",
       "25%        0.0      1.000000     10.253942      6.471567\n",
       "50%        0.0      1.000000     11.136500      6.669994\n",
       "75%        0.0      1.000000     11.561330      6.804740\n",
       "max        0.0      7.000000     70.557294     43.870378"
      ]
     },
     "execution_count": 58,
     "metadata": {},
     "output_type": "execute_result"
    }
   ],
   "source": [
    "cluster1 = u_eng[u_eng[\"cluster\"]==0]\n",
    "cluster1.describe()"
   ]
  },
  {
   "cell_type": "code",
   "execution_count": 59,
   "metadata": {},
   "outputs": [
    {
     "data": {
      "text/html": [
       "<div>\n",
       "<style scoped>\n",
       "    .dataframe tbody tr th:only-of-type {\n",
       "        vertical-align: middle;\n",
       "    }\n",
       "\n",
       "    .dataframe tbody tr th {\n",
       "        vertical-align: top;\n",
       "    }\n",
       "\n",
       "    .dataframe thead th {\n",
       "        text-align: right;\n",
       "    }\n",
       "</style>\n",
       "<table border=\"1\" class=\"dataframe\">\n",
       "  <thead>\n",
       "    <tr style=\"text-align: right;\">\n",
       "      <th></th>\n",
       "      <th>cluster</th>\n",
       "      <th>sessions</th>\n",
       "      <th>Dur. (ms)</th>\n",
       "      <th>total_data</th>\n",
       "    </tr>\n",
       "  </thead>\n",
       "  <tbody>\n",
       "    <tr>\n",
       "      <th>count</th>\n",
       "      <td>23261.0</td>\n",
       "      <td>23261.000000</td>\n",
       "      <td>23261.000000</td>\n",
       "      <td>23261.000000</td>\n",
       "    </tr>\n",
       "    <tr>\n",
       "      <th>mean</th>\n",
       "      <td>1.0</td>\n",
       "      <td>1.324922</td>\n",
       "      <td>15.506116</td>\n",
       "      <td>7.021615</td>\n",
       "    </tr>\n",
       "    <tr>\n",
       "      <th>std</th>\n",
       "      <td>0.0</td>\n",
       "      <td>0.832235</td>\n",
       "      <td>10.216663</td>\n",
       "      <td>4.890089</td>\n",
       "    </tr>\n",
       "    <tr>\n",
       "      <th>min</th>\n",
       "      <td>1.0</td>\n",
       "      <td>1.000000</td>\n",
       "      <td>8.991438</td>\n",
       "      <td>3.504025</td>\n",
       "    </tr>\n",
       "    <tr>\n",
       "      <th>25%</th>\n",
       "      <td>1.0</td>\n",
       "      <td>1.000000</td>\n",
       "      <td>11.366743</td>\n",
       "      <td>4.930699</td>\n",
       "    </tr>\n",
       "    <tr>\n",
       "      <th>50%</th>\n",
       "      <td>1.0</td>\n",
       "      <td>1.000000</td>\n",
       "      <td>11.884317</td>\n",
       "      <td>5.379832</td>\n",
       "    </tr>\n",
       "    <tr>\n",
       "      <th>75%</th>\n",
       "      <td>1.0</td>\n",
       "      <td>1.000000</td>\n",
       "      <td>12.611331</td>\n",
       "      <td>5.888051</td>\n",
       "    </tr>\n",
       "    <tr>\n",
       "      <th>max</th>\n",
       "      <td>1.0</td>\n",
       "      <td>18.000000</td>\n",
       "      <td>233.413129</td>\n",
       "      <td>107.793076</td>\n",
       "    </tr>\n",
       "  </tbody>\n",
       "</table>\n",
       "</div>"
      ],
      "text/plain": [
       "       cluster      sessions     Dur. (ms)    total_data\n",
       "count  23261.0  23261.000000  23261.000000  23261.000000\n",
       "mean       1.0      1.324922     15.506116      7.021615\n",
       "std        0.0      0.832235     10.216663      4.890089\n",
       "min        1.0      1.000000      8.991438      3.504025\n",
       "25%        1.0      1.000000     11.366743      4.930699\n",
       "50%        1.0      1.000000     11.884317      5.379832\n",
       "75%        1.0      1.000000     12.611331      5.888051\n",
       "max        1.0     18.000000    233.413129    107.793076"
      ]
     },
     "execution_count": 59,
     "metadata": {},
     "output_type": "execute_result"
    }
   ],
   "source": [
    "cluster2 = u_eng[u_eng[\"cluster\"] == 1]\n",
    "cluster2.describe()"
   ]
  },
  {
   "cell_type": "code",
   "execution_count": 60,
   "metadata": {},
   "outputs": [
    {
     "data": {
      "text/html": [
       "<div>\n",
       "<style scoped>\n",
       "    .dataframe tbody tr th:only-of-type {\n",
       "        vertical-align: middle;\n",
       "    }\n",
       "\n",
       "    .dataframe tbody tr th {\n",
       "        vertical-align: top;\n",
       "    }\n",
       "\n",
       "    .dataframe thead th {\n",
       "        text-align: right;\n",
       "    }\n",
       "</style>\n",
       "<table border=\"1\" class=\"dataframe\">\n",
       "  <thead>\n",
       "    <tr style=\"text-align: right;\">\n",
       "      <th></th>\n",
       "      <th>cluster</th>\n",
       "      <th>sessions</th>\n",
       "      <th>Dur. (ms)</th>\n",
       "      <th>total_data</th>\n",
       "    </tr>\n",
       "  </thead>\n",
       "  <tbody>\n",
       "    <tr>\n",
       "      <th>count</th>\n",
       "      <td>53985.0</td>\n",
       "      <td>53985.000000</td>\n",
       "      <td>53985.000000</td>\n",
       "      <td>53985.000000</td>\n",
       "    </tr>\n",
       "    <tr>\n",
       "      <th>mean</th>\n",
       "      <td>2.0</td>\n",
       "      <td>1.525979</td>\n",
       "      <td>17.492390</td>\n",
       "      <td>9.341799</td>\n",
       "    </tr>\n",
       "    <tr>\n",
       "      <th>std</th>\n",
       "      <td>0.0</td>\n",
       "      <td>4.673291</td>\n",
       "      <td>50.389580</td>\n",
       "      <td>28.261969</td>\n",
       "    </tr>\n",
       "    <tr>\n",
       "      <th>min</th>\n",
       "      <td>2.0</td>\n",
       "      <td>1.000000</td>\n",
       "      <td>8.894670</td>\n",
       "      <td>4.492538</td>\n",
       "    </tr>\n",
       "    <tr>\n",
       "      <th>25%</th>\n",
       "      <td>2.0</td>\n",
       "      <td>1.000000</td>\n",
       "      <td>11.366743</td>\n",
       "      <td>6.095191</td>\n",
       "    </tr>\n",
       "    <tr>\n",
       "      <th>50%</th>\n",
       "      <td>2.0</td>\n",
       "      <td>1.000000</td>\n",
       "      <td>11.940446</td>\n",
       "      <td>6.471265</td>\n",
       "    </tr>\n",
       "    <tr>\n",
       "      <th>75%</th>\n",
       "      <td>2.0</td>\n",
       "      <td>2.000000</td>\n",
       "      <td>22.733393</td>\n",
       "      <td>11.907636</td>\n",
       "    </tr>\n",
       "    <tr>\n",
       "      <th>max</th>\n",
       "      <td>2.0</td>\n",
       "      <td>1067.000000</td>\n",
       "      <td>11474.784780</td>\n",
       "      <td>6451.672649</td>\n",
       "    </tr>\n",
       "  </tbody>\n",
       "</table>\n",
       "</div>"
      ],
      "text/plain": [
       "       cluster      sessions     Dur. (ms)    total_data\n",
       "count  53985.0  53985.000000  53985.000000  53985.000000\n",
       "mean       2.0      1.525979     17.492390      9.341799\n",
       "std        0.0      4.673291     50.389580     28.261969\n",
       "min        2.0      1.000000      8.894670      4.492538\n",
       "25%        2.0      1.000000     11.366743      6.095191\n",
       "50%        2.0      1.000000     11.940446      6.471265\n",
       "75%        2.0      2.000000     22.733393     11.907636\n",
       "max        2.0   1067.000000  11474.784780   6451.672649"
      ]
     },
     "execution_count": 60,
     "metadata": {},
     "output_type": "execute_result"
    }
   ],
   "source": [
    "cluster3 = u_eng[u_eng[\"cluster\"] == 2]\n",
    "cluster3.describe()"
   ]
  },
  {
   "cell_type": "code",
   "execution_count": 61,
   "metadata": {},
   "outputs": [
    {
     "data": {
      "text/plain": [
       "53985"
      ]
     },
     "execution_count": 61,
     "metadata": {},
     "output_type": "execute_result"
    }
   ],
   "source": [
    "cluster3.sessions.count()"
   ]
  },
  {
   "cell_type": "code",
   "execution_count": 62,
   "metadata": {},
   "outputs": [
    {
     "name": "stdout",
     "output_type": "stream",
     "text": [
      "[27/Aug/2022 17:41:51] INFO - Plotting a pie chart\n"
     ]
    },
    {
     "data": {
      "image/png": "[encoded data removed]",
      "text/plain": [
       "<Figure size 864x504 with 1 Axes>"
      ]
     },
     "metadata": {},
     "output_type": "display_data"
    }
   ],
   "source": [
    "data = [cluster1.sessions.count(), cluster2.sessions.count(), cluster3.sessions.count()]\n",
    "keys = ['Cluster 1', 'Cluster 2', 'Cluster 3']\n",
    "# define Seaborn color palette to use\n",
    "pl.plot_pie(data, keys, \"Cluster Distribution Count\")"
   ]
  },
  {
   "cell_type": "code",
   "execution_count": 64,
   "metadata": {},
   "outputs": [],
   "source": [
    "user_app_usage = df.groupby(\n",
    "    'MSISDN/Number').agg({ 'social_media': 'sum', 'gaming': 'sum', 'youtube': 'sum', 'netflix': 'sum', 'google': 'sum', 'email': 'sum', 'other': 'sum'})\n"
   ]
  },
  {
   "cell_type": "code",
   "execution_count": 65,
   "metadata": {},
   "outputs": [
    {
     "data": {
      "text/html": [
       "<div>\n",
       "<style scoped>\n",
       "    .dataframe tbody tr th:only-of-type {\n",
       "        vertical-align: middle;\n",
       "    }\n",
       "\n",
       "    .dataframe tbody tr th {\n",
       "        vertical-align: top;\n",
       "    }\n",
       "\n",
       "    .dataframe thead th {\n",
       "        text-align: right;\n",
       "    }\n",
       "</style>\n",
       "<table border=\"1\" class=\"dataframe\">\n",
       "  <thead>\n",
       "    <tr style=\"text-align: right;\">\n",
       "      <th></th>\n",
       "      <th>social_media</th>\n",
       "      <th>gaming</th>\n",
       "      <th>youtube</th>\n",
       "      <th>netflix</th>\n",
       "      <th>google</th>\n",
       "      <th>email</th>\n",
       "      <th>other</th>\n",
       "    </tr>\n",
       "    <tr>\n",
       "      <th>MSISDN/Number</th>\n",
       "      <th></th>\n",
       "      <th></th>\n",
       "      <th></th>\n",
       "      <th></th>\n",
       "      <th></th>\n",
       "      <th></th>\n",
       "      <th></th>\n",
       "    </tr>\n",
       "  </thead>\n",
       "  <tbody>\n",
       "    <tr>\n",
       "      <th>24.237822</th>\n",
       "      <td>24.758478</td>\n",
       "      <td>6.700065</td>\n",
       "      <td>-10.741681</td>\n",
       "      <td>-10.512993</td>\n",
       "      <td>-12.336408</td>\n",
       "      <td>-13.529308</td>\n",
       "      <td>5.957315</td>\n",
       "    </tr>\n",
       "    <tr>\n",
       "      <th>24.237822</th>\n",
       "      <td>25.805627</td>\n",
       "      <td>4.785407</td>\n",
       "      <td>-11.295219</td>\n",
       "      <td>-11.397656</td>\n",
       "      <td>-12.141247</td>\n",
       "      <td>-12.619233</td>\n",
       "      <td>5.640878</td>\n",
       "    </tr>\n",
       "    <tr>\n",
       "      <th>24.237822</th>\n",
       "      <td>25.733266</td>\n",
       "      <td>6.289396</td>\n",
       "      <td>-10.755229</td>\n",
       "      <td>-10.852617</td>\n",
       "      <td>-12.579131</td>\n",
       "      <td>-12.650680</td>\n",
       "      <td>6.217990</td>\n",
       "    </tr>\n",
       "    <tr>\n",
       "      <th>24.237822</th>\n",
       "      <td>22.704073</td>\n",
       "      <td>5.969030</td>\n",
       "      <td>-11.872846</td>\n",
       "      <td>-13.151745</td>\n",
       "      <td>-11.545604</td>\n",
       "      <td>-12.989289</td>\n",
       "      <td>3.563308</td>\n",
       "    </tr>\n",
       "    <tr>\n",
       "      <th>24.237822</th>\n",
       "      <td>48.636766</td>\n",
       "      <td>12.926592</td>\n",
       "      <td>-21.564513</td>\n",
       "      <td>-21.236933</td>\n",
       "      <td>-23.191775</td>\n",
       "      <td>-26.647301</td>\n",
       "      <td>11.031821</td>\n",
       "    </tr>\n",
       "  </tbody>\n",
       "</table>\n",
       "</div>"
      ],
      "text/plain": [
       "               social_media     gaming    youtube    netflix     google  \\\n",
       "MSISDN/Number                                                             \n",
       "24.237822         24.758478   6.700065 -10.741681 -10.512993 -12.336408   \n",
       "24.237822         25.805627   4.785407 -11.295219 -11.397656 -12.141247   \n",
       "24.237822         25.733266   6.289396 -10.755229 -10.852617 -12.579131   \n",
       "24.237822         22.704073   5.969030 -11.872846 -13.151745 -11.545604   \n",
       "24.237822         48.636766  12.926592 -21.564513 -21.236933 -23.191775   \n",
       "\n",
       "                   email      other  \n",
       "MSISDN/Number                        \n",
       "24.237822     -13.529308   5.957315  \n",
       "24.237822     -12.619233   5.640878  \n",
       "24.237822     -12.650680   6.217990  \n",
       "24.237822     -12.989289   3.563308  \n",
       "24.237822     -26.647301  11.031821  "
      ]
     },
     "execution_count": 65,
     "metadata": {},
     "output_type": "execute_result"
    }
   ],
   "source": [
    "user_app_usage.head()"
   ]
  },
  {
   "cell_type": "code",
   "execution_count": 67,
   "metadata": {},
   "outputs": [],
   "source": [
    "\n",
    "\n",
    "social_media = user_app_usage.nlargest(10, \"social_media\")['social_media']\n",
    "gaming = user_app_usage.nlargest(10, \"gaming\")['gaming']\n",
    "youtube = user_app_usage.nlargest(10, \"youtube\")['youtube']\n",
    "netflix = user_app_usage.nlargest(10, \"netflix\")['netflix']\n",
    "google = user_app_usage.nlargest(10, \"google\")['google']\n",
    "email = user_app_usage.nlargest(10, \"email\")['email']\n",
    "other = user_app_usage.nlargest(10, \"other\")['other']\n",
    "\n"
   ]
  },
  {
   "cell_type": "code",
   "execution_count": 68,
   "metadata": {},
   "outputs": [],
   "source": [
    "social_media_df = pd.DataFrame()\n",
    "social_media_df['User_ID'] = social_media.index\n",
    "social_media_df['social_media'] = social_media.values\n",
    "gaming_df = pd.DataFrame()\n",
    "gaming_df['User_ID'] = gaming.index\n",
    "gaming_df['gaming'] = gaming.values\n",
    "youtube_df = pd.DataFrame()\n",
    "youtube_df['User_ID'] = youtube.index\n",
    "youtube_df['youtube'] = youtube.values\n",
    "\n",
    "netflix_df = pd.DataFrame()\n",
    "netflix_df['User_ID'] = netflix.index\n",
    "netflix_df['netflix'] = netflix.values\n",
    "google_df = pd.DataFrame()\n",
    "google_df['User_ID'] = google.index\n",
    "google_df['google'] = google.values\n",
    "email_df = pd.DataFrame()\n",
    "email_df['User_ID'] = email.index\n",
    "email_df['email'] = email.values\n",
    "others_df = pd.DataFrame()\n",
    "others_df['User_ID'] = other.index\n",
    "others_df['other'] = other.values"
   ]
  },
  {
   "cell_type": "markdown",
   "metadata": {},
   "source": [
    "##### Most Engaged user per application"
   ]
  },
  {
   "cell_type": "code",
   "execution_count": 69,
   "metadata": {},
   "outputs": [
    {
     "data": {
      "text/plain": [
       "[]"
      ]
     },
     "execution_count": 69,
     "metadata": {},
     "output_type": "execute_result"
    },
    {
     "data": {
      "image/png": "[encoded data removed]",
      "text/plain": [
       "<Figure size 1800x1080 with 8 Axes>"
      ]
     },
     "metadata": {
      "needs_background": "light"
     },
     "output_type": "display_data"
    }
   ],
   "source": [
    "\n",
    "\n",
    "f, axes = plt.subplots(2, 4, figsize=(25, 15))\n",
    "ax1 = sns.barplot(data=social_media_df, x='User_ID', orient='v', y='social_media', ax=axes[0,0], palette='Blues_d')\n",
    "ax2 = sns.barplot(data=gaming_df, x='User_ID',orient='v', y='gaming', ax=axes[0,1], palette='Blues_d')\n",
    "ax3 = sns.barplot(data=youtube_df, x='User_ID',orient='v', y='youtube', ax=axes[0,2], palette='Blues_d')\n",
    "ax4 = sns.barplot(data=netflix_df, x='User_ID',orient='v', y='netflix', ax=axes[0,3], palette='Blues_d')\n",
    "ax5 = sns.barplot(data=google_df, x='User_ID',orient='v', y='google', ax=axes[1,0], palette='Blues_d')\n",
    "ax6 = sns.barplot(data=email_df, x='User_ID',orient='v', y='email', ax=axes[1,1], palette='Blues_d')\n",
    "ax7 = sns.barplot(data=others_df, x='User_ID',orient='v', y='other', ax=axes[1,2], palette='Blues_d')\n",
    "ax1.set_xticklabels(ax1.xaxis.get_majorticklabels(), rotation=45)\n",
    "ax2.set_xticklabels(ax2.xaxis.get_majorticklabels(), rotation=45)\n",
    "ax3.set_xticklabels(ax3.xaxis.get_majorticklabels(), rotation=45)\n",
    "ax4.set_xticklabels(ax4.xaxis.get_majorticklabels(), rotation=45)\n",
    "ax5.set_xticklabels(ax5.xaxis.get_majorticklabels(), rotation=45)\n",
    "ax6.set_xticklabels(ax6.xaxis.get_majorticklabels(), rotation=45)\n",
    "ax7.set_xticklabels(ax7.xaxis.get_majorticklabels(), rotation=45)\n",
    "plt.plot()\n",
    "\n"
   ]
  },
  {
   "cell_type": "code",
   "execution_count": 70,
   "metadata": {},
   "outputs": [],
   "source": [
    "top_used_applications = user_app_usage.sum()"
   ]
  },
  {
   "cell_type": "code",
   "execution_count": 71,
   "metadata": {},
   "outputs": [
    {
     "data": {
      "text/plain": [
       "array([             -inf,   868554.36909735, -1621456.21659238,\n",
       "       -1621588.14839137, -1785147.99012838, -1973839.91503243,\n",
       "         868244.29656427])"
      ]
     },
     "execution_count": 71,
     "metadata": {},
     "output_type": "execute_result"
    }
   ],
   "source": [
    "\n",
    "\n",
    "top_used_applications.values"
   ]
  },
  {
   "cell_type": "code",
   "execution_count": 72,
   "metadata": {},
   "outputs": [],
   "source": [
    "top_3_used = top_used_applications.nlargest(3)"
   ]
  },
  {
   "cell_type": "code",
   "execution_count": 73,
   "metadata": {},
   "outputs": [
    {
     "data": {
      "text/plain": [
       "gaming     8.685544e+05\n",
       "other      8.682443e+05\n",
       "youtube   -1.621456e+06\n",
       "dtype: float64"
      ]
     },
     "execution_count": 73,
     "metadata": {},
     "output_type": "execute_result"
    }
   ],
   "source": [
    "\n",
    "\n",
    "top_3_used"
   ]
  },
  {
   "cell_type": "code",
   "execution_count": 74,
   "metadata": {},
   "outputs": [
    {
     "name": "stdout",
     "output_type": "stream",
     "text": [
      "[27/Aug/2022 17:43:03] INFO - Plotting a bar chart\n"
     ]
    },
    {
     "data": {
      "image/png": "[encoded data removed]",
      "text/plain": [
       "<Figure size 864x504 with 1 Axes>"
      ]
     },
     "metadata": {
      "needs_background": "light"
     },
     "output_type": "display_data"
    }
   ],
   "source": [
    "pl.plot_bar(top_3_used, [\"Gaming\", \"Other\", \"Youtube\"], top_3_used.values, \"Top 3 Used Applications\", \"Applications\", \"Usage Count\")\n",
    "\n"
   ]
  },
  {
   "cell_type": "code",
   "execution_count": 75,
   "metadata": {},
   "outputs": [],
   "source": [
    "\n",
    "\n",
    "inertias = []\n",
    "for i in range(1,16):\n",
    "    kmeans = KMeans(n_clusters = i, init = 'k-means++', random_state = 42)\n",
    "    kmeans.fit(normalized__eng)\n",
    "    inertias.append(kmeans.inertia_)\n",
    "\n"
   ]
  },
  {
   "cell_type": "code",
   "execution_count": 76,
   "metadata": {},
   "outputs": [
    {
     "data": {
      "image/png": "[encoded data removed]",
      "text/plain": [
       "<Figure size 720x576 with 1 Axes>"
      ]
     },
     "metadata": {
      "needs_background": "light"
     },
     "output_type": "display_data"
    }
   ],
   "source": [
    "# Plotting the cluster size vs. inertia graph to find the optimal cluster\n",
    "plt.figure(figsize = (10,8))\n",
    "plt.plot(range(1, 16), inertias, marker = 'o', linestyle = '--')\n",
    "plt.xlabel('Number of Clusters')\n",
    "plt.ylabel('Inertias')\n",
    "plt.title('K-means Clustering')\n",
    "plt.show()"
   ]
  },
  {
   "cell_type": "code",
   "execution_count": 77,
   "metadata": {},
   "outputs": [
    {
     "data": {
      "text/plain": [
       "3"
      ]
     },
     "execution_count": 77,
     "metadata": {},
     "output_type": "execute_result"
    }
   ],
   "source": [
    "kl = KneeLocator(range(0, 15), inertias, curve=\"convex\", direction=\"decreasing\")\n",
    "kl.elbow"
   ]
  },
  {
   "cell_type": "code",
   "execution_count": 79,
   "metadata": {},
   "outputs": [
    {
     "name": "stdout",
     "output_type": "stream",
     "text": [
      "[27/Aug/2022 17:44:30] INFO - The optimal number of cluster is: 3\n"
     ]
    }
   ],
   "source": [
    "loggers.info(f\"The optimal number of cluster is: {kl.elbow}\")\n"
   ]
  },
  {
   "cell_type": "code",
   "execution_count": 80,
   "metadata": {},
   "outputs": [
    {
     "data": {
      "text/plain": [
       "(106856, 4)"
      ]
     },
     "execution_count": 80,
     "metadata": {},
     "output_type": "execute_result"
    }
   ],
   "source": [
    "u_eng.shape"
   ]
  },
  {
   "cell_type": "code",
   "execution_count": 83,
   "metadata": {},
   "outputs": [],
   "source": [
    "with open(\"../models/user_eng.pkl\", \"wb\") as f:\n",
    "    pickle.dump(kmeans, f)"
   ]
  },
  {
   "cell_type": "code",
   "execution_count": 81,
   "metadata": {},
   "outputs": [],
   "source": [
    "u_eng.to_csv('../data/user_eng.csv')"
   ]
  },
  {
   "cell_type": "code",
   "execution_count": 82,
   "metadata": {},
   "outputs": [],
   "source": [
    "normalized__eng.to_csv('../data/normalized_eng.csv')"
   ]
  }
 ],
 "metadata": {
  "kernelspec": {
   "display_name": "Python 3",
   "language": "python",
   "name": "python3"
  },
  "language_info": {
   "codemirror_mode": {
    "name": "ipython",
    "version": 3
   },
   "file_extension": ".py",
   "mimetype": "text/x-python",
   "name": "python",
   "nbconvert_exporter": "python",
   "pygments_lexer": "ipython3",
   "version": "3.7.3"
  }
 },
 "nbformat": 4,
 "nbformat_minor": 2
}
