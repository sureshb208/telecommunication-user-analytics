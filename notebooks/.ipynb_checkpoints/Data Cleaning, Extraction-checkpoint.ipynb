{
 "cells": [
  {
   "cell_type": "code",
   "execution_count": 16,
   "metadata": {},
   "outputs": [],
   "source": [
    "\n",
    "\n",
    "import numpy as np\n",
    "import pandas as pd\n",
    "import matplotlib.pyplot as plt\n",
    "import seaborn as sns\n",
    "import os\n",
    "import sys\n",
    "from IPython.display import Image"
   ]
  },
  {
   "cell_type": "code",
   "execution_count": 2,
   "metadata": {},
   "outputs": [
    {
     "data": {
      "text/html": [
       "<div>\n",
       "<style scoped>\n",
       "    .dataframe tbody tr th:only-of-type {\n",
       "        vertical-align: middle;\n",
       "    }\n",
       "\n",
       "    .dataframe tbody tr th {\n",
       "        vertical-align: top;\n",
       "    }\n",
       "\n",
       "    .dataframe thead th {\n",
       "        text-align: right;\n",
       "    }\n",
       "</style>\n",
       "<table border=\"1\" class=\"dataframe\">\n",
       "  <thead>\n",
       "    <tr style=\"text-align: right;\">\n",
       "      <th></th>\n",
       "      <th>Bearer Id</th>\n",
       "      <th>Start</th>\n",
       "      <th>Start ms</th>\n",
       "      <th>End</th>\n",
       "      <th>End ms</th>\n",
       "      <th>Dur. (ms)</th>\n",
       "      <th>IMSI</th>\n",
       "      <th>MSISDN/Number</th>\n",
       "      <th>IMEI</th>\n",
       "      <th>Last Location Name</th>\n",
       "      <th>Avg RTT DL (ms)</th>\n",
       "      <th>Avg RTT UL (ms)</th>\n",
       "      <th>Avg Bearer TP DL (kbps)</th>\n",
       "      <th>Avg Bearer TP UL (kbps)</th>\n",
       "      <th>TCP DL Retrans. Vol (Bytes)</th>\n",
       "      <th>TCP UL Retrans. Vol (Bytes)</th>\n",
       "      <th>DL TP &lt; 50 Kbps (%)</th>\n",
       "      <th>50 Kbps &lt; DL TP &lt; 250 Kbps (%)</th>\n",
       "      <th>250 Kbps &lt; DL TP &lt; 1 Mbps (%)</th>\n",
       "      <th>DL TP &gt; 1 Mbps (%)</th>\n",
       "      <th>UL TP &lt; 10 Kbps (%)</th>\n",
       "      <th>10 Kbps &lt; UL TP &lt; 50 Kbps (%)</th>\n",
       "      <th>50 Kbps &lt; UL TP &lt; 300 Kbps (%)</th>\n",
       "      <th>UL TP &gt; 300 Kbps (%)</th>\n",
       "      <th>HTTP DL (Bytes)</th>\n",
       "      <th>HTTP UL (Bytes)</th>\n",
       "      <th>Activity Duration DL (ms)</th>\n",
       "      <th>Activity Duration UL (ms)</th>\n",
       "      <th>Dur. (ms).1</th>\n",
       "      <th>Handset Manufacturer</th>\n",
       "      <th>Handset Type</th>\n",
       "      <th>Nb of sec with 125000B &lt; Vol DL</th>\n",
       "      <th>Nb of sec with 1250B &lt; Vol UL &lt; 6250B</th>\n",
       "      <th>Nb of sec with 31250B &lt; Vol DL &lt; 125000B</th>\n",
       "      <th>Nb of sec with 37500B &lt; Vol UL</th>\n",
       "      <th>Nb of sec with 6250B &lt; Vol DL &lt; 31250B</th>\n",
       "      <th>Nb of sec with 6250B &lt; Vol UL &lt; 37500B</th>\n",
       "      <th>Nb of sec with Vol DL &lt; 6250B</th>\n",
       "      <th>Nb of sec with Vol UL &lt; 1250B</th>\n",
       "      <th>Social Media DL (Bytes)</th>\n",
       "      <th>Social Media UL (Bytes)</th>\n",
       "      <th>Google DL (Bytes)</th>\n",
       "      <th>Google UL (Bytes)</th>\n",
       "      <th>Email DL (Bytes)</th>\n",
       "      <th>Email UL (Bytes)</th>\n",
       "      <th>Youtube DL (Bytes)</th>\n",
       "      <th>Youtube UL (Bytes)</th>\n",
       "      <th>Netflix DL (Bytes)</th>\n",
       "      <th>Netflix UL (Bytes)</th>\n",
       "      <th>Gaming DL (Bytes)</th>\n",
       "      <th>Gaming UL (Bytes)</th>\n",
       "      <th>Other DL (Bytes)</th>\n",
       "      <th>Other UL (Bytes)</th>\n",
       "      <th>Total UL (Bytes)</th>\n",
       "      <th>Total DL (Bytes)</th>\n",
       "    </tr>\n",
       "  </thead>\n",
       "  <tbody>\n",
       "    <tr>\n",
       "      <th>0</th>\n",
       "      <td>1.311448e+19</td>\n",
       "      <td>4/4/2019 12:01</td>\n",
       "      <td>770.0</td>\n",
       "      <td>4/25/2019 14:35</td>\n",
       "      <td>662.0</td>\n",
       "      <td>1823652.0</td>\n",
       "      <td>2.082014e+14</td>\n",
       "      <td>3.366496e+10</td>\n",
       "      <td>3.552121e+13</td>\n",
       "      <td>9.16456699548519E+015</td>\n",
       "      <td>42.0</td>\n",
       "      <td>5.0</td>\n",
       "      <td>23.0</td>\n",
       "      <td>44.0</td>\n",
       "      <td>NaN</td>\n",
       "      <td>NaN</td>\n",
       "      <td>100.0</td>\n",
       "      <td>0.0</td>\n",
       "      <td>0.0</td>\n",
       "      <td>0.0</td>\n",
       "      <td>100.0</td>\n",
       "      <td>0.0</td>\n",
       "      <td>0.0</td>\n",
       "      <td>0.0</td>\n",
       "      <td>NaN</td>\n",
       "      <td>NaN</td>\n",
       "      <td>37624.0</td>\n",
       "      <td>38787.0</td>\n",
       "      <td>1.823653e+09</td>\n",
       "      <td>Samsung</td>\n",
       "      <td>Samsung Galaxy A5 Sm-A520F</td>\n",
       "      <td>NaN</td>\n",
       "      <td>NaN</td>\n",
       "      <td>NaN</td>\n",
       "      <td>NaN</td>\n",
       "      <td>NaN</td>\n",
       "      <td>NaN</td>\n",
       "      <td>213.0</td>\n",
       "      <td>214.0</td>\n",
       "      <td>1545765.0</td>\n",
       "      <td>24420.0</td>\n",
       "      <td>1634479.0</td>\n",
       "      <td>1271433.0</td>\n",
       "      <td>3563542.0</td>\n",
       "      <td>137762.0</td>\n",
       "      <td>15854611.0</td>\n",
       "      <td>2501332.0</td>\n",
       "      <td>8198936.0</td>\n",
       "      <td>9656251.0</td>\n",
       "      <td>278082303.0</td>\n",
       "      <td>14344150.0</td>\n",
       "      <td>171744450.0</td>\n",
       "      <td>8814393.0</td>\n",
       "      <td>36749741.0</td>\n",
       "      <td>308879636.0</td>\n",
       "    </tr>\n",
       "    <tr>\n",
       "      <th>1</th>\n",
       "      <td>1.311448e+19</td>\n",
       "      <td>4/9/2019 13:04</td>\n",
       "      <td>235.0</td>\n",
       "      <td>4/25/2019 8:15</td>\n",
       "      <td>606.0</td>\n",
       "      <td>1365104.0</td>\n",
       "      <td>2.082019e+14</td>\n",
       "      <td>3.368185e+10</td>\n",
       "      <td>3.579401e+13</td>\n",
       "      <td>L77566A</td>\n",
       "      <td>65.0</td>\n",
       "      <td>5.0</td>\n",
       "      <td>16.0</td>\n",
       "      <td>26.0</td>\n",
       "      <td>NaN</td>\n",
       "      <td>NaN</td>\n",
       "      <td>100.0</td>\n",
       "      <td>0.0</td>\n",
       "      <td>0.0</td>\n",
       "      <td>0.0</td>\n",
       "      <td>100.0</td>\n",
       "      <td>0.0</td>\n",
       "      <td>0.0</td>\n",
       "      <td>0.0</td>\n",
       "      <td>NaN</td>\n",
       "      <td>NaN</td>\n",
       "      <td>168.0</td>\n",
       "      <td>3560.0</td>\n",
       "      <td>1.365104e+09</td>\n",
       "      <td>Samsung</td>\n",
       "      <td>Samsung Galaxy J5 (Sm-J530)</td>\n",
       "      <td>NaN</td>\n",
       "      <td>NaN</td>\n",
       "      <td>NaN</td>\n",
       "      <td>NaN</td>\n",
       "      <td>NaN</td>\n",
       "      <td>NaN</td>\n",
       "      <td>971.0</td>\n",
       "      <td>1022.0</td>\n",
       "      <td>1926113.0</td>\n",
       "      <td>7165.0</td>\n",
       "      <td>3493924.0</td>\n",
       "      <td>920172.0</td>\n",
       "      <td>629046.0</td>\n",
       "      <td>308339.0</td>\n",
       "      <td>20247395.0</td>\n",
       "      <td>19111729.0</td>\n",
       "      <td>18338413.0</td>\n",
       "      <td>17227132.0</td>\n",
       "      <td>608750074.0</td>\n",
       "      <td>1170709.0</td>\n",
       "      <td>526904238.0</td>\n",
       "      <td>15055145.0</td>\n",
       "      <td>53800391.0</td>\n",
       "      <td>653384965.0</td>\n",
       "    </tr>\n",
       "    <tr>\n",
       "      <th>2</th>\n",
       "      <td>1.311448e+19</td>\n",
       "      <td>4/9/2019 17:42</td>\n",
       "      <td>1.0</td>\n",
       "      <td>4/25/2019 11:58</td>\n",
       "      <td>652.0</td>\n",
       "      <td>1361762.0</td>\n",
       "      <td>2.082003e+14</td>\n",
       "      <td>3.376063e+10</td>\n",
       "      <td>3.528151e+13</td>\n",
       "      <td>D42335A</td>\n",
       "      <td>NaN</td>\n",
       "      <td>NaN</td>\n",
       "      <td>6.0</td>\n",
       "      <td>9.0</td>\n",
       "      <td>NaN</td>\n",
       "      <td>NaN</td>\n",
       "      <td>100.0</td>\n",
       "      <td>0.0</td>\n",
       "      <td>0.0</td>\n",
       "      <td>0.0</td>\n",
       "      <td>100.0</td>\n",
       "      <td>0.0</td>\n",
       "      <td>0.0</td>\n",
       "      <td>0.0</td>\n",
       "      <td>NaN</td>\n",
       "      <td>NaN</td>\n",
       "      <td>0.0</td>\n",
       "      <td>0.0</td>\n",
       "      <td>1.361763e+09</td>\n",
       "      <td>Samsung</td>\n",
       "      <td>Samsung Galaxy A8 (2018)</td>\n",
       "      <td>NaN</td>\n",
       "      <td>NaN</td>\n",
       "      <td>NaN</td>\n",
       "      <td>NaN</td>\n",
       "      <td>NaN</td>\n",
       "      <td>NaN</td>\n",
       "      <td>751.0</td>\n",
       "      <td>695.0</td>\n",
       "      <td>1684053.0</td>\n",
       "      <td>42224.0</td>\n",
       "      <td>8535055.0</td>\n",
       "      <td>1694064.0</td>\n",
       "      <td>2690151.0</td>\n",
       "      <td>672973.0</td>\n",
       "      <td>19725661.0</td>\n",
       "      <td>14699576.0</td>\n",
       "      <td>17587794.0</td>\n",
       "      <td>6163408.0</td>\n",
       "      <td>229584621.0</td>\n",
       "      <td>395630.0</td>\n",
       "      <td>410692588.0</td>\n",
       "      <td>4215763.0</td>\n",
       "      <td>27883638.0</td>\n",
       "      <td>279807335.0</td>\n",
       "    </tr>\n",
       "    <tr>\n",
       "      <th>3</th>\n",
       "      <td>1.311448e+19</td>\n",
       "      <td>4/10/2019 0:31</td>\n",
       "      <td>486.0</td>\n",
       "      <td>4/25/2019 7:36</td>\n",
       "      <td>171.0</td>\n",
       "      <td>1321509.0</td>\n",
       "      <td>2.082014e+14</td>\n",
       "      <td>3.375034e+10</td>\n",
       "      <td>3.535661e+13</td>\n",
       "      <td>T21824A</td>\n",
       "      <td>NaN</td>\n",
       "      <td>NaN</td>\n",
       "      <td>44.0</td>\n",
       "      <td>44.0</td>\n",
       "      <td>NaN</td>\n",
       "      <td>NaN</td>\n",
       "      <td>100.0</td>\n",
       "      <td>0.0</td>\n",
       "      <td>0.0</td>\n",
       "      <td>0.0</td>\n",
       "      <td>100.0</td>\n",
       "      <td>0.0</td>\n",
       "      <td>0.0</td>\n",
       "      <td>0.0</td>\n",
       "      <td>NaN</td>\n",
       "      <td>NaN</td>\n",
       "      <td>3330.0</td>\n",
       "      <td>37882.0</td>\n",
       "      <td>1.321510e+09</td>\n",
       "      <td>undefined</td>\n",
       "      <td>undefined</td>\n",
       "      <td>NaN</td>\n",
       "      <td>NaN</td>\n",
       "      <td>NaN</td>\n",
       "      <td>NaN</td>\n",
       "      <td>NaN</td>\n",
       "      <td>NaN</td>\n",
       "      <td>17.0</td>\n",
       "      <td>207.0</td>\n",
       "      <td>644121.0</td>\n",
       "      <td>13372.0</td>\n",
       "      <td>9023734.0</td>\n",
       "      <td>2788027.0</td>\n",
       "      <td>1439754.0</td>\n",
       "      <td>631229.0</td>\n",
       "      <td>21388122.0</td>\n",
       "      <td>15146643.0</td>\n",
       "      <td>13994646.0</td>\n",
       "      <td>1097942.0</td>\n",
       "      <td>799538153.0</td>\n",
       "      <td>10849722.0</td>\n",
       "      <td>749039933.0</td>\n",
       "      <td>12797283.0</td>\n",
       "      <td>43324218.0</td>\n",
       "      <td>846028530.0</td>\n",
       "    </tr>\n",
       "    <tr>\n",
       "      <th>4</th>\n",
       "      <td>1.311448e+19</td>\n",
       "      <td>4/12/2019 20:10</td>\n",
       "      <td>565.0</td>\n",
       "      <td>4/25/2019 10:40</td>\n",
       "      <td>954.0</td>\n",
       "      <td>1089009.0</td>\n",
       "      <td>2.082014e+14</td>\n",
       "      <td>3.369980e+10</td>\n",
       "      <td>3.540701e+13</td>\n",
       "      <td>D88865A</td>\n",
       "      <td>NaN</td>\n",
       "      <td>NaN</td>\n",
       "      <td>6.0</td>\n",
       "      <td>9.0</td>\n",
       "      <td>NaN</td>\n",
       "      <td>NaN</td>\n",
       "      <td>100.0</td>\n",
       "      <td>0.0</td>\n",
       "      <td>0.0</td>\n",
       "      <td>0.0</td>\n",
       "      <td>100.0</td>\n",
       "      <td>0.0</td>\n",
       "      <td>0.0</td>\n",
       "      <td>0.0</td>\n",
       "      <td>NaN</td>\n",
       "      <td>NaN</td>\n",
       "      <td>0.0</td>\n",
       "      <td>0.0</td>\n",
       "      <td>1.089009e+09</td>\n",
       "      <td>Samsung</td>\n",
       "      <td>Samsung Sm-G390F</td>\n",
       "      <td>NaN</td>\n",
       "      <td>NaN</td>\n",
       "      <td>NaN</td>\n",
       "      <td>NaN</td>\n",
       "      <td>NaN</td>\n",
       "      <td>NaN</td>\n",
       "      <td>607.0</td>\n",
       "      <td>604.0</td>\n",
       "      <td>862600.0</td>\n",
       "      <td>50188.0</td>\n",
       "      <td>6248284.0</td>\n",
       "      <td>1500559.0</td>\n",
       "      <td>1936496.0</td>\n",
       "      <td>173853.0</td>\n",
       "      <td>15259380.0</td>\n",
       "      <td>18962873.0</td>\n",
       "      <td>17124581.0</td>\n",
       "      <td>415218.0</td>\n",
       "      <td>527707248.0</td>\n",
       "      <td>3529801.0</td>\n",
       "      <td>550709500.0</td>\n",
       "      <td>13910322.0</td>\n",
       "      <td>38542814.0</td>\n",
       "      <td>569138589.0</td>\n",
       "    </tr>\n",
       "  </tbody>\n",
       "</table>\n",
       "</div>"
      ],
      "text/plain": [
       "      Bearer Id            Start  Start ms              End  End ms  \\\n",
       "0  1.311448e+19   4/4/2019 12:01     770.0  4/25/2019 14:35   662.0   \n",
       "1  1.311448e+19   4/9/2019 13:04     235.0   4/25/2019 8:15   606.0   \n",
       "2  1.311448e+19   4/9/2019 17:42       1.0  4/25/2019 11:58   652.0   \n",
       "3  1.311448e+19   4/10/2019 0:31     486.0   4/25/2019 7:36   171.0   \n",
       "4  1.311448e+19  4/12/2019 20:10     565.0  4/25/2019 10:40   954.0   \n",
       "\n",
       "   Dur. (ms)          IMSI  MSISDN/Number          IMEI  \\\n",
       "0  1823652.0  2.082014e+14   3.366496e+10  3.552121e+13   \n",
       "1  1365104.0  2.082019e+14   3.368185e+10  3.579401e+13   \n",
       "2  1361762.0  2.082003e+14   3.376063e+10  3.528151e+13   \n",
       "3  1321509.0  2.082014e+14   3.375034e+10  3.535661e+13   \n",
       "4  1089009.0  2.082014e+14   3.369980e+10  3.540701e+13   \n",
       "\n",
       "      Last Location Name  Avg RTT DL (ms)  Avg RTT UL (ms)  \\\n",
       "0  9.16456699548519E+015             42.0              5.0   \n",
       "1                L77566A             65.0              5.0   \n",
       "2                D42335A              NaN              NaN   \n",
       "3                T21824A              NaN              NaN   \n",
       "4                D88865A              NaN              NaN   \n",
       "\n",
       "   Avg Bearer TP DL (kbps)  Avg Bearer TP UL (kbps)  \\\n",
       "0                     23.0                     44.0   \n",
       "1                     16.0                     26.0   \n",
       "2                      6.0                      9.0   \n",
       "3                     44.0                     44.0   \n",
       "4                      6.0                      9.0   \n",
       "\n",
       "   TCP DL Retrans. Vol (Bytes)  TCP UL Retrans. Vol (Bytes)  \\\n",
       "0                          NaN                          NaN   \n",
       "1                          NaN                          NaN   \n",
       "2                          NaN                          NaN   \n",
       "3                          NaN                          NaN   \n",
       "4                          NaN                          NaN   \n",
       "\n",
       "   DL TP < 50 Kbps (%)  50 Kbps < DL TP < 250 Kbps (%)  \\\n",
       "0                100.0                             0.0   \n",
       "1                100.0                             0.0   \n",
       "2                100.0                             0.0   \n",
       "3                100.0                             0.0   \n",
       "4                100.0                             0.0   \n",
       "\n",
       "   250 Kbps < DL TP < 1 Mbps (%)  DL TP > 1 Mbps (%)  UL TP < 10 Kbps (%)  \\\n",
       "0                            0.0                 0.0                100.0   \n",
       "1                            0.0                 0.0                100.0   \n",
       "2                            0.0                 0.0                100.0   \n",
       "3                            0.0                 0.0                100.0   \n",
       "4                            0.0                 0.0                100.0   \n",
       "\n",
       "   10 Kbps < UL TP < 50 Kbps (%)  50 Kbps < UL TP < 300 Kbps (%)  \\\n",
       "0                            0.0                             0.0   \n",
       "1                            0.0                             0.0   \n",
       "2                            0.0                             0.0   \n",
       "3                            0.0                             0.0   \n",
       "4                            0.0                             0.0   \n",
       "\n",
       "   UL TP > 300 Kbps (%)  HTTP DL (Bytes)  HTTP UL (Bytes)  \\\n",
       "0                   0.0              NaN              NaN   \n",
       "1                   0.0              NaN              NaN   \n",
       "2                   0.0              NaN              NaN   \n",
       "3                   0.0              NaN              NaN   \n",
       "4                   0.0              NaN              NaN   \n",
       "\n",
       "   Activity Duration DL (ms)  Activity Duration UL (ms)   Dur. (ms).1  \\\n",
       "0                    37624.0                    38787.0  1.823653e+09   \n",
       "1                      168.0                     3560.0  1.365104e+09   \n",
       "2                        0.0                        0.0  1.361763e+09   \n",
       "3                     3330.0                    37882.0  1.321510e+09   \n",
       "4                        0.0                        0.0  1.089009e+09   \n",
       "\n",
       "  Handset Manufacturer                 Handset Type  \\\n",
       "0              Samsung   Samsung Galaxy A5 Sm-A520F   \n",
       "1              Samsung  Samsung Galaxy J5 (Sm-J530)   \n",
       "2              Samsung     Samsung Galaxy A8 (2018)   \n",
       "3            undefined                    undefined   \n",
       "4              Samsung             Samsung Sm-G390F   \n",
       "\n",
       "   Nb of sec with 125000B < Vol DL  Nb of sec with 1250B < Vol UL < 6250B  \\\n",
       "0                              NaN                                    NaN   \n",
       "1                              NaN                                    NaN   \n",
       "2                              NaN                                    NaN   \n",
       "3                              NaN                                    NaN   \n",
       "4                              NaN                                    NaN   \n",
       "\n",
       "   Nb of sec with 31250B < Vol DL < 125000B  Nb of sec with 37500B < Vol UL  \\\n",
       "0                                       NaN                             NaN   \n",
       "1                                       NaN                             NaN   \n",
       "2                                       NaN                             NaN   \n",
       "3                                       NaN                             NaN   \n",
       "4                                       NaN                             NaN   \n",
       "\n",
       "   Nb of sec with 6250B < Vol DL < 31250B  \\\n",
       "0                                     NaN   \n",
       "1                                     NaN   \n",
       "2                                     NaN   \n",
       "3                                     NaN   \n",
       "4                                     NaN   \n",
       "\n",
       "   Nb of sec with 6250B < Vol UL < 37500B  Nb of sec with Vol DL < 6250B  \\\n",
       "0                                     NaN                          213.0   \n",
       "1                                     NaN                          971.0   \n",
       "2                                     NaN                          751.0   \n",
       "3                                     NaN                           17.0   \n",
       "4                                     NaN                          607.0   \n",
       "\n",
       "   Nb of sec with Vol UL < 1250B  Social Media DL (Bytes)  \\\n",
       "0                          214.0                1545765.0   \n",
       "1                         1022.0                1926113.0   \n",
       "2                          695.0                1684053.0   \n",
       "3                          207.0                 644121.0   \n",
       "4                          604.0                 862600.0   \n",
       "\n",
       "   Social Media UL (Bytes)  Google DL (Bytes)  Google UL (Bytes)  \\\n",
       "0                  24420.0          1634479.0          1271433.0   \n",
       "1                   7165.0          3493924.0           920172.0   \n",
       "2                  42224.0          8535055.0          1694064.0   \n",
       "3                  13372.0          9023734.0          2788027.0   \n",
       "4                  50188.0          6248284.0          1500559.0   \n",
       "\n",
       "   Email DL (Bytes)  Email UL (Bytes)  Youtube DL (Bytes)  Youtube UL (Bytes)  \\\n",
       "0         3563542.0          137762.0          15854611.0           2501332.0   \n",
       "1          629046.0          308339.0          20247395.0          19111729.0   \n",
       "2         2690151.0          672973.0          19725661.0          14699576.0   \n",
       "3         1439754.0          631229.0          21388122.0          15146643.0   \n",
       "4         1936496.0          173853.0          15259380.0          18962873.0   \n",
       "\n",
       "   Netflix DL (Bytes)  Netflix UL (Bytes)  Gaming DL (Bytes)  \\\n",
       "0           8198936.0           9656251.0        278082303.0   \n",
       "1          18338413.0          17227132.0        608750074.0   \n",
       "2          17587794.0           6163408.0        229584621.0   \n",
       "3          13994646.0           1097942.0        799538153.0   \n",
       "4          17124581.0            415218.0        527707248.0   \n",
       "\n",
       "   Gaming UL (Bytes)  Other DL (Bytes)  Other UL (Bytes)  Total UL (Bytes)  \\\n",
       "0         14344150.0       171744450.0         8814393.0        36749741.0   \n",
       "1          1170709.0       526904238.0        15055145.0        53800391.0   \n",
       "2           395630.0       410692588.0         4215763.0        27883638.0   \n",
       "3         10849722.0       749039933.0        12797283.0        43324218.0   \n",
       "4          3529801.0       550709500.0        13910322.0        38542814.0   \n",
       "\n",
       "   Total DL (Bytes)  \n",
       "0       308879636.0  \n",
       "1       653384965.0  \n",
       "2       279807335.0  \n",
       "3       846028530.0  \n",
       "4       569138589.0  "
      ]
     },
     "execution_count": 2,
     "metadata": {},
     "output_type": "execute_result"
    }
   ],
   "source": [
    "import warnings\n",
    "warnings.filterwarnings('ignore')\n",
    "pd.set_option('max_column', None)\n",
    "db = pd.read_csv('../data/Week1_challenge_data_source(CSV).csv',  na_values=['?', None])\n",
    "db.head()"
   ]
  },
  {
   "cell_type": "code",
   "execution_count": 3,
   "metadata": {},
   "outputs": [
    {
     "data": {
      "text/plain": [
       "['Bearer Id',\n",
       " 'Start',\n",
       " 'Start ms',\n",
       " 'End',\n",
       " 'End ms',\n",
       " 'Dur. (ms)',\n",
       " 'IMSI',\n",
       " 'MSISDN/Number',\n",
       " 'IMEI',\n",
       " 'Last Location Name',\n",
       " 'Avg RTT DL (ms)',\n",
       " 'Avg RTT UL (ms)',\n",
       " 'Avg Bearer TP DL (kbps)',\n",
       " 'Avg Bearer TP UL (kbps)',\n",
       " 'TCP DL Retrans. Vol (Bytes)',\n",
       " 'TCP UL Retrans. Vol (Bytes)',\n",
       " 'DL TP < 50 Kbps (%)',\n",
       " '50 Kbps < DL TP < 250 Kbps (%)',\n",
       " '250 Kbps < DL TP < 1 Mbps (%)',\n",
       " 'DL TP > 1 Mbps (%)',\n",
       " 'UL TP < 10 Kbps (%)',\n",
       " '10 Kbps < UL TP < 50 Kbps (%)',\n",
       " '50 Kbps < UL TP < 300 Kbps (%)',\n",
       " 'UL TP > 300 Kbps (%)',\n",
       " 'HTTP DL (Bytes)',\n",
       " 'HTTP UL (Bytes)',\n",
       " 'Activity Duration DL (ms)',\n",
       " 'Activity Duration UL (ms)',\n",
       " 'Dur. (ms).1',\n",
       " 'Handset Manufacturer',\n",
       " 'Handset Type',\n",
       " 'Nb of sec with 125000B < Vol DL',\n",
       " 'Nb of sec with 1250B < Vol UL < 6250B',\n",
       " 'Nb of sec with 31250B < Vol DL < 125000B',\n",
       " 'Nb of sec with 37500B < Vol UL',\n",
       " 'Nb of sec with 6250B < Vol DL < 31250B',\n",
       " 'Nb of sec with 6250B < Vol UL < 37500B',\n",
       " 'Nb of sec with Vol DL < 6250B',\n",
       " 'Nb of sec with Vol UL < 1250B',\n",
       " 'Social Media DL (Bytes)',\n",
       " 'Social Media UL (Bytes)',\n",
       " 'Google DL (Bytes)',\n",
       " 'Google UL (Bytes)',\n",
       " 'Email DL (Bytes)',\n",
       " 'Email UL (Bytes)',\n",
       " 'Youtube DL (Bytes)',\n",
       " 'Youtube UL (Bytes)',\n",
       " 'Netflix DL (Bytes)',\n",
       " 'Netflix UL (Bytes)',\n",
       " 'Gaming DL (Bytes)',\n",
       " 'Gaming UL (Bytes)',\n",
       " 'Other DL (Bytes)',\n",
       " 'Other UL (Bytes)',\n",
       " 'Total UL (Bytes)',\n",
       " 'Total DL (Bytes)']"
      ]
     },
     "execution_count": 3,
     "metadata": {},
     "output_type": "execute_result"
    }
   ],
   "source": [
    "# column names\n",
    "db.columns.tolist()"
   ]
  },
  {
   "cell_type": "code",
   "execution_count": 4,
   "metadata": {},
   "outputs": [
    {
     "data": {
      "text/plain": [
       "55"
      ]
     },
     "execution_count": 4,
     "metadata": {},
     "output_type": "execute_result"
    }
   ],
   "source": [
    "len(db.columns)"
   ]
  },
  {
   "cell_type": "code",
   "execution_count": 5,
   "metadata": {},
   "outputs": [
    {
     "data": {
      "text/plain": [
       "Bearer Id                                   float64\n",
       "Start                                        object\n",
       "Start ms                                    float64\n",
       "End                                          object\n",
       "End ms                                      float64\n",
       "Dur. (ms)                                   float64\n",
       "IMSI                                        float64\n",
       "MSISDN/Number                               float64\n",
       "IMEI                                        float64\n",
       "Last Location Name                           object\n",
       "Avg RTT DL (ms)                             float64\n",
       "Avg RTT UL (ms)                             float64\n",
       "Avg Bearer TP DL (kbps)                     float64\n",
       "Avg Bearer TP UL (kbps)                     float64\n",
       "TCP DL Retrans. Vol (Bytes)                 float64\n",
       "TCP UL Retrans. Vol (Bytes)                 float64\n",
       "DL TP < 50 Kbps (%)                         float64\n",
       "50 Kbps < DL TP < 250 Kbps (%)              float64\n",
       "250 Kbps < DL TP < 1 Mbps (%)               float64\n",
       "DL TP > 1 Mbps (%)                          float64\n",
       "UL TP < 10 Kbps (%)                         float64\n",
       "10 Kbps < UL TP < 50 Kbps (%)               float64\n",
       "50 Kbps < UL TP < 300 Kbps (%)              float64\n",
       "UL TP > 300 Kbps (%)                        float64\n",
       "HTTP DL (Bytes)                             float64\n",
       "HTTP UL (Bytes)                             float64\n",
       "Activity Duration DL (ms)                   float64\n",
       "Activity Duration UL (ms)                   float64\n",
       "Dur. (ms).1                                 float64\n",
       "Handset Manufacturer                         object\n",
       "Handset Type                                 object\n",
       "Nb of sec with 125000B < Vol DL             float64\n",
       "Nb of sec with 1250B < Vol UL < 6250B       float64\n",
       "Nb of sec with 31250B < Vol DL < 125000B    float64\n",
       "Nb of sec with 37500B < Vol UL              float64\n",
       "Nb of sec with 6250B < Vol DL < 31250B      float64\n",
       "Nb of sec with 6250B < Vol UL < 37500B      float64\n",
       "Nb of sec with Vol DL < 6250B               float64\n",
       "Nb of sec with Vol UL < 1250B               float64\n",
       "Social Media DL (Bytes)                     float64\n",
       "Social Media UL (Bytes)                     float64\n",
       "Google DL (Bytes)                           float64\n",
       "Google UL (Bytes)                           float64\n",
       "Email DL (Bytes)                            float64\n",
       "Email UL (Bytes)                            float64\n",
       "Youtube DL (Bytes)                          float64\n",
       "Youtube UL (Bytes)                          float64\n",
       "Netflix DL (Bytes)                          float64\n",
       "Netflix UL (Bytes)                          float64\n",
       "Gaming DL (Bytes)                           float64\n",
       "Gaming UL (Bytes)                           float64\n",
       "Other DL (Bytes)                            float64\n",
       "Other UL (Bytes)                            float64\n",
       "Total UL (Bytes)                            float64\n",
       "Total DL (Bytes)                            float64\n",
       "dtype: object"
      ]
     },
     "execution_count": 5,
     "metadata": {},
     "output_type": "execute_result"
    }
   ],
   "source": [
    "db.dtypes"
   ]
  },
  {
   "cell_type": "code",
   "execution_count": 6,
   "metadata": {},
   "outputs": [
    {
     "data": {
      "text/plain": [
       "(150001, 55)"
      ]
     },
     "execution_count": 6,
     "metadata": {},
     "output_type": "execute_result"
    }
   ],
   "source": [
    "db.shape"
   ]
  },
  {
   "cell_type": "code",
   "execution_count": 7,
   "metadata": {},
   "outputs": [
    {
     "name": "stdout",
     "output_type": "stream",
     "text": [
      " There are 150001 rows and 55 columns\n"
     ]
    }
   ],
   "source": [
    "print(f\" There are {db.shape[0]} rows and {db.shape[1]} columns\")"
   ]
  },
  {
   "cell_type": "code",
   "execution_count": 8,
   "metadata": {},
   "outputs": [
    {
     "data": {
      "text/plain": [
       "1031392"
      ]
     },
     "execution_count": 8,
     "metadata": {},
     "output_type": "execute_result"
    }
   ],
   "source": [
    "db.isnull().sum().sum()"
   ]
  },
  {
   "cell_type": "code",
   "execution_count": 9,
   "metadata": {},
   "outputs": [
    {
     "name": "stdout",
     "output_type": "stream",
     "text": [
      "The Telecommunication dataset contains 12.5 % missing values.\n"
     ]
    }
   ],
   "source": [
    "def percent_missing(df):\n",
    "\n",
    "    # Calculate total number of cells in dataframe\n",
    "    totalCells = np.product(df.shape)\n",
    "\n",
    "    # Count number of missing values per column\n",
    "    missingCount = df.isnull().sum()\n",
    "\n",
    "    # Calculate total number of missing values\n",
    "    totalMissing = missingCount.sum()\n",
    "\n",
    "    # Calculate percentage of missing values\n",
    "    print(\"The Telecommunication dataset contains\", round(((totalMissing/totalCells) * 100), 2), \"%\", \"missing values.\")\n",
    "\n",
    "percent_missing(db)"
   ]
  },
  {
   "cell_type": "code",
   "execution_count": 10,
   "metadata": {},
   "outputs": [
    {
     "data": {
      "text/plain": [
       "Bearer Id                                      991\n",
       "Start                                            1\n",
       "Start ms                                         1\n",
       "End                                              1\n",
       "End ms                                           1\n",
       "Dur. (ms)                                        1\n",
       "IMSI                                           570\n",
       "MSISDN/Number                                 1066\n",
       "IMEI                                           572\n",
       "Last Location Name                            1153\n",
       "Avg RTT DL (ms)                              27829\n",
       "Avg RTT UL (ms)                              27812\n",
       "Avg Bearer TP DL (kbps)                          1\n",
       "Avg Bearer TP UL (kbps)                          1\n",
       "TCP DL Retrans. Vol (Bytes)                  88146\n",
       "TCP UL Retrans. Vol (Bytes)                  96649\n",
       "DL TP < 50 Kbps (%)                            754\n",
       "50 Kbps < DL TP < 250 Kbps (%)                 754\n",
       "250 Kbps < DL TP < 1 Mbps (%)                  754\n",
       "DL TP > 1 Mbps (%)                             754\n",
       "UL TP < 10 Kbps (%)                            792\n",
       "10 Kbps < UL TP < 50 Kbps (%)                  792\n",
       "50 Kbps < UL TP < 300 Kbps (%)                 792\n",
       "UL TP > 300 Kbps (%)                           792\n",
       "HTTP DL (Bytes)                              81474\n",
       "HTTP UL (Bytes)                              81810\n",
       "Activity Duration DL (ms)                        1\n",
       "Activity Duration UL (ms)                        1\n",
       "Dur. (ms).1                                      1\n",
       "Handset Manufacturer                           572\n",
       "Handset Type                                   572\n",
       "Nb of sec with 125000B < Vol DL              97538\n",
       "Nb of sec with 1250B < Vol UL < 6250B        92894\n",
       "Nb of sec with 31250B < Vol DL < 125000B     93586\n",
       "Nb of sec with 37500B < Vol UL              130254\n",
       "Nb of sec with 6250B < Vol DL < 31250B       88317\n",
       "Nb of sec with 6250B < Vol UL < 37500B      111843\n",
       "Nb of sec with Vol DL < 6250B                  755\n",
       "Nb of sec with Vol UL < 1250B                  793\n",
       "Social Media DL (Bytes)                          0\n",
       "Social Media UL (Bytes)                          0\n",
       "Google DL (Bytes)                                0\n",
       "Google UL (Bytes)                                0\n",
       "Email DL (Bytes)                                 0\n",
       "Email UL (Bytes)                                 0\n",
       "Youtube DL (Bytes)                               0\n",
       "Youtube UL (Bytes)                               0\n",
       "Netflix DL (Bytes)                               0\n",
       "Netflix UL (Bytes)                               0\n",
       "Gaming DL (Bytes)                                0\n",
       "Gaming UL (Bytes)                                0\n",
       "Other DL (Bytes)                                 0\n",
       "Other UL (Bytes)                                 0\n",
       "Total UL (Bytes)                                 1\n",
       "Total DL (Bytes)                                 1\n",
       "dtype: int64"
      ]
     },
     "execution_count": 10,
     "metadata": {},
     "output_type": "execute_result"
    }
   ],
   "source": [
    "db.isna().sum()"
   ]
  },
  {
   "cell_type": "code",
   "execution_count": 11,
   "metadata": {},
   "outputs": [
    {
     "data": {
      "text/plain": [
       "Bearer Id                                     0.026666\n",
       "Start ms                                      0.000968\n",
       "End ms                                       -0.001163\n",
       "Dur. (ms)                                     3.952609\n",
       "IMSI                                         41.045956\n",
       "MSISDN/Number                               332.155856\n",
       "IMEI                                          1.071470\n",
       "Avg RTT DL (ms)                              62.907828\n",
       "Avg RTT UL (ms)                              28.457415\n",
       "Avg Bearer TP DL (kbps)                       2.589437\n",
       "Avg Bearer TP UL (kbps)                       4.503413\n",
       "TCP DL Retrans. Vol (Bytes)                  15.951809\n",
       "TCP UL Retrans. Vol (Bytes)                  84.113393\n",
       "DL TP < 50 Kbps (%)                          -2.297803\n",
       "50 Kbps < DL TP < 250 Kbps (%)                3.271453\n",
       "250 Kbps < DL TP < 1 Mbps (%)                 4.566158\n",
       "DL TP > 1 Mbps (%)                            5.370351\n",
       "UL TP < 10 Kbps (%)                          -8.985016\n",
       "10 Kbps < UL TP < 50 Kbps (%)                10.943888\n",
       "50 Kbps < UL TP < 300 Kbps (%)               21.878495\n",
       "UL TP > 300 Kbps (%)                         36.174053\n",
       "HTTP DL (Bytes)                              38.944710\n",
       "HTTP UL (Bytes)                              32.474970\n",
       "Activity Duration DL (ms)                     5.872256\n",
       "Activity Duration UL (ms)                     7.382557\n",
       "Dur. (ms).1                                   3.952609\n",
       "Nb of sec with 125000B < Vol DL               6.592502\n",
       "Nb of sec with 1250B < Vol UL < 6250B        22.035745\n",
       "Nb of sec with 31250B < Vol DL < 125000B      6.610541\n",
       "Nb of sec with 37500B < Vol UL               21.560028\n",
       "Nb of sec with 6250B < Vol DL < 31250B        6.896050\n",
       "Nb of sec with 6250B < Vol UL < 37500B       19.642752\n",
       "Nb of sec with Vol DL < 6250B                 9.042166\n",
       "Nb of sec with Vol UL < 1250B                 7.495176\n",
       "Social Media DL (Bytes)                      -0.002136\n",
       "Social Media UL (Bytes)                      -0.000359\n",
       "Google DL (Bytes)                            -0.008092\n",
       "Google UL (Bytes)                             0.002216\n",
       "Email DL (Bytes)                             -0.002463\n",
       "Email UL (Bytes)                              0.007358\n",
       "Youtube DL (Bytes)                            0.000231\n",
       "Youtube UL (Bytes)                           -0.001142\n",
       "Netflix DL (Bytes)                           -0.002442\n",
       "Netflix UL (Bytes)                           -0.000113\n",
       "Gaming DL (Bytes)                            -0.003460\n",
       "Gaming UL (Bytes)                            -0.001840\n",
       "Other DL (Bytes)                              0.001400\n",
       "Other UL (Bytes)                              0.001392\n",
       "Total UL (Bytes)                             -0.002456\n",
       "Total DL (Bytes)                             -0.003153\n",
       "dtype: float64"
      ]
     },
     "execution_count": 11,
     "metadata": {},
     "output_type": "execute_result"
    }
   ],
   "source": [
    "db.skew(axis=0)\n",
    "# to check the distribution of the data of the whole columns"
   ]
  },
  {
   "cell_type": "code",
   "execution_count": 13,
   "metadata": {},
   "outputs": [
    {
     "data": {
      "text/plain": [
       "(0, 55)"
      ]
     },
     "execution_count": 13,
     "metadata": {},
     "output_type": "execute_result"
    }
   ],
   "source": [
    "duplicated_entries = db[db.duplicated()]\n",
    "duplicated_entries.shape\n"
   ]
  },
  {
   "cell_type": "code",
   "execution_count": 14,
   "metadata": {},
   "outputs": [
    {
     "data": {
      "text/plain": [
       "array([[<AxesSubplot:title={'center':'Bearer Id'}>,\n",
       "        <AxesSubplot:title={'center':'Start ms'}>,\n",
       "        <AxesSubplot:title={'center':'End ms'}>,\n",
       "        <AxesSubplot:title={'center':'Dur. (ms)'}>,\n",
       "        <AxesSubplot:title={'center':'IMSI'}>,\n",
       "        <AxesSubplot:title={'center':'MSISDN/Number'}>,\n",
       "        <AxesSubplot:title={'center':'IMEI'}>],\n",
       "       [<AxesSubplot:title={'center':'Avg RTT DL (ms)'}>,\n",
       "        <AxesSubplot:title={'center':'Avg RTT UL (ms)'}>,\n",
       "        <AxesSubplot:title={'center':'Avg Bearer TP DL (kbps)'}>,\n",
       "        <AxesSubplot:title={'center':'Avg Bearer TP UL (kbps)'}>,\n",
       "        <AxesSubplot:title={'center':'TCP DL Retrans. Vol (Bytes)'}>,\n",
       "        <AxesSubplot:title={'center':'TCP UL Retrans. Vol (Bytes)'}>,\n",
       "        <AxesSubplot:title={'center':'DL TP < 50 Kbps (%)'}>],\n",
       "       [<AxesSubplot:title={'center':'50 Kbps < DL TP < 250 Kbps (%)'}>,\n",
       "        <AxesSubplot:title={'center':'250 Kbps < DL TP < 1 Mbps (%)'}>,\n",
       "        <AxesSubplot:title={'center':'DL TP > 1 Mbps (%)'}>,\n",
       "        <AxesSubplot:title={'center':'UL TP < 10 Kbps (%)'}>,\n",
       "        <AxesSubplot:title={'center':'10 Kbps < UL TP < 50 Kbps (%)'}>,\n",
       "        <AxesSubplot:title={'center':'50 Kbps < UL TP < 300 Kbps (%)'}>,\n",
       "        <AxesSubplot:title={'center':'UL TP > 300 Kbps (%)'}>],\n",
       "       [<AxesSubplot:title={'center':'HTTP DL (Bytes)'}>,\n",
       "        <AxesSubplot:title={'center':'HTTP UL (Bytes)'}>,\n",
       "        <AxesSubplot:title={'center':'Activity Duration DL (ms)'}>,\n",
       "        <AxesSubplot:title={'center':'Activity Duration UL (ms)'}>,\n",
       "        <AxesSubplot:title={'center':'Dur. (ms).1'}>,\n",
       "        <AxesSubplot:title={'center':'Nb of sec with 125000B < Vol DL'}>,\n",
       "        <AxesSubplot:title={'center':'Nb of sec with 1250B < Vol UL < 6250B'}>],\n",
       "       [<AxesSubplot:title={'center':'Nb of sec with 31250B < Vol DL < 125000B'}>,\n",
       "        <AxesSubplot:title={'center':'Nb of sec with 37500B < Vol UL'}>,\n",
       "        <AxesSubplot:title={'center':'Nb of sec with 6250B < Vol DL < 31250B'}>,\n",
       "        <AxesSubplot:title={'center':'Nb of sec with 6250B < Vol UL < 37500B'}>,\n",
       "        <AxesSubplot:title={'center':'Nb of sec with Vol DL < 6250B'}>,\n",
       "        <AxesSubplot:title={'center':'Nb of sec with Vol UL < 1250B'}>,\n",
       "        <AxesSubplot:title={'center':'Social Media DL (Bytes)'}>],\n",
       "       [<AxesSubplot:title={'center':'Social Media UL (Bytes)'}>,\n",
       "        <AxesSubplot:title={'center':'Google DL (Bytes)'}>,\n",
       "        <AxesSubplot:title={'center':'Google UL (Bytes)'}>,\n",
       "        <AxesSubplot:title={'center':'Email DL (Bytes)'}>,\n",
       "        <AxesSubplot:title={'center':'Email UL (Bytes)'}>,\n",
       "        <AxesSubplot:title={'center':'Youtube DL (Bytes)'}>,\n",
       "        <AxesSubplot:title={'center':'Youtube UL (Bytes)'}>],\n",
       "       [<AxesSubplot:title={'center':'Netflix DL (Bytes)'}>,\n",
       "        <AxesSubplot:title={'center':'Netflix UL (Bytes)'}>,\n",
       "        <AxesSubplot:title={'center':'Gaming DL (Bytes)'}>,\n",
       "        <AxesSubplot:title={'center':'Gaming UL (Bytes)'}>,\n",
       "        <AxesSubplot:title={'center':'Other DL (Bytes)'}>,\n",
       "        <AxesSubplot:title={'center':'Other UL (Bytes)'}>,\n",
       "        <AxesSubplot:title={'center':'Total UL (Bytes)'}>],\n",
       "       [<AxesSubplot:title={'center':'Total DL (Bytes)'}>,\n",
       "        <AxesSubplot:>, <AxesSubplot:>, <AxesSubplot:>, <AxesSubplot:>,\n",
       "        <AxesSubplot:>, <AxesSubplot:>]], dtype=object)"
      ]
     },
     "execution_count": 14,
     "metadata": {},
     "output_type": "execute_result"
    },
    {
     "data": {
      "image/png": "[encoded data removed]",
      "text/plain": [
       "<Figure size 2160x1800 with 56 Axes>"
      ]
     },
     "metadata": {
      "needs_background": "light"
     },
     "output_type": "display_data"
    }
   ],
   "source": [
    "db.hist(bins=80, figsize=(30,25))"
   ]
  },
  {
   "cell_type": "code",
   "execution_count": 21,
   "metadata": {},
   "outputs": [
    {
     "data": {
      "text/plain": [
       "<AxesSubplot:>"
      ]
     },
     "execution_count": 21,
     "metadata": {},
     "output_type": "execute_result"
    },
    {
     "data": {
      "image/png": "[encoded data removed]",
      "text/plain": [
       "<Figure size 432x288 with 1 Axes>"
      ]
     },
     "metadata": {
      "needs_background": "light"
     },
     "output_type": "display_data"
    }
   ],
   "source": [
    "db['Bearer Id'].hist()\n",
    "# to check the distribution of the data of a column"
   ]
  },
  {
   "cell_type": "code",
   "execution_count": 22,
   "metadata": {},
   "outputs": [
    {
     "data": {
      "text/plain": [
       "<seaborn.axisgrid.FacetGrid at 0x7f0e9e65d518>"
      ]
     },
     "execution_count": 22,
     "metadata": {},
     "output_type": "execute_result"
    },
    {
     "data": {
      "image/png": "[encoded data removed]",
      "text/plain": [
       "<Figure size 360x360 with 1 Axes>"
      ]
     },
     "metadata": {
      "needs_background": "light"
     },
     "output_type": "display_data"
    }
   ],
   "source": [
    "import seaborn as sns\n",
    "sns.displot(data=db, x=db['Netflix UL (Bytes)'])\n",
    "# to check the distribution of the data of a specific column"
   ]
  },
  {
   "cell_type": "code",
   "execution_count": 23,
   "metadata": {},
   "outputs": [
    {
     "data": {
      "text/plain": [
       "(150001, 39)"
      ]
     },
     "execution_count": 23,
     "metadata": {},
     "output_type": "execute_result"
    }
   ],
   "source": [
    "df_clean = db.drop(\n",
    "    ['Nb of sec with 125000B < Vol DL' ,             \n",
    "'Nb of sec with 1250B < Vol UL < 6250B' ,     \n",
    "'Nb of sec with 31250B < Vol DL < 125000B',     \n",
    "'Nb of sec with 37500B < Vol UL',              \n",
    "'Nb of sec with 6250B < Vol DL < 31250B',       \n",
    "'Nb of sec with 6250B < Vol UL < 37500B',      \n",
    "'Nb of sec with Vol DL < 6250B',                \n",
    "'Nb of sec with Vol UL < 1250B',\n",
    " 'DL TP < 50 Kbps (%)',                         \n",
    "'50 Kbps < DL TP < 250 Kbps (%)',              \n",
    "'250 Kbps < DL TP < 1 Mbps (%)',               \n",
    "'DL TP > 1 Mbps (%)',                          \n",
    "'UL TP < 10 Kbps (%)',                         \n",
    "'10 Kbps < UL TP < 50 Kbps (%)',               \n",
    "'50 Kbps < UL TP < 300 Kbps (%)',              \n",
    "'UL TP > 300 Kbps (%)',    \n",
    "    ], axis=1)\n",
    "df_clean.shape"
   ]
  },
  {
   "cell_type": "code",
   "execution_count": 24,
   "metadata": {},
   "outputs": [
    {
     "data": {
      "text/plain": [
       "Bearer Id                      float64\n",
       "Start                           object\n",
       "Start ms                       float64\n",
       "End                             object\n",
       "End ms                         float64\n",
       "Dur. (ms)                      float64\n",
       "IMSI                           float64\n",
       "MSISDN/Number                  float64\n",
       "IMEI                           float64\n",
       "Last Location Name              object\n",
       "Avg RTT DL (ms)                float64\n",
       "Avg RTT UL (ms)                float64\n",
       "Avg Bearer TP DL (kbps)        float64\n",
       "Avg Bearer TP UL (kbps)        float64\n",
       "TCP DL Retrans. Vol (Bytes)    float64\n",
       "TCP UL Retrans. Vol (Bytes)    float64\n",
       "HTTP DL (Bytes)                float64\n",
       "HTTP UL (Bytes)                float64\n",
       "Activity Duration DL (ms)      float64\n",
       "Activity Duration UL (ms)      float64\n",
       "Dur. (ms).1                    float64\n",
       "Handset Manufacturer            object\n",
       "Handset Type                    object\n",
       "Social Media DL (Bytes)        float64\n",
       "Social Media UL (Bytes)        float64\n",
       "Google DL (Bytes)              float64\n",
       "Google UL (Bytes)              float64\n",
       "Email DL (Bytes)               float64\n",
       "Email UL (Bytes)               float64\n",
       "Youtube DL (Bytes)             float64\n",
       "Youtube UL (Bytes)             float64\n",
       "Netflix DL (Bytes)             float64\n",
       "Netflix UL (Bytes)             float64\n",
       "Gaming DL (Bytes)              float64\n",
       "Gaming UL (Bytes)              float64\n",
       "Other DL (Bytes)               float64\n",
       "Other UL (Bytes)               float64\n",
       "Total UL (Bytes)               float64\n",
       "Total DL (Bytes)               float64\n",
       "dtype: object"
      ]
     },
     "execution_count": 24,
     "metadata": {},
     "output_type": "execute_result"
    }
   ],
   "source": [
    "df_clean.dtypes"
   ]
  },
  {
   "cell_type": "code",
   "execution_count": 25,
   "metadata": {},
   "outputs": [
    {
     "data": {
      "text/plain": [
       "Bearer Id                        991\n",
       "Start                              1\n",
       "Start ms                           1\n",
       "End                                1\n",
       "End ms                             1\n",
       "Dur. (ms)                          1\n",
       "IMSI                             570\n",
       "MSISDN/Number                   1066\n",
       "IMEI                             572\n",
       "Last Location Name              1153\n",
       "Avg RTT DL (ms)                27829\n",
       "Avg RTT UL (ms)                27812\n",
       "Avg Bearer TP DL (kbps)            1\n",
       "Avg Bearer TP UL (kbps)            1\n",
       "TCP DL Retrans. Vol (Bytes)    88146\n",
       "TCP UL Retrans. Vol (Bytes)    96649\n",
       "HTTP DL (Bytes)                81474\n",
       "HTTP UL (Bytes)                81810\n",
       "Activity Duration DL (ms)          1\n",
       "Activity Duration UL (ms)          1\n",
       "Dur. (ms).1                        1\n",
       "Handset Manufacturer             572\n",
       "Handset Type                     572\n",
       "Social Media DL (Bytes)            0\n",
       "Social Media UL (Bytes)            0\n",
       "Google DL (Bytes)                  0\n",
       "Google UL (Bytes)                  0\n",
       "Email DL (Bytes)                   0\n",
       "Email UL (Bytes)                   0\n",
       "Youtube DL (Bytes)                 0\n",
       "Youtube UL (Bytes)                 0\n",
       "Netflix DL (Bytes)                 0\n",
       "Netflix UL (Bytes)                 0\n",
       "Gaming DL (Bytes)                  0\n",
       "Gaming UL (Bytes)                  0\n",
       "Other DL (Bytes)                   0\n",
       "Other UL (Bytes)                   0\n",
       "Total UL (Bytes)                   1\n",
       "Total DL (Bytes)                   1\n",
       "dtype: int64"
      ]
     },
     "execution_count": 25,
     "metadata": {},
     "output_type": "execute_result"
    }
   ],
   "source": [
    "df_clean.isna().sum()"
   ]
  },
  {
   "cell_type": "code",
   "execution_count": 26,
   "metadata": {},
   "outputs": [],
   "source": [
    "df_clean['Start'] = df_clean['Start'].fillna(df_clean['Start'].mode()[0])\n",
    "df_clean['End'] = df_clean['End'].fillna(df_clean['End'].mode()[0])\n",
    "df_clean['Last Location Name'] = df_clean['Last Location Name'].fillna(df_clean['Last Location Name'].mode()[0])\n",
    "df_clean['Handset Manufacturer'] = df_clean['Handset Manufacturer'].fillna(df_clean['Handset Manufacturer'].mode()[0])\n",
    "df_clean['Handset Type'] = df_clean['Handset Type'].fillna(df_clean['Handset Type'].mode()[0])"
   ]
  },
  {
   "cell_type": "code",
   "execution_count": 27,
   "metadata": {},
   "outputs": [],
   "source": [
    "df_clean['Bearer Id'] = df_clean['Bearer Id'].fillna(df_clean['Bearer Id'].median())\n",
    "df_clean['Start ms'] = df_clean['Start ms'].fillna(df_clean['Start ms'].median())\n",
    "df_clean['End ms'] = df_clean['End ms'].fillna(df_clean['End ms'].median())\n",
    "df_clean['Dur. (ms)'] = df_clean['Dur. (ms)'].fillna(df_clean['Dur. (ms)'].median())\n",
    "df_clean['IMSI'] = df_clean['IMSI'].fillna(df_clean['IMSI'].median())\n",
    "df_clean['MSISDN/Number'] = df_clean['MSISDN/Number'].fillna(df_clean['MSISDN/Number'].median())\n",
    "df_clean['IMEI'] = df_clean['IMEI'].fillna(df_clean['IMEI'].median())\n",
    "df_clean['Avg RTT DL (ms)'] = df_clean['Avg RTT DL (ms)'].fillna(df_clean['Avg RTT DL (ms)'].median())\n",
    "df_clean['Avg RTT UL (ms)'] = df_clean['Avg RTT UL (ms)'].fillna(df_clean['Avg RTT UL (ms)'].median())\n",
    "df_clean['Avg Bearer TP DL (kbps)'] = df_clean['Avg Bearer TP DL (kbps)'].fillna(df_clean['Avg Bearer TP DL (kbps)'].median())\n",
    "df_clean['Avg Bearer TP UL (kbps)'] = df_clean['Avg Bearer TP UL (kbps)'].fillna(df_clean['Avg Bearer TP UL (kbps)'].median())\n",
    "df_clean['TCP DL Retrans. Vol (Bytes)'] = df_clean['TCP DL Retrans. Vol (Bytes)'].fillna(df_clean['TCP DL Retrans. Vol (Bytes)'].median())\n",
    "df_clean['TCP UL Retrans. Vol (Bytes)'] = df_clean['TCP UL Retrans. Vol (Bytes)'].fillna(df_clean['TCP UL Retrans. Vol (Bytes)'].median())\n",
    "df_clean['HTTP DL (Bytes)'] = df_clean['HTTP DL (Bytes)'].fillna(df_clean['HTTP DL (Bytes)'].median())\n",
    "df_clean['HTTP UL (Bytes)'] = df_clean['HTTP UL (Bytes)'].fillna(df_clean['HTTP UL (Bytes)'].median())\n",
    "df_clean['Activity Duration DL (ms)'] = df_clean['Activity Duration DL (ms)'].fillna(df_clean['Activity Duration DL (ms)'].median())\n",
    "df_clean['Activity Duration UL (ms)'] = df_clean['Activity Duration UL (ms)'].fillna(df_clean['Activity Duration UL (ms)'].median())"
   ]
  },
  {
   "cell_type": "code",
   "execution_count": 28,
   "metadata": {},
   "outputs": [],
   "source": [
    "df_clean['Dur. (ms).1'] = df_clean['Dur. (ms).1'].fillna(df_clean['Dur. (ms).1'].median())\n",
    "df_clean['Total DL (Bytes)'] = df_clean['Total DL (Bytes)'].fillna(df_clean['Total DL (Bytes)'].median())"
   ]
  },
  {
   "cell_type": "code",
   "execution_count": 29,
   "metadata": {},
   "outputs": [
    {
     "data": {
      "text/html": [
       "<div>\n",
       "<style scoped>\n",
       "    .dataframe tbody tr th:only-of-type {\n",
       "        vertical-align: middle;\n",
       "    }\n",
       "\n",
       "    .dataframe tbody tr th {\n",
       "        vertical-align: top;\n",
       "    }\n",
       "\n",
       "    .dataframe thead th {\n",
       "        text-align: right;\n",
       "    }\n",
       "</style>\n",
       "<table border=\"1\" class=\"dataframe\">\n",
       "  <thead>\n",
       "    <tr style=\"text-align: right;\">\n",
       "      <th></th>\n",
       "      <th>0</th>\n",
       "    </tr>\n",
       "  </thead>\n",
       "  <tbody>\n",
       "    <tr>\n",
       "      <th>143</th>\n",
       "      <td>48.123016</td>\n",
       "    </tr>\n",
       "    <tr>\n",
       "      <th>476</th>\n",
       "      <td>683.722510</td>\n",
       "    </tr>\n",
       "    <tr>\n",
       "      <th>1728</th>\n",
       "      <td>4.833488</td>\n",
       "    </tr>\n",
       "    <tr>\n",
       "      <th>555</th>\n",
       "      <td>48.572190</td>\n",
       "    </tr>\n",
       "    <tr>\n",
       "      <th>498</th>\n",
       "      <td>15.971873</td>\n",
       "    </tr>\n",
       "    <tr>\n",
       "      <th>308</th>\n",
       "      <td>513.988613</td>\n",
       "    </tr>\n",
       "    <tr>\n",
       "      <th>254</th>\n",
       "      <td>346.084094</td>\n",
       "    </tr>\n",
       "    <tr>\n",
       "      <th>1039</th>\n",
       "      <td>37.814803</td>\n",
       "    </tr>\n",
       "    <tr>\n",
       "      <th>573</th>\n",
       "      <td>71.791089</td>\n",
       "    </tr>\n",
       "    <tr>\n",
       "      <th>624</th>\n",
       "      <td>53.481390</td>\n",
       "    </tr>\n",
       "  </tbody>\n",
       "</table>\n",
       "</div>"
      ],
      "text/plain": [
       "               0\n",
       "143    48.123016\n",
       "476   683.722510\n",
       "1728    4.833488\n",
       "555    48.572190\n",
       "498    15.971873\n",
       "308   513.988613\n",
       "254   346.084094\n",
       "1039   37.814803\n",
       "573    71.791089\n",
       "624    53.481390"
      ]
     },
     "execution_count": 29,
     "metadata": {},
     "output_type": "execute_result"
    }
   ],
   "source": [
    "# generate 1000 data points randomly drawn from an exponential distribution\n",
    "original_data = pd.DataFrame(np.random.exponential(200, size=2000))\n",
    "\n",
    "original_data.sample(10)"
   ]
  },
  {
   "cell_type": "code",
   "execution_count": 30,
   "metadata": {},
   "outputs": [
    {
     "data": {
      "text/plain": [
       "(0.06347972369105488, 1402.4323785063382)"
      ]
     },
     "execution_count": 30,
     "metadata": {},
     "output_type": "execute_result"
    }
   ],
   "source": [
    "original_data[0].min(), original_data[0].max()"
   ]
  },
  {
   "cell_type": "code",
   "execution_count": 31,
   "metadata": {},
   "outputs": [
    {
     "data": {
      "image/png": "[encoded data removed]",
      "text/plain": [
       "<Figure size 432x288 with 1 Axes>"
      ]
     },
     "metadata": {
      "needs_background": "light"
     },
     "output_type": "display_data"
    }
   ],
   "source": [
    "count, bins, ignored = plt.hist(original_data, 14)\n",
    "plt.show()"
   ]
  },
  {
   "cell_type": "code",
   "execution_count": 32,
   "metadata": {},
   "outputs": [
    {
     "data": {
      "image/png": "[encoded data removed]",
      "text/plain": [
       "<Figure size 720x432 with 2 Axes>"
      ]
     },
     "metadata": {
      "needs_background": "light"
     },
     "output_type": "display_data"
    }
   ],
   "source": [
    "from sklearn.preprocessing import StandardScaler\n",
    "def standard_scaler(df):\n",
    "    s_scaler = StandardScaler()\n",
    "    scaled_data = s_scaler.fit_transform(df)\n",
    "\n",
    "    # plot both together to compare\n",
    "    fig, ax = plt.subplots(1,2, figsize=(10, 6))\n",
    "    sns.histplot(original_data, ax=ax[0])\n",
    "    ax[0].set_title(\"Original Data\")\n",
    "    sns.histplot(scaled_data, ax=ax[1])\n",
    "    ax[1].set_title(\"Scaled data\")\n",
    "    \n",
    "standard_scaler(original_data)"
   ]
  },
  {
   "cell_type": "code",
   "execution_count": 33,
   "metadata": {},
   "outputs": [],
   "source": [
    "df1 = df_clean.drop([\n",
    "    'Social Media DL (Bytes)',   \n",
    "'Social Media UL (Bytes)',        \n",
    "'Google DL (Bytes)',              \n",
    "'Google UL (Bytes)',              \n",
    "'Email DL (Bytes)',               \n",
    "'Email UL (Bytes)',               \n",
    "'Youtube DL (Bytes)',             \n",
    "'Youtube UL (Bytes)',            \n",
    "'Netflix DL (Bytes)',             \n",
    "'Netflix UL (Bytes)',            \n",
    "'Gaming DL (Bytes)',              \n",
    "'Gaming UL (Bytes)',             \n",
    "'Other DL (Bytes)',               \n",
    "'Other UL (Bytes)',              \n",
    "'Total UL (Bytes)',            \n",
    "'Total DL (Bytes)',\n",
    "'Last Location Name',              \n",
    "'Avg RTT DL (ms)',                \n",
    "'Avg RTT UL (ms)',                \n",
    "'Avg Bearer TP DL (kbps)',        'Avg Bearer TP UL (kbps)',        \n",
    "'TCP DL Retrans. Vol (Bytes)',    'TCP UL Retrans. Vol (Bytes)',   \n",
    "'HTTP DL (Bytes)',                \n",
    "'HTTP UL (Bytes)', \n",
    "],axis = 1\n",
    "\n",
    ")"
   ]
  },
  {
   "cell_type": "code",
   "execution_count": 34,
   "metadata": {},
   "outputs": [
    {
     "data": {
      "text/plain": [
       "Bearer Id                    float64\n",
       "Start                         object\n",
       "Start ms                     float64\n",
       "End                           object\n",
       "End ms                       float64\n",
       "Dur. (ms)                    float64\n",
       "IMSI                         float64\n",
       "MSISDN/Number                float64\n",
       "IMEI                         float64\n",
       "Activity Duration DL (ms)    float64\n",
       "Activity Duration UL (ms)    float64\n",
       "Dur. (ms).1                  float64\n",
       "Handset Manufacturer          object\n",
       "Handset Type                  object\n",
       "dtype: object"
      ]
     },
     "execution_count": 34,
     "metadata": {},
     "output_type": "execute_result"
    }
   ],
   "source": [
    "df1.dtypes\n"
   ]
  },
  {
   "cell_type": "code",
   "execution_count": 35,
   "metadata": {},
   "outputs": [],
   "source": [
    "df1.to_csv(r\"../data/clean_data.csv\", index = False)"
   ]
  },
  {
   "cell_type": "code",
   "execution_count": 36,
   "metadata": {},
   "outputs": [],
   "source": [
    "# Function to calculate missing values by column\n",
    "def missing_values_table(df):\n",
    "    # Total missing values\n",
    "    mis_val = df.isnull().sum()\n",
    "\n",
    "    # Percentage of missing values\n",
    "    mis_val_percent = 100 * df.isnull().sum() / len(df)\n",
    "\n",
    "    # dtype of missing values\n",
    "    mis_val_dtype = df.dtypes\n",
    "\n",
    "    # Make a table with the results\n",
    "    mis_val_table = pd.concat([mis_val, mis_val_percent, mis_val_dtype], axis=1)\n",
    "\n",
    "    # Rename the columns\n",
    "    mis_val_table_ren_columns = mis_val_table.rename(\n",
    "    columns = {0 : 'Missing Values', 1 : '% of Total Values', 2: 'Dtype'})\n",
    "\n",
    "    # Sort the table by percentage of missing descending\n",
    "    mis_val_table_ren_columns = mis_val_table_ren_columns[\n",
    "        mis_val_table_ren_columns.iloc[:,1] != 0].sort_values(\n",
    "    '% of Total Values', ascending=False).round(1)\n",
    "\n",
    "    # Print some summary information\n",
    "    print (\"Your selected dataframe has \" + str(df.shape[1]) + \" columns.\\n\"      \n",
    "        \"There are \" + str(mis_val_table_ren_columns.shape[0]) +\n",
    "          \" columns that have missing values.\")\n",
    "\n",
    "    # Return the dataframe with missing information\n",
    "    return mis_val_table_ren_columns\n",
    "\n",
    "def format_float(value):\n",
    "    return f'{value:,.2f}'\n",
    "\n",
    "def find_agg(df:pd.DataFrame, agg_column:str, agg_metric:str, col_name:str, top:int, order=False )->pd.DataFrame:\n",
    "    \n",
    "    new_df = df.groupby(agg_column)[agg_column].agg(agg_metric).reset_index(name=col_name).\\\n",
    "                        sort_values(by=col_name, ascending=order)[:top]\n",
    "    \n",
    "    return new_df\n",
    "\n",
    "def convert_bytes_to_megabytes(df, bytes_data):\n",
    "    \"\"\"\n",
    "        This function takes the dataframe and the column which has the bytes values\n",
    "        returns the megabytesof that value\n",
    "        \n",
    "        Args:\n",
    "        -----\n",
    "        df: dataframe\n",
    "        bytes_data: column with bytes values\n",
    "        \n",
    "        Returns:\n",
    "        --------\n",
    "        A series\n",
    "    \"\"\"\n",
    "    \n",
    "    megabyte = 1*10e+5\n",
    "    df[bytes_data] = df[bytes_data] / megabyte\n",
    "    \n",
    "    return df[bytes_data]\n",
    "\n",
    "pd.options.display.float_format = format_float"
   ]
  },
  {
   "cell_type": "code",
   "execution_count": 37,
   "metadata": {},
   "outputs": [
    {
     "name": "stdout",
     "output_type": "stream",
     "text": [
      "Huawei B528S-23A                20324\n",
      "Apple iPhone 6S (A1688)          9419\n",
      "Apple iPhone 6 (A1586)           9023\n",
      "undefined                        8987\n",
      "Apple iPhone 7 (A1778)           6326\n",
      "Apple iPhone Se (A1723)          5187\n",
      "Apple iPhone 8 (A1905)           4993\n",
      "Apple iPhone Xr (A2105)          4568\n",
      "Samsung Galaxy S8 (Sm-G950F)     4520\n",
      "Apple iPhone X (A1901)           3813\n",
      "Name: Handset Type, dtype: int64\n"
     ]
    },
    {
     "data": {
      "text/plain": [
       "<AxesSubplot:title={'center':'The top 10 handset used by customers'}, ylabel='Handset Type'>"
      ]
     },
     "execution_count": 37,
     "metadata": {},
     "output_type": "execute_result"
    },
    {
     "data": {
      "image/png": "[encoded data removed]",
      "text/plain": [
       "<Figure size 432x288 with 1 Axes>"
      ]
     },
     "metadata": {},
     "output_type": "display_data"
    }
   ],
   "source": [
    "all = df_clean['Handset Type'].value_counts().head(10)\n",
    "print(all)\n",
    "all.plot(kind=\"pie\", title=\"The top 10 handset used by customers\")"
   ]
  },
  {
   "cell_type": "code",
   "execution_count": 38,
   "metadata": {
    "scrolled": true
   },
   "outputs": [
    {
     "name": "stdout",
     "output_type": "stream",
     "text": [
      "Apple      60137\n",
      "Samsung    40839\n",
      "Huawei     34423\n",
      "Name: Handset Manufacturer, dtype: int64\n"
     ]
    },
    {
     "data": {
      "text/plain": [
       "<AxesSubplot:title={'center':'The top 3 handset manufacturers'}, ylabel='Handset Manufacturer'>"
      ]
     },
     "execution_count": 38,
     "metadata": {},
     "output_type": "execute_result"
    },
    {
     "data": {
      "image/png": "[encoded data removed]",
      "text/plain": [
       "<Figure size 432x288 with 1 Axes>"
      ]
     },
     "metadata": {},
     "output_type": "display_data"
    }
   ],
   "source": [
    "df_top_3_manf = df_clean['Handset Manufacturer'].value_counts().head(3)\n",
    "print(df_top_3_manf)\n",
    "df_top_3_manf.plot(kind=\"pie\", title=\"The top 3 handset manufacturers\")"
   ]
  },
  {
   "cell_type": "code",
   "execution_count": 39,
   "metadata": {
    "scrolled": false
   },
   "outputs": [
    {
     "name": "stdout",
     "output_type": "stream",
     "text": [
      "Top 5 apple headset types\n",
      " Handset Type           \n",
      "Apple iPhone 6S (A1688)    9419\n",
      "Apple iPhone 6 (A1586)     9023\n",
      "Apple iPhone 7 (A1778)     6326\n",
      "Apple iPhone Se (A1723)    5187\n",
      "Apple iPhone 8 (A1905)     4993\n",
      "dtype: int64\n",
      "\n",
      "Top 5 samsung headset types\n",
      " Handset Type                \n",
      "Samsung Galaxy S8 (Sm-G950F)    4520\n",
      "Samsung Galaxy A5 Sm-A520F      3724\n",
      "Samsung Galaxy J5 (Sm-J530)     3696\n",
      "Samsung Galaxy J3 (Sm-J330)     3484\n",
      "Samsung Galaxy S7 (Sm-G930X)    3199\n",
      "dtype: int64\n",
      "\n",
      "Top 5 huawei headset types\n",
      " Handset Type                  \n",
      "Huawei B528S-23A                  19752\n",
      "Huawei E5180                       2079\n",
      "Huawei P20 Lite Huawei Nova 3E     2021\n",
      "Huawei P20                         1480\n",
      "Huawei Y6 2018                      997\n",
      "dtype: int64\n"
     ]
    }
   ],
   "source": [
    "\n",
    "# get the top 10 handsets used by customers\n",
    "\n",
    "# get the top 3 handset manufacturers\n",
    "\n",
    "apple_manufacturer = df_clean.loc[df_clean['Handset Manufacturer'] == 'Apple', ['Handset Type']].value_counts().nlargest(5)\n",
    "samsung_manufacturer = df_clean.loc[df_clean['Handset Manufacturer'] == 'Samsung', ['Handset Type']].value_counts().nlargest(5)\n",
    "huawei_manufacturer = df_clean.loc[df_clean['Handset Manufacturer'] == 'Huawei', ['Handset Type']].value_counts().nlargest(5)\n",
    "\n",
    "print(\"Top 5 apple headset types\\n\", apple_manufacturer)\n",
    "print(\"\\nTop 5 samsung headset types\\n\", samsung_manufacturer)\n",
    "print(\"\\nTop 5 huawei headset types\\n\", huawei_manufacturer)"
   ]
  },
  {
   "cell_type": "code",
   "execution_count": 40,
   "metadata": {},
   "outputs": [
    {
     "data": {
      "text/plain": [
       "<pandas.core.groupby.generic.DataFrameGroupBy object at 0x7f0e98605eb8>"
      ]
     },
     "execution_count": 40,
     "metadata": {},
     "output_type": "execute_result"
    }
   ],
   "source": [
    "df_clean.groupby('IMEI')"
   ]
  },
  {
   "cell_type": "code",
   "execution_count": 41,
   "metadata": {},
   "outputs": [
    {
     "name": "stdout",
     "output_type": "stream",
     "text": [
      "The Telecommunication dataset contains 0.0 % missing values.\n"
     ]
    }
   ],
   "source": [
    "percent_missing(df_clean)"
   ]
  },
  {
   "cell_type": "code",
   "execution_count": 42,
   "metadata": {},
   "outputs": [
    {
     "name": "stdout",
     "output_type": "stream",
     "text": [
      "Your selected dataframe has 39 columns.\n",
      "There are 1 columns that have missing values.\n"
     ]
    },
    {
     "data": {
      "text/html": [
       "<div>\n",
       "<style scoped>\n",
       "    .dataframe tbody tr th:only-of-type {\n",
       "        vertical-align: middle;\n",
       "    }\n",
       "\n",
       "    .dataframe tbody tr th {\n",
       "        vertical-align: top;\n",
       "    }\n",
       "\n",
       "    .dataframe thead th {\n",
       "        text-align: right;\n",
       "    }\n",
       "</style>\n",
       "<table border=\"1\" class=\"dataframe\">\n",
       "  <thead>\n",
       "    <tr style=\"text-align: right;\">\n",
       "      <th></th>\n",
       "      <th>Missing Values</th>\n",
       "      <th>% of Total Values</th>\n",
       "      <th>Dtype</th>\n",
       "    </tr>\n",
       "  </thead>\n",
       "  <tbody>\n",
       "    <tr>\n",
       "      <th>Total UL (Bytes)</th>\n",
       "      <td>1</td>\n",
       "      <td>0.00</td>\n",
       "      <td>float64</td>\n",
       "    </tr>\n",
       "  </tbody>\n",
       "</table>\n",
       "</div>"
      ],
      "text/plain": [
       "                  Missing Values  % of Total Values    Dtype\n",
       "Total UL (Bytes)               1               0.00  float64"
      ]
     },
     "execution_count": 42,
     "metadata": {},
     "output_type": "execute_result"
    }
   ],
   "source": [
    "missing_values_table(df_clean)"
   ]
  },
  {
   "cell_type": "code",
   "execution_count": 43,
   "metadata": {},
   "outputs": [
    {
     "data": {
      "text/plain": [
       "(150001, 55)"
      ]
     },
     "execution_count": 43,
     "metadata": {},
     "output_type": "execute_result"
    }
   ],
   "source": [
    "db.shape"
   ]
  },
  {
   "cell_type": "code",
   "execution_count": 52,
   "metadata": {},
   "outputs": [],
   "source": [
    "df_clean[\"social_media\"] = df_clean[\"Social Media UL (Bytes)\"] + df_clean['Social Media DL (Bytes)']\n",
    "df_clean[\"google\"] = df_clean[\"Google UL (Bytes)\"] + df_clean[\"Google DL (Bytes)\"]\n",
    "df_clean['email'] = df_clean[\"Email UL (Bytes)\"] + df_clean[\"Email DL (Bytes)\"]\n",
    "df_clean['youtube'] = df_clean[\"Youtube UL (Bytes)\"] + df_clean[\"Youtube DL (Bytes)\"]\n",
    "df_clean['netflix'] = df_clean[\"Netflix UL (Bytes)\"] + df_clean[\"Netflix DL (Bytes)\"]\n",
    "df_clean[\"gaming\"] = df_clean[\"Gaming UL (Bytes)\"] + df_clean[\"Gaming DL (Bytes)\"]\n",
    "df_clean['other'] = df_clean[\"Other UL (Bytes)\"]+df_clean[\"Other DL (Bytes)\"]\n",
    "df_clean['total_data'] = df_clean['Total UL (Bytes)'] + df_clean['Total DL (Bytes)']\n"
   ]
  },
  {
   "cell_type": "code",
   "execution_count": 57,
   "metadata": {},
   "outputs": [],
   "source": [
    "df_clean['social_media'] = convert_bytes_to_megabytes(df_clean, 'social_media')\n",
    "df_clean[\"google\"] = convert_bytes_to_megabytes(df_clean, 'google')\n",
    "df_clean['email'] = convert_bytes_to_megabytes(df_clean, 'email')\n",
    "df_clean['youtube'] = convert_bytes_to_megabytes(df_clean, 'youtube')\n",
    "df_clean['netflix'] = convert_bytes_to_megabytes(df_clean, 'netflix')\n",
    "df_clean[\"gaming\"] = convert_bytes_to_megabytes(df_clean, 'gaming')\n",
    "df_clean['other'] = convert_bytes_to_megabytes(df_clean, 'other')\n",
    "df_clean['total_data'] = convert_bytes_to_megabytes(df_clean, 'total_data')\n"
   ]
  },
  {
   "cell_type": "code",
   "execution_count": 59,
   "metadata": {},
   "outputs": [],
   "source": [
    "df_clean.to_csv('../data/cleaned_data.csv', index=False)"
   ]
  }
 ],
 "metadata": {
  "kernelspec": {
   "display_name": "Python 3",
   "language": "python",
   "name": "python3"
  },
  "language_info": {
   "codemirror_mode": {
    "name": "ipython",
    "version": 3
   },
   "file_extension": ".py",
   "mimetype": "text/x-python",
   "name": "python",
   "nbconvert_exporter": "python",
   "pygments_lexer": "ipython3",
   "version": "3.7.3"
  }
 },
 "nbformat": 4,
 "nbformat_minor": 2
}
