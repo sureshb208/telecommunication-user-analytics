{
 "cells": [
  {
   "cell_type": "code",
   "execution_count": 1,
   "metadata": {},
   "outputs": [],
   "source": [
    "import numpy as np\n",
    "import pandas as pd\n",
    "from sklearn.cluster import KMeans\n",
    "from kneed import KneeLocator\n",
    "from sklearn.metrics.pairwise import euclidean_distances\n",
    "from sklearn.preprocessing import StandardScaler, normalize\n",
    "from sklearn.linear_model import LinearRegression\n",
    "from sklearn import model_selection\n",
    "import matplotlib.pyplot as plt\n",
    "# import psycopg2\n",
    "import seaborn as sns\n",
    "import pickle\n",
    "import os\n",
    "import sys"
   ]
  },
  {
   "cell_type": "code",
   "execution_count": 2,
   "metadata": {},
   "outputs": [],
   "source": [
    "import warnings\n",
    "warnings.filterwarnings('ignore')"
   ]
  },
  {
   "cell_type": "code",
   "execution_count": 3,
   "metadata": {},
   "outputs": [],
   "source": [
    "sys.path.append(os.path.abspath(os.path.join('../scripts')))\n",
    "from preprocessing import PreProcess\n",
    "from overview import Overview\n",
    "from plot import Plot\n",
    "from loggers import Logger"
   ]
  },
  {
   "cell_type": "code",
   "execution_count": 4,
   "metadata": {},
   "outputs": [],
   "source": [
    "loggers = Logger(\"userSatisfaction.log\").get_app_logger()\n",
    "loggers.info(\"Initialized user satisfaction logger\")"
   ]
  },
  {
   "cell_type": "code",
   "execution_count": 5,
   "metadata": {},
   "outputs": [],
   "source": [
    "df_org = pd.read_csv('../data/cleaned_data_outliers.csv')\n",
    "df = df_org.copy()"
   ]
  },
  {
   "cell_type": "code",
   "execution_count": 6,
   "metadata": {},
   "outputs": [],
   "source": [
    "# Import user experience data\n",
    "user_exp = pd.read_csv('../data/user_exp.csv')\n",
    "\n",
    "# Import user engagement data\n",
    "user_eng = pd.read_csv('../data/user_eng.csv')"
   ]
  },
  {
   "cell_type": "code",
   "execution_count": 7,
   "metadata": {},
   "outputs": [
    {
     "data": {
      "text/html": [
       "<div>\n",
       "<style scoped>\n",
       "    .dataframe tbody tr th:only-of-type {\n",
       "        vertical-align: middle;\n",
       "    }\n",
       "\n",
       "    .dataframe tbody tr th {\n",
       "        vertical-align: top;\n",
       "    }\n",
       "\n",
       "    .dataframe thead th {\n",
       "        text-align: right;\n",
       "    }\n",
       "</style>\n",
       "<table border=\"1\" class=\"dataframe\">\n",
       "  <thead>\n",
       "    <tr style=\"text-align: right;\">\n",
       "      <th></th>\n",
       "      <th>MSISDN/Number</th>\n",
       "      <th>cluster</th>\n",
       "      <th>avg_rtt_total</th>\n",
       "      <th>avg_tp_total</th>\n",
       "      <th>total_avg_tcp_total</th>\n",
       "    </tr>\n",
       "  </thead>\n",
       "  <tbody>\n",
       "    <tr>\n",
       "      <th>0</th>\n",
       "      <td>24.237822</td>\n",
       "      <td>0</td>\n",
       "      <td>8.114390</td>\n",
       "      <td>7.274480</td>\n",
       "      <td>23.201031</td>\n",
       "    </tr>\n",
       "    <tr>\n",
       "      <th>1</th>\n",
       "      <td>24.237822</td>\n",
       "      <td>0</td>\n",
       "      <td>3.401197</td>\n",
       "      <td>7.803027</td>\n",
       "      <td>23.201031</td>\n",
       "    </tr>\n",
       "    <tr>\n",
       "      <th>2</th>\n",
       "      <td>24.237822</td>\n",
       "      <td>0</td>\n",
       "      <td>5.416100</td>\n",
       "      <td>7.763021</td>\n",
       "      <td>23.201031</td>\n",
       "    </tr>\n",
       "    <tr>\n",
       "      <th>3</th>\n",
       "      <td>24.237822</td>\n",
       "      <td>1</td>\n",
       "      <td>6.942157</td>\n",
       "      <td>9.102310</td>\n",
       "      <td>16.921539</td>\n",
       "    </tr>\n",
       "    <tr>\n",
       "      <th>4</th>\n",
       "      <td>24.237822</td>\n",
       "      <td>1</td>\n",
       "      <td>8.114390</td>\n",
       "      <td>27.135851</td>\n",
       "      <td>49.213729</td>\n",
       "    </tr>\n",
       "  </tbody>\n",
       "</table>\n",
       "</div>"
      ],
      "text/plain": [
       "   MSISDN/Number  cluster  avg_rtt_total  avg_tp_total  total_avg_tcp_total\n",
       "0      24.237822        0       8.114390      7.274480            23.201031\n",
       "1      24.237822        0       3.401197      7.803027            23.201031\n",
       "2      24.237822        0       5.416100      7.763021            23.201031\n",
       "3      24.237822        1       6.942157      9.102310            16.921539\n",
       "4      24.237822        1       8.114390     27.135851            49.213729"
      ]
     },
     "execution_count": 7,
     "metadata": {},
     "output_type": "execute_result"
    }
   ],
   "source": [
    "user_exp.head()"
   ]
  },
  {
   "cell_type": "code",
   "execution_count": 8,
   "metadata": {},
   "outputs": [
    {
     "data": {
      "text/html": [
       "<div>\n",
       "<style scoped>\n",
       "    .dataframe tbody tr th:only-of-type {\n",
       "        vertical-align: middle;\n",
       "    }\n",
       "\n",
       "    .dataframe tbody tr th {\n",
       "        vertical-align: top;\n",
       "    }\n",
       "\n",
       "    .dataframe thead th {\n",
       "        text-align: right;\n",
       "    }\n",
       "</style>\n",
       "<table border=\"1\" class=\"dataframe\">\n",
       "  <thead>\n",
       "    <tr style=\"text-align: right;\">\n",
       "      <th></th>\n",
       "      <th>MSISDN/Number</th>\n",
       "      <th>cluster</th>\n",
       "      <th>sessions</th>\n",
       "      <th>Dur. (ms)</th>\n",
       "      <th>total_data</th>\n",
       "    </tr>\n",
       "  </thead>\n",
       "  <tbody>\n",
       "    <tr>\n",
       "      <th>0</th>\n",
       "      <td>24.237822</td>\n",
       "      <td>0</td>\n",
       "      <td>1</td>\n",
       "      <td>11.667533</td>\n",
       "      <td>6.778433</td>\n",
       "    </tr>\n",
       "    <tr>\n",
       "      <th>1</th>\n",
       "      <td>24.237822</td>\n",
       "      <td>1</td>\n",
       "      <td>1</td>\n",
       "      <td>12.107522</td>\n",
       "      <td>5.055351</td>\n",
       "    </tr>\n",
       "    <tr>\n",
       "      <th>2</th>\n",
       "      <td>24.237822</td>\n",
       "      <td>2</td>\n",
       "      <td>1</td>\n",
       "      <td>11.812800</td>\n",
       "      <td>6.390184</td>\n",
       "    </tr>\n",
       "    <tr>\n",
       "      <th>3</th>\n",
       "      <td>24.237822</td>\n",
       "      <td>2</td>\n",
       "      <td>1</td>\n",
       "      <td>10.817335</td>\n",
       "      <td>6.045765</td>\n",
       "    </tr>\n",
       "    <tr>\n",
       "      <th>4</th>\n",
       "      <td>24.237822</td>\n",
       "      <td>0</td>\n",
       "      <td>2</td>\n",
       "      <td>19.656666</td>\n",
       "      <td>13.143197</td>\n",
       "    </tr>\n",
       "  </tbody>\n",
       "</table>\n",
       "</div>"
      ],
      "text/plain": [
       "   MSISDN/Number  cluster  sessions  Dur. (ms)  total_data\n",
       "0      24.237822        0         1  11.667533    6.778433\n",
       "1      24.237822        1         1  12.107522    5.055351\n",
       "2      24.237822        2         1  11.812800    6.390184\n",
       "3      24.237822        2         1  10.817335    6.045765\n",
       "4      24.237822        0         2  19.656666   13.143197"
      ]
     },
     "execution_count": 8,
     "metadata": {},
     "output_type": "execute_result"
    }
   ],
   "source": [
    "user_eng.head()"
   ]
  },
  {
   "cell_type": "code",
   "execution_count": 9,
   "metadata": {},
   "outputs": [],
   "source": [
    "with open(\"../models/user_eng.pkl\", \"rb\") as f:\n",
    "    kmeans1 = pickle.load(f)\n",
    "    \n",
    "with open(\"../models/user_exp.pkl\", \"rb\") as f:\n",
    "    kmeans2 = pickle.load(f)"
   ]
  },
  {
   "cell_type": "code",
   "execution_count": 10,
   "metadata": {},
   "outputs": [
    {
     "data": {
      "text/html": [
       "<div>\n",
       "<style scoped>\n",
       "    .dataframe tbody tr th:only-of-type {\n",
       "        vertical-align: middle;\n",
       "    }\n",
       "\n",
       "    .dataframe tbody tr th {\n",
       "        vertical-align: top;\n",
       "    }\n",
       "\n",
       "    .dataframe thead th {\n",
       "        text-align: right;\n",
       "    }\n",
       "</style>\n",
       "<table border=\"1\" class=\"dataframe\">\n",
       "  <thead>\n",
       "    <tr style=\"text-align: right;\">\n",
       "      <th></th>\n",
       "      <th>0</th>\n",
       "      <th>1</th>\n",
       "      <th>2</th>\n",
       "    </tr>\n",
       "  </thead>\n",
       "  <tbody>\n",
       "    <tr>\n",
       "      <th>0</th>\n",
       "      <td>-0.120240</td>\n",
       "      <td>-0.116165</td>\n",
       "      <td>-0.083693</td>\n",
       "    </tr>\n",
       "    <tr>\n",
       "      <th>1</th>\n",
       "      <td>-0.120240</td>\n",
       "      <td>-0.104045</td>\n",
       "      <td>-0.168510</td>\n",
       "    </tr>\n",
       "    <tr>\n",
       "      <th>2</th>\n",
       "      <td>-0.120240</td>\n",
       "      <td>-0.112164</td>\n",
       "      <td>-0.102804</td>\n",
       "    </tr>\n",
       "    <tr>\n",
       "      <th>3</th>\n",
       "      <td>-0.120240</td>\n",
       "      <td>-0.139586</td>\n",
       "      <td>-0.119758</td>\n",
       "    </tr>\n",
       "    <tr>\n",
       "      <th>4</th>\n",
       "      <td>0.177556</td>\n",
       "      <td>0.103914</td>\n",
       "      <td>0.229608</td>\n",
       "    </tr>\n",
       "  </tbody>\n",
       "</table>\n",
       "</div>"
      ],
      "text/plain": [
       "          0         1         2\n",
       "0 -0.120240 -0.116165 -0.083693\n",
       "1 -0.120240 -0.104045 -0.168510\n",
       "2 -0.120240 -0.112164 -0.102804\n",
       "3 -0.120240 -0.139586 -0.119758\n",
       "4  0.177556  0.103914  0.229608"
      ]
     },
     "execution_count": 10,
     "metadata": {},
     "output_type": "execute_result"
    }
   ],
   "source": [
    "user_eng_df = user_eng.set_index('MSISDN/Number')[\n",
    "    ['sessions','Dur. (ms)', 'total_data']]\n",
    "scaler = StandardScaler()\n",
    "scaled_array = scaler.fit_transform(user_eng_df)\n",
    "pd.DataFrame(scaled_array).head(5)"
   ]
  },
  {
   "cell_type": "code",
   "execution_count": 11,
   "metadata": {},
   "outputs": [
    {
     "data": {
      "text/html": [
       "<div>\n",
       "<style scoped>\n",
       "    .dataframe tbody tr th:only-of-type {\n",
       "        vertical-align: middle;\n",
       "    }\n",
       "\n",
       "    .dataframe tbody tr th {\n",
       "        vertical-align: top;\n",
       "    }\n",
       "\n",
       "    .dataframe thead th {\n",
       "        text-align: right;\n",
       "    }\n",
       "</style>\n",
       "<table border=\"1\" class=\"dataframe\">\n",
       "  <thead>\n",
       "    <tr style=\"text-align: right;\">\n",
       "      <th></th>\n",
       "      <th>0</th>\n",
       "      <th>1</th>\n",
       "      <th>2</th>\n",
       "    </tr>\n",
       "  </thead>\n",
       "  <tbody>\n",
       "    <tr>\n",
       "      <th>0</th>\n",
       "      <td>-0.643111</td>\n",
       "      <td>-0.621314</td>\n",
       "      <td>-0.447635</td>\n",
       "    </tr>\n",
       "    <tr>\n",
       "      <th>1</th>\n",
       "      <td>-0.518978</td>\n",
       "      <td>-0.449075</td>\n",
       "      <td>-0.727319</td>\n",
       "    </tr>\n",
       "    <tr>\n",
       "      <th>2</th>\n",
       "      <td>-0.620034</td>\n",
       "      <td>-0.578384</td>\n",
       "      <td>-0.530122</td>\n",
       "    </tr>\n",
       "    <tr>\n",
       "      <th>3</th>\n",
       "      <td>-0.547204</td>\n",
       "      <td>-0.635243</td>\n",
       "      <td>-0.545008</td>\n",
       "    </tr>\n",
       "    <tr>\n",
       "      <th>4</th>\n",
       "      <td>0.575933</td>\n",
       "      <td>0.337065</td>\n",
       "      <td>0.744774</td>\n",
       "    </tr>\n",
       "  </tbody>\n",
       "</table>\n",
       "</div>"
      ],
      "text/plain": [
       "          0         1         2\n",
       "0 -0.643111 -0.621314 -0.447635\n",
       "1 -0.518978 -0.449075 -0.727319\n",
       "2 -0.620034 -0.578384 -0.530122\n",
       "3 -0.547204 -0.635243 -0.545008\n",
       "4  0.575933  0.337065  0.744774"
      ]
     },
     "execution_count": 11,
     "metadata": {},
     "output_type": "execute_result"
    }
   ],
   "source": [
    "data_normalized = normalize(scaled_array)\n",
    "pd.DataFrame(data_normalized).head(5)"
   ]
  },
  {
   "cell_type": "code",
   "execution_count": 12,
   "metadata": {},
   "outputs": [
    {
     "data": {
      "text/html": [
       "<div>\n",
       "<style scoped>\n",
       "    .dataframe tbody tr th:only-of-type {\n",
       "        vertical-align: middle;\n",
       "    }\n",
       "\n",
       "    .dataframe tbody tr th {\n",
       "        vertical-align: top;\n",
       "    }\n",
       "\n",
       "    .dataframe thead th {\n",
       "        text-align: right;\n",
       "    }\n",
       "</style>\n",
       "<table border=\"1\" class=\"dataframe\">\n",
       "  <thead>\n",
       "    <tr style=\"text-align: right;\">\n",
       "      <th></th>\n",
       "      <th>MSISDN/Number</th>\n",
       "      <th>cluster</th>\n",
       "      <th>sessions</th>\n",
       "      <th>Dur. (ms)</th>\n",
       "      <th>total_data</th>\n",
       "      <th>engagement_score</th>\n",
       "    </tr>\n",
       "  </thead>\n",
       "  <tbody>\n",
       "    <tr>\n",
       "      <th>0</th>\n",
       "      <td>24.237822</td>\n",
       "      <td>0</td>\n",
       "      <td>1</td>\n",
       "      <td>11.667533</td>\n",
       "      <td>6.778433</td>\n",
       "      <td>0.148540</td>\n",
       "    </tr>\n",
       "    <tr>\n",
       "      <th>1</th>\n",
       "      <td>24.237822</td>\n",
       "      <td>1</td>\n",
       "      <td>1</td>\n",
       "      <td>12.107522</td>\n",
       "      <td>5.055351</td>\n",
       "      <td>0.313709</td>\n",
       "    </tr>\n",
       "    <tr>\n",
       "      <th>2</th>\n",
       "      <td>24.237822</td>\n",
       "      <td>2</td>\n",
       "      <td>1</td>\n",
       "      <td>11.812800</td>\n",
       "      <td>6.390184</td>\n",
       "      <td>0.140515</td>\n",
       "    </tr>\n",
       "    <tr>\n",
       "      <th>3</th>\n",
       "      <td>24.237822</td>\n",
       "      <td>2</td>\n",
       "      <td>1</td>\n",
       "      <td>10.817335</td>\n",
       "      <td>6.045765</td>\n",
       "      <td>0.058808</td>\n",
       "    </tr>\n",
       "    <tr>\n",
       "      <th>4</th>\n",
       "      <td>24.237822</td>\n",
       "      <td>0</td>\n",
       "      <td>2</td>\n",
       "      <td>19.656666</td>\n",
       "      <td>13.143197</td>\n",
       "      <td>1.955241</td>\n",
       "    </tr>\n",
       "  </tbody>\n",
       "</table>\n",
       "</div>"
      ],
      "text/plain": [
       "   MSISDN/Number  cluster  sessions  Dur. (ms)  total_data  engagement_score\n",
       "0      24.237822        0         1  11.667533    6.778433          0.148540\n",
       "1      24.237822        1         1  12.107522    5.055351          0.313709\n",
       "2      24.237822        2         1  11.812800    6.390184          0.140515\n",
       "3      24.237822        2         1  10.817335    6.045765          0.058808\n",
       "4      24.237822        0         2  19.656666   13.143197          1.955241"
      ]
     },
     "execution_count": 12,
     "metadata": {},
     "output_type": "execute_result"
    }
   ],
   "source": [
    "distance = kmeans1.fit_transform(data_normalized)\n",
    "distance_from_less_engagement = list(\n",
    "    map(lambda x: x[3], distance))\n",
    "user_eng['engagement_score'] = distance_from_less_engagement\n",
    "user_eng.head(5)"
   ]
  },
  {
   "cell_type": "code",
   "execution_count": 18,
   "metadata": {},
   "outputs": [],
   "source": [
    "user_expr = user_exp.copy()\n",
    "# user_expr.drop([106855], axis=0, inplace=True)"
   ]
  },
  {
   "cell_type": "code",
   "execution_count": 19,
   "metadata": {},
   "outputs": [
    {
     "data": {
      "text/html": [
       "<div>\n",
       "<style scoped>\n",
       "    .dataframe tbody tr th:only-of-type {\n",
       "        vertical-align: middle;\n",
       "    }\n",
       "\n",
       "    .dataframe tbody tr th {\n",
       "        vertical-align: top;\n",
       "    }\n",
       "\n",
       "    .dataframe thead th {\n",
       "        text-align: right;\n",
       "    }\n",
       "</style>\n",
       "<table border=\"1\" class=\"dataframe\">\n",
       "  <thead>\n",
       "    <tr style=\"text-align: right;\">\n",
       "      <th></th>\n",
       "      <th>MSISDN/Number</th>\n",
       "      <th>cluster</th>\n",
       "      <th>avg_rtt_total</th>\n",
       "      <th>avg_tp_total</th>\n",
       "      <th>total_avg_tcp_total</th>\n",
       "      <th>experience_score</th>\n",
       "    </tr>\n",
       "  </thead>\n",
       "  <tbody>\n",
       "    <tr>\n",
       "      <th>0</th>\n",
       "      <td>24.237822</td>\n",
       "      <td>0</td>\n",
       "      <td>8.114390</td>\n",
       "      <td>7.274480</td>\n",
       "      <td>23.201031</td>\n",
       "      <td>0.067790</td>\n",
       "    </tr>\n",
       "    <tr>\n",
       "      <th>1</th>\n",
       "      <td>24.237822</td>\n",
       "      <td>0</td>\n",
       "      <td>3.401197</td>\n",
       "      <td>7.803027</td>\n",
       "      <td>23.201031</td>\n",
       "      <td>0.308925</td>\n",
       "    </tr>\n",
       "    <tr>\n",
       "      <th>2</th>\n",
       "      <td>24.237822</td>\n",
       "      <td>0</td>\n",
       "      <td>5.416100</td>\n",
       "      <td>7.763021</td>\n",
       "      <td>23.201031</td>\n",
       "      <td>0.073472</td>\n",
       "    </tr>\n",
       "    <tr>\n",
       "      <th>3</th>\n",
       "      <td>24.237822</td>\n",
       "      <td>1</td>\n",
       "      <td>6.942157</td>\n",
       "      <td>9.102310</td>\n",
       "      <td>16.921539</td>\n",
       "      <td>0.070612</td>\n",
       "    </tr>\n",
       "    <tr>\n",
       "      <th>4</th>\n",
       "      <td>24.237822</td>\n",
       "      <td>1</td>\n",
       "      <td>8.114390</td>\n",
       "      <td>27.135851</td>\n",
       "      <td>49.213729</td>\n",
       "      <td>1.957331</td>\n",
       "    </tr>\n",
       "  </tbody>\n",
       "</table>\n",
       "</div>"
      ],
      "text/plain": [
       "   MSISDN/Number  cluster  avg_rtt_total  avg_tp_total  total_avg_tcp_total  \\\n",
       "0      24.237822        0       8.114390      7.274480            23.201031   \n",
       "1      24.237822        0       3.401197      7.803027            23.201031   \n",
       "2      24.237822        0       5.416100      7.763021            23.201031   \n",
       "3      24.237822        1       6.942157      9.102310            16.921539   \n",
       "4      24.237822        1       8.114390     27.135851            49.213729   \n",
       "\n",
       "   experience_score  \n",
       "0          0.067790  \n",
       "1          0.308925  \n",
       "2          0.073472  \n",
       "3          0.070612  \n",
       "4          1.957331  "
      ]
     },
     "execution_count": 19,
     "metadata": {},
     "output_type": "execute_result"
    }
   ],
   "source": [
    "exp_df = user_expr.set_index('MSISDN/Number')\n",
    "distance = kmeans2.fit_transform(data_normalized)\n",
    "distance_from_worest_experiance = list(\n",
    "    map(lambda x: x[0], distance))\n",
    "user_expr['experience_score'] = distance_from_worest_experiance\n",
    "user_expr.head(5)"
   ]
  },
  {
   "cell_type": "code",
   "execution_count": 20,
   "metadata": {},
   "outputs": [
    {
     "data": {
      "text/plain": [
       "[24.242603733828183,\n",
       " 24.238122894935568,\n",
       " 24.23986256243128,\n",
       " 24.23819064464601,\n",
       " 24.237825910629]"
      ]
     },
     "execution_count": 20,
     "metadata": {},
     "output_type": "execute_result"
    }
   ],
   "source": [
    "user_eng_id = user_eng['MSISDN/Number'].values\n",
    "user_expr_id = user_expr['MSISDN/Number'].values\n",
    "user_intersection = list(\n",
    "    set(user_eng_id).intersection(user_expr_id))\n",
    "user_intersection[:5]"
   ]
  },
  {
   "cell_type": "code",
   "execution_count": 33,
   "metadata": {},
   "outputs": [],
   "source": [
    "user_eng_df = user_eng[user_expr['MSISDN/Number'].isin(\n",
    "    user_intersection)]"
   ]
  },
  {
   "cell_type": "code",
   "execution_count": 34,
   "metadata": {},
   "outputs": [
    {
     "data": {
      "text/plain": [
       "(106856, 6)"
      ]
     },
     "execution_count": 34,
     "metadata": {},
     "output_type": "execute_result"
    }
   ],
   "source": [
    "\n",
    "\n",
    "user_eng_df.shape\n",
    "\n"
   ]
  },
  {
   "cell_type": "code",
   "execution_count": 35,
   "metadata": {},
   "outputs": [],
   "source": [
    "user_exper_df = user_expr[user_expr['MSISDN/Number'].isin(\n",
    "    user_intersection)]"
   ]
  },
  {
   "cell_type": "code",
   "execution_count": 36,
   "metadata": {},
   "outputs": [
    {
     "data": {
      "text/plain": [
       "(106856, 6)"
      ]
     },
     "execution_count": 36,
     "metadata": {},
     "output_type": "execute_result"
    }
   ],
   "source": [
    "user_exper_df.shape"
   ]
  },
  {
   "cell_type": "code",
   "execution_count": 37,
   "metadata": {},
   "outputs": [
    {
     "data": {
      "text/html": [
       "<div>\n",
       "<style scoped>\n",
       "    .dataframe tbody tr th:only-of-type {\n",
       "        vertical-align: middle;\n",
       "    }\n",
       "\n",
       "    .dataframe tbody tr th {\n",
       "        vertical-align: top;\n",
       "    }\n",
       "\n",
       "    .dataframe thead th {\n",
       "        text-align: right;\n",
       "    }\n",
       "</style>\n",
       "<table border=\"1\" class=\"dataframe\">\n",
       "  <thead>\n",
       "    <tr style=\"text-align: right;\">\n",
       "      <th></th>\n",
       "      <th>MSISDN/Number</th>\n",
       "      <th>cluster_x</th>\n",
       "      <th>sessions</th>\n",
       "      <th>Dur. (ms)</th>\n",
       "      <th>total_data</th>\n",
       "      <th>engagement_score</th>\n",
       "      <th>cluster_y</th>\n",
       "      <th>avg_rtt_total</th>\n",
       "      <th>avg_tp_total</th>\n",
       "      <th>total_avg_tcp_total</th>\n",
       "      <th>experience_score</th>\n",
       "      <th>satisfaction_score</th>\n",
       "    </tr>\n",
       "  </thead>\n",
       "  <tbody>\n",
       "    <tr>\n",
       "      <th>0</th>\n",
       "      <td>24.237822</td>\n",
       "      <td>0</td>\n",
       "      <td>1</td>\n",
       "      <td>11.667533</td>\n",
       "      <td>6.778433</td>\n",
       "      <td>0.148540</td>\n",
       "      <td>0</td>\n",
       "      <td>8.114390</td>\n",
       "      <td>7.274480</td>\n",
       "      <td>23.201031</td>\n",
       "      <td>0.067790</td>\n",
       "      <td>0.108165</td>\n",
       "    </tr>\n",
       "    <tr>\n",
       "      <th>1</th>\n",
       "      <td>24.237822</td>\n",
       "      <td>1</td>\n",
       "      <td>1</td>\n",
       "      <td>12.107522</td>\n",
       "      <td>5.055351</td>\n",
       "      <td>0.313709</td>\n",
       "      <td>0</td>\n",
       "      <td>3.401197</td>\n",
       "      <td>7.803027</td>\n",
       "      <td>23.201031</td>\n",
       "      <td>0.308925</td>\n",
       "      <td>0.311317</td>\n",
       "    </tr>\n",
       "    <tr>\n",
       "      <th>2</th>\n",
       "      <td>24.237822</td>\n",
       "      <td>2</td>\n",
       "      <td>1</td>\n",
       "      <td>11.812800</td>\n",
       "      <td>6.390184</td>\n",
       "      <td>0.140515</td>\n",
       "      <td>0</td>\n",
       "      <td>5.416100</td>\n",
       "      <td>7.763021</td>\n",
       "      <td>23.201031</td>\n",
       "      <td>0.073472</td>\n",
       "      <td>0.106994</td>\n",
       "    </tr>\n",
       "    <tr>\n",
       "      <th>3</th>\n",
       "      <td>24.237822</td>\n",
       "      <td>2</td>\n",
       "      <td>1</td>\n",
       "      <td>10.817335</td>\n",
       "      <td>6.045765</td>\n",
       "      <td>0.058808</td>\n",
       "      <td>1</td>\n",
       "      <td>6.942157</td>\n",
       "      <td>9.102310</td>\n",
       "      <td>16.921539</td>\n",
       "      <td>0.070612</td>\n",
       "      <td>0.064710</td>\n",
       "    </tr>\n",
       "    <tr>\n",
       "      <th>4</th>\n",
       "      <td>24.237822</td>\n",
       "      <td>0</td>\n",
       "      <td>2</td>\n",
       "      <td>19.656666</td>\n",
       "      <td>13.143197</td>\n",
       "      <td>1.955241</td>\n",
       "      <td>1</td>\n",
       "      <td>8.114390</td>\n",
       "      <td>27.135851</td>\n",
       "      <td>49.213729</td>\n",
       "      <td>1.957331</td>\n",
       "      <td>1.956286</td>\n",
       "    </tr>\n",
       "  </tbody>\n",
       "</table>\n",
       "</div>"
      ],
      "text/plain": [
       "   MSISDN/Number  cluster_x  sessions  Dur. (ms)  total_data  \\\n",
       "0      24.237822          0         1  11.667533    6.778433   \n",
       "1      24.237822          1         1  12.107522    5.055351   \n",
       "2      24.237822          2         1  11.812800    6.390184   \n",
       "3      24.237822          2         1  10.817335    6.045765   \n",
       "4      24.237822          0         2  19.656666   13.143197   \n",
       "\n",
       "   engagement_score  cluster_y  avg_rtt_total  avg_tp_total  \\\n",
       "0          0.148540          0       8.114390      7.274480   \n",
       "1          0.313709          0       3.401197      7.803027   \n",
       "2          0.140515          0       5.416100      7.763021   \n",
       "3          0.058808          1       6.942157      9.102310   \n",
       "4          1.955241          1       8.114390     27.135851   \n",
       "\n",
       "   total_avg_tcp_total  experience_score  satisfaction_score  \n",
       "0            23.201031          0.067790            0.108165  \n",
       "1            23.201031          0.308925            0.311317  \n",
       "2            23.201031          0.073472            0.106994  \n",
       "3            16.921539          0.070612            0.064710  \n",
       "4            49.213729          1.957331            1.956286  "
      ]
     },
     "execution_count": 37,
     "metadata": {},
     "output_type": "execute_result"
    }
   ],
   "source": [
    "user_df = pd.merge(user_eng_df, user_exper_df, on='MSISDN/Number')\n",
    "user_df['satisfaction_score'] = (user_df['engagement_score'] + user_df['experience_score'])/2\n",
    "user_df.head(5)"
   ]
  },
  {
   "cell_type": "code",
   "execution_count": 42,
   "metadata": {},
   "outputs": [],
   "source": [
    "satisfaction_df = user_df[['MSISDN/Number', 'engagement_score',\n",
    "                        'experience_score', 'satisfaction_score']]\n",
    "satisfaction_df = satisfaction_df.set_index('MSISDN/Number')"
   ]
  },
  {
   "cell_type": "code",
   "execution_count": 43,
   "metadata": {},
   "outputs": [
    {
     "data": {
      "text/html": [
       "<div>\n",
       "<style scoped>\n",
       "    .dataframe tbody tr th:only-of-type {\n",
       "        vertical-align: middle;\n",
       "    }\n",
       "\n",
       "    .dataframe tbody tr th {\n",
       "        vertical-align: top;\n",
       "    }\n",
       "\n",
       "    .dataframe thead th {\n",
       "        text-align: right;\n",
       "    }\n",
       "</style>\n",
       "<table border=\"1\" class=\"dataframe\">\n",
       "  <thead>\n",
       "    <tr style=\"text-align: right;\">\n",
       "      <th></th>\n",
       "      <th>engagement_score</th>\n",
       "      <th>experience_score</th>\n",
       "      <th>satisfaction_score</th>\n",
       "    </tr>\n",
       "    <tr>\n",
       "      <th>MSISDN/Number</th>\n",
       "      <th></th>\n",
       "      <th></th>\n",
       "      <th></th>\n",
       "    </tr>\n",
       "  </thead>\n",
       "  <tbody>\n",
       "    <tr>\n",
       "      <th>24.239282</th>\n",
       "      <td>1.998502</td>\n",
       "      <td>1.995530</td>\n",
       "      <td>1.997016</td>\n",
       "    </tr>\n",
       "    <tr>\n",
       "      <th>24.243179</th>\n",
       "      <td>1.998508</td>\n",
       "      <td>1.995525</td>\n",
       "      <td>1.997016</td>\n",
       "    </tr>\n",
       "    <tr>\n",
       "      <th>24.238597</th>\n",
       "      <td>1.998553</td>\n",
       "      <td>1.995478</td>\n",
       "      <td>1.997016</td>\n",
       "    </tr>\n",
       "    <tr>\n",
       "      <th>24.242646</th>\n",
       "      <td>1.998531</td>\n",
       "      <td>1.995500</td>\n",
       "      <td>1.997015</td>\n",
       "    </tr>\n",
       "    <tr>\n",
       "      <th>24.239637</th>\n",
       "      <td>1.998554</td>\n",
       "      <td>1.995477</td>\n",
       "      <td>1.997015</td>\n",
       "    </tr>\n",
       "    <tr>\n",
       "      <th>24.242631</th>\n",
       "      <td>1.998487</td>\n",
       "      <td>1.995543</td>\n",
       "      <td>1.997015</td>\n",
       "    </tr>\n",
       "    <tr>\n",
       "      <th>24.242647</th>\n",
       "      <td>1.998565</td>\n",
       "      <td>1.995465</td>\n",
       "      <td>1.997015</td>\n",
       "    </tr>\n",
       "    <tr>\n",
       "      <th>24.240747</th>\n",
       "      <td>1.998469</td>\n",
       "      <td>1.995561</td>\n",
       "      <td>1.997015</td>\n",
       "    </tr>\n",
       "    <tr>\n",
       "      <th>24.239650</th>\n",
       "      <td>1.998566</td>\n",
       "      <td>1.995464</td>\n",
       "      <td>1.997015</td>\n",
       "    </tr>\n",
       "    <tr>\n",
       "      <th>24.238796</th>\n",
       "      <td>1.998509</td>\n",
       "      <td>1.995521</td>\n",
       "      <td>1.997015</td>\n",
       "    </tr>\n",
       "  </tbody>\n",
       "</table>\n",
       "</div>"
      ],
      "text/plain": [
       "               engagement_score  experience_score  satisfaction_score\n",
       "MSISDN/Number                                                        \n",
       "24.239282              1.998502          1.995530            1.997016\n",
       "24.243179              1.998508          1.995525            1.997016\n",
       "24.238597              1.998553          1.995478            1.997016\n",
       "24.242646              1.998531          1.995500            1.997015\n",
       "24.239637              1.998554          1.995477            1.997015\n",
       "24.242631              1.998487          1.995543            1.997015\n",
       "24.242647              1.998565          1.995465            1.997015\n",
       "24.240747              1.998469          1.995561            1.997015\n",
       "24.239650              1.998566          1.995464            1.997015\n",
       "24.238796              1.998509          1.995521            1.997015"
      ]
     },
     "execution_count": 43,
     "metadata": {},
     "output_type": "execute_result"
    }
   ],
   "source": [
    "top_10_satisfaction = satisfaction_df.nlargest(10, 'satisfaction_score')\n",
    "top_10_satisfaction.head(10)"
   ]
  },
  {
   "cell_type": "code",
   "execution_count": 44,
   "metadata": {},
   "outputs": [
    {
     "data": {
      "image/png": "[encoded data removed]",
      "text/plain": [
       "<Figure size 864x504 with 1 Axes>"
      ]
     },
     "metadata": {
      "needs_background": "light"
     },
     "output_type": "display_data"
    }
   ],
   "source": [
    "Plot().plot_bar(top_10_satisfaction, top_10_satisfaction.index, top_10_satisfaction['satisfaction_score'], \"Top 10 user satisfaction score\", \"Users\", \"Satisfaction Score\")\n"
   ]
  },
  {
   "cell_type": "code",
   "execution_count": 46,
   "metadata": {},
   "outputs": [],
   "source": [
    "class Model:\n",
    "    def __init__(self,X_train,X_test,y_train,y_test):\n",
    "        self.X_train = X_train\n",
    "        self.X_test = X_test\n",
    "        self.y_train = y_train\n",
    "        self.y_test = y_test\n",
    "\n",
    "\n",
    "    def model(self):\n",
    "        self.trained_model = LinearRegression()\n",
    "        self.trained_model.fit(self.X_train, self.y_train)\n",
    "        \n",
    "\n",
    "    def predict(self):\n",
    "        self.model()\n",
    "        return self.trained_model.predict(self.X_test)\n",
    "\n",
    "    def score(self):\n",
    "        return self.trained_model.score(self.X_test, self.y_test)\n",
    "\n",
    "    def error_score(self):\n",
    "        return np.mean((self.trained_model.predict(self.X_test) - self.y_test) ** 2)\n",
    "    \n",
    "    def save_model(self, path):\n",
    "        pickle.dump(self.trained_model, open(path, 'wb'))"
   ]
  },
  {
   "cell_type": "code",
   "execution_count": 47,
   "metadata": {},
   "outputs": [],
   "source": [
    "X = satisfaction_df[['engagement_score', 'experience_score']]\n",
    "Y = satisfaction_df[['satisfaction_score']]\n",
    "X_train, X_test, y_train, y_test = model_selection.train_test_split(X, Y, test_size=0.2, random_state=42) "
   ]
  },
  {
   "cell_type": "code",
   "execution_count": 48,
   "metadata": {},
   "outputs": [],
   "source": [
    "model = Model(X_train, X_test, y_train, y_test)"
   ]
  },
  {
   "cell_type": "code",
   "execution_count": 49,
   "metadata": {},
   "outputs": [
    {
     "data": {
      "text/plain": [
       "array([[0.0480972 ],\n",
       "       [0.12697709],\n",
       "       [0.13276503],\n",
       "       ...,\n",
       "       [1.99387093],\n",
       "       [1.99317045],\n",
       "       [1.99107553]])"
      ]
     },
     "execution_count": 49,
     "metadata": {},
     "output_type": "execute_result"
    }
   ],
   "source": [
    "model.predict()"
   ]
  },
  {
   "cell_type": "code",
   "execution_count": 50,
   "metadata": {},
   "outputs": [
    {
     "data": {
      "text/plain": [
       "1.0"
      ]
     },
     "execution_count": 50,
     "metadata": {},
     "output_type": "execute_result"
    }
   ],
   "source": [
    "model.score()"
   ]
  },
  {
   "cell_type": "code",
   "execution_count": 51,
   "metadata": {},
   "outputs": [
    {
     "data": {
      "text/plain": [
       "satisfaction_score    6.697547e-31\n",
       "dtype: float64"
      ]
     },
     "execution_count": 51,
     "metadata": {},
     "output_type": "execute_result"
    }
   ],
   "source": [
    "model.error_score()\n"
   ]
  },
  {
   "cell_type": "code",
   "execution_count": 52,
   "metadata": {},
   "outputs": [],
   "source": [
    "model.save_model(\"../models/satisfaction_model.pkl\")"
   ]
  },
  {
   "cell_type": "code",
   "execution_count": 53,
   "metadata": {},
   "outputs": [
    {
     "data": {
      "text/html": [
       "<div>\n",
       "<style scoped>\n",
       "    .dataframe tbody tr th:only-of-type {\n",
       "        vertical-align: middle;\n",
       "    }\n",
       "\n",
       "    .dataframe tbody tr th {\n",
       "        vertical-align: top;\n",
       "    }\n",
       "\n",
       "    .dataframe thead th {\n",
       "        text-align: right;\n",
       "    }\n",
       "</style>\n",
       "<table border=\"1\" class=\"dataframe\">\n",
       "  <thead>\n",
       "    <tr style=\"text-align: right;\">\n",
       "      <th></th>\n",
       "      <th>MSISDN/Number</th>\n",
       "      <th>cluster_x</th>\n",
       "      <th>sessions</th>\n",
       "      <th>Dur. (ms)</th>\n",
       "      <th>total_data</th>\n",
       "      <th>engagement_score</th>\n",
       "      <th>cluster_y</th>\n",
       "      <th>avg_rtt_total</th>\n",
       "      <th>avg_tp_total</th>\n",
       "      <th>total_avg_tcp_total</th>\n",
       "      <th>experience_score</th>\n",
       "      <th>satisfaction_score</th>\n",
       "    </tr>\n",
       "  </thead>\n",
       "  <tbody>\n",
       "    <tr>\n",
       "      <th>0</th>\n",
       "      <td>24.237822</td>\n",
       "      <td>0</td>\n",
       "      <td>1</td>\n",
       "      <td>11.667533</td>\n",
       "      <td>6.778433</td>\n",
       "      <td>0.148540</td>\n",
       "      <td>0</td>\n",
       "      <td>8.114390</td>\n",
       "      <td>7.274480</td>\n",
       "      <td>23.201031</td>\n",
       "      <td>0.067790</td>\n",
       "      <td>0.108165</td>\n",
       "    </tr>\n",
       "    <tr>\n",
       "      <th>1</th>\n",
       "      <td>24.237822</td>\n",
       "      <td>1</td>\n",
       "      <td>1</td>\n",
       "      <td>12.107522</td>\n",
       "      <td>5.055351</td>\n",
       "      <td>0.313709</td>\n",
       "      <td>0</td>\n",
       "      <td>3.401197</td>\n",
       "      <td>7.803027</td>\n",
       "      <td>23.201031</td>\n",
       "      <td>0.308925</td>\n",
       "      <td>0.311317</td>\n",
       "    </tr>\n",
       "    <tr>\n",
       "      <th>2</th>\n",
       "      <td>24.237822</td>\n",
       "      <td>2</td>\n",
       "      <td>1</td>\n",
       "      <td>11.812800</td>\n",
       "      <td>6.390184</td>\n",
       "      <td>0.140515</td>\n",
       "      <td>0</td>\n",
       "      <td>5.416100</td>\n",
       "      <td>7.763021</td>\n",
       "      <td>23.201031</td>\n",
       "      <td>0.073472</td>\n",
       "      <td>0.106994</td>\n",
       "    </tr>\n",
       "    <tr>\n",
       "      <th>3</th>\n",
       "      <td>24.237822</td>\n",
       "      <td>2</td>\n",
       "      <td>1</td>\n",
       "      <td>10.817335</td>\n",
       "      <td>6.045765</td>\n",
       "      <td>0.058808</td>\n",
       "      <td>1</td>\n",
       "      <td>6.942157</td>\n",
       "      <td>9.102310</td>\n",
       "      <td>16.921539</td>\n",
       "      <td>0.070612</td>\n",
       "      <td>0.064710</td>\n",
       "    </tr>\n",
       "    <tr>\n",
       "      <th>4</th>\n",
       "      <td>24.237822</td>\n",
       "      <td>0</td>\n",
       "      <td>2</td>\n",
       "      <td>19.656666</td>\n",
       "      <td>13.143197</td>\n",
       "      <td>1.955241</td>\n",
       "      <td>1</td>\n",
       "      <td>8.114390</td>\n",
       "      <td>27.135851</td>\n",
       "      <td>49.213729</td>\n",
       "      <td>1.957331</td>\n",
       "      <td>1.956286</td>\n",
       "    </tr>\n",
       "  </tbody>\n",
       "</table>\n",
       "</div>"
      ],
      "text/plain": [
       "   MSISDN/Number  cluster_x  sessions  Dur. (ms)  total_data  \\\n",
       "0      24.237822          0         1  11.667533    6.778433   \n",
       "1      24.237822          1         1  12.107522    5.055351   \n",
       "2      24.237822          2         1  11.812800    6.390184   \n",
       "3      24.237822          2         1  10.817335    6.045765   \n",
       "4      24.237822          0         2  19.656666   13.143197   \n",
       "\n",
       "   engagement_score  cluster_y  avg_rtt_total  avg_tp_total  \\\n",
       "0          0.148540          0       8.114390      7.274480   \n",
       "1          0.313709          0       3.401197      7.803027   \n",
       "2          0.140515          0       5.416100      7.763021   \n",
       "3          0.058808          1       6.942157      9.102310   \n",
       "4          1.955241          1       8.114390     27.135851   \n",
       "\n",
       "   total_avg_tcp_total  experience_score  satisfaction_score  \n",
       "0            23.201031          0.067790            0.108165  \n",
       "1            23.201031          0.308925            0.311317  \n",
       "2            23.201031          0.073472            0.106994  \n",
       "3            16.921539          0.070612            0.064710  \n",
       "4            49.213729          1.957331            1.956286  "
      ]
     },
     "execution_count": 53,
     "metadata": {},
     "output_type": "execute_result"
    }
   ],
   "source": [
    "user_df.head()\n"
   ]
  },
  {
   "cell_type": "code",
   "execution_count": 54,
   "metadata": {},
   "outputs": [],
   "source": [
    "user_satisfaction_df = user_df[[\n",
    "    'MSISDN/Number', \n",
    "    'engagement_score',\n",
    "    'experience_score']]\n",
    "user_satisfaction_df = user_satisfaction_df.set_index('MSISDN/Number')"
   ]
  },
  {
   "cell_type": "code",
   "execution_count": 55,
   "metadata": {},
   "outputs": [
    {
     "data": {
      "text/html": [
       "<div>\n",
       "<style scoped>\n",
       "    .dataframe tbody tr th:only-of-type {\n",
       "        vertical-align: middle;\n",
       "    }\n",
       "\n",
       "    .dataframe tbody tr th {\n",
       "        vertical-align: top;\n",
       "    }\n",
       "\n",
       "    .dataframe thead th {\n",
       "        text-align: right;\n",
       "    }\n",
       "</style>\n",
       "<table border=\"1\" class=\"dataframe\">\n",
       "  <thead>\n",
       "    <tr style=\"text-align: right;\">\n",
       "      <th></th>\n",
       "      <th>engagement_score</th>\n",
       "      <th>experience_score</th>\n",
       "    </tr>\n",
       "    <tr>\n",
       "      <th>MSISDN/Number</th>\n",
       "      <th></th>\n",
       "      <th></th>\n",
       "    </tr>\n",
       "  </thead>\n",
       "  <tbody>\n",
       "    <tr>\n",
       "      <th>24.237822</th>\n",
       "      <td>0.148540</td>\n",
       "      <td>0.067790</td>\n",
       "    </tr>\n",
       "    <tr>\n",
       "      <th>24.237822</th>\n",
       "      <td>0.313709</td>\n",
       "      <td>0.308925</td>\n",
       "    </tr>\n",
       "    <tr>\n",
       "      <th>24.237822</th>\n",
       "      <td>0.140515</td>\n",
       "      <td>0.073472</td>\n",
       "    </tr>\n",
       "    <tr>\n",
       "      <th>24.237822</th>\n",
       "      <td>0.058808</td>\n",
       "      <td>0.070612</td>\n",
       "    </tr>\n",
       "    <tr>\n",
       "      <th>24.237822</th>\n",
       "      <td>1.955241</td>\n",
       "      <td>1.957331</td>\n",
       "    </tr>\n",
       "  </tbody>\n",
       "</table>\n",
       "</div>"
      ],
      "text/plain": [
       "               engagement_score  experience_score\n",
       "MSISDN/Number                                    \n",
       "24.237822              0.148540          0.067790\n",
       "24.237822              0.313709          0.308925\n",
       "24.237822              0.140515          0.073472\n",
       "24.237822              0.058808          0.070612\n",
       "24.237822              1.955241          1.957331"
      ]
     },
     "execution_count": 55,
     "metadata": {},
     "output_type": "execute_result"
    }
   ],
   "source": [
    "user_satisfaction_df.head()"
   ]
  },
  {
   "cell_type": "code",
   "execution_count": 56,
   "metadata": {},
   "outputs": [],
   "source": [
    "from sklearn.preprocessing import Normalizer\n",
    "\n",
    "def normalizer(df, columns):\n",
    "    norm = Normalizer()\n",
    "    # normalize the exponential data with boxcox\n",
    "    return pd.DataFrame(norm.fit_transform(df), columns=columns)"
   ]
  },
  {
   "cell_type": "code",
   "execution_count": 57,
   "metadata": {},
   "outputs": [
    {
     "data": {
      "text/html": [
       "<div>\n",
       "<style scoped>\n",
       "    .dataframe tbody tr th:only-of-type {\n",
       "        vertical-align: middle;\n",
       "    }\n",
       "\n",
       "    .dataframe tbody tr th {\n",
       "        vertical-align: top;\n",
       "    }\n",
       "\n",
       "    .dataframe thead th {\n",
       "        text-align: right;\n",
       "    }\n",
       "</style>\n",
       "<table border=\"1\" class=\"dataframe\">\n",
       "  <thead>\n",
       "    <tr style=\"text-align: right;\">\n",
       "      <th></th>\n",
       "      <th>engagement_score</th>\n",
       "      <th>experience_score</th>\n",
       "    </tr>\n",
       "    <tr>\n",
       "      <th>MSISDN/Number</th>\n",
       "      <th></th>\n",
       "      <th></th>\n",
       "    </tr>\n",
       "  </thead>\n",
       "  <tbody>\n",
       "    <tr>\n",
       "      <th>24.237822</th>\n",
       "      <td>0.148540</td>\n",
       "      <td>0.067790</td>\n",
       "    </tr>\n",
       "    <tr>\n",
       "      <th>24.237822</th>\n",
       "      <td>0.313709</td>\n",
       "      <td>0.308925</td>\n",
       "    </tr>\n",
       "    <tr>\n",
       "      <th>24.237822</th>\n",
       "      <td>0.140515</td>\n",
       "      <td>0.073472</td>\n",
       "    </tr>\n",
       "    <tr>\n",
       "      <th>24.237822</th>\n",
       "      <td>0.058808</td>\n",
       "      <td>0.070612</td>\n",
       "    </tr>\n",
       "    <tr>\n",
       "      <th>24.237822</th>\n",
       "      <td>1.955241</td>\n",
       "      <td>1.957331</td>\n",
       "    </tr>\n",
       "    <tr>\n",
       "      <th>...</th>\n",
       "      <td>...</td>\n",
       "      <td>...</td>\n",
       "    </tr>\n",
       "    <tr>\n",
       "      <th>24.243431</th>\n",
       "      <td>0.160155</td>\n",
       "      <td>0.198561</td>\n",
       "    </tr>\n",
       "    <tr>\n",
       "      <th>24.243431</th>\n",
       "      <td>0.156277</td>\n",
       "      <td>0.110567</td>\n",
       "    </tr>\n",
       "    <tr>\n",
       "      <th>28.793241</th>\n",
       "      <td>0.447538</td>\n",
       "      <td>0.416803</td>\n",
       "    </tr>\n",
       "    <tr>\n",
       "      <th>33.451104</th>\n",
       "      <td>0.213434</td>\n",
       "      <td>0.149221</td>\n",
       "    </tr>\n",
       "    <tr>\n",
       "      <th>34.413663</th>\n",
       "      <td>0.489665</td>\n",
       "      <td>0.469497</td>\n",
       "    </tr>\n",
       "  </tbody>\n",
       "</table>\n",
       "<p>106856 rows × 2 columns</p>\n",
       "</div>"
      ],
      "text/plain": [
       "               engagement_score  experience_score\n",
       "MSISDN/Number                                    \n",
       "24.237822              0.148540          0.067790\n",
       "24.237822              0.313709          0.308925\n",
       "24.237822              0.140515          0.073472\n",
       "24.237822              0.058808          0.070612\n",
       "24.237822              1.955241          1.957331\n",
       "...                         ...               ...\n",
       "24.243431              0.160155          0.198561\n",
       "24.243431              0.156277          0.110567\n",
       "28.793241              0.447538          0.416803\n",
       "33.451104              0.213434          0.149221\n",
       "34.413663              0.489665          0.469497\n",
       "\n",
       "[106856 rows x 2 columns]"
      ]
     },
     "execution_count": 57,
     "metadata": {},
     "output_type": "execute_result"
    }
   ],
   "source": [
    "user_satisfaction_df"
   ]
  },
  {
   "cell_type": "code",
   "execution_count": 58,
   "metadata": {},
   "outputs": [],
   "source": [
    "normalized_df = normalizer(user_satisfaction_df, ['engagement_score', 'experience_score'] )\n"
   ]
  },
  {
   "cell_type": "code",
   "execution_count": 59,
   "metadata": {},
   "outputs": [],
   "source": [
    "normalized_sat_df = normalized_df.copy()"
   ]
  },
  {
   "cell_type": "code",
   "execution_count": 60,
   "metadata": {},
   "outputs": [],
   "source": [
    "kmeans = KMeans(init=\"random\",n_clusters=2,n_init=10,max_iter=300,random_state=42)\n",
    "label = kmeans.fit_predict(normalized_sat_df)\n",
    "centroids = kmeans.cluster_centers_"
   ]
  },
  {
   "cell_type": "code",
   "execution_count": 61,
   "metadata": {},
   "outputs": [
    {
     "data": {
      "image/png": "[encoded data removed]",
      "text/plain": [
       "<Figure size 720x360 with 1 Axes>"
      ]
     },
     "metadata": {
      "needs_background": "light"
     },
     "output_type": "display_data"
    }
   ],
   "source": [
    "lables_unique = np.unique(label)\n",
    "#plotting the results:\n",
    "plt.figure(figsize=(10,5))\n",
    "plt.title('User K-Means Classification with 2 Groups (Standardized Data)')\n",
    "for i in lables_unique:\n",
    "    plt.scatter(normalized_sat_df[label == i].iloc[:,0] , normalized_sat_df[label == i].iloc[:,1], marker='o', label = i)\n",
    "plt.scatter(centroids[:,0] , centroids[:,1], marker='x', color = 'black')\n",
    "plt.legend()\n",
    "plt.show()\n"
   ]
  },
  {
   "cell_type": "code",
   "execution_count": 62,
   "metadata": {},
   "outputs": [
    {
     "data": {
      "text/html": [
       "<div>\n",
       "<style scoped>\n",
       "    .dataframe tbody tr th:only-of-type {\n",
       "        vertical-align: middle;\n",
       "    }\n",
       "\n",
       "    .dataframe tbody tr th {\n",
       "        vertical-align: top;\n",
       "    }\n",
       "\n",
       "    .dataframe thead th {\n",
       "        text-align: right;\n",
       "    }\n",
       "</style>\n",
       "<table border=\"1\" class=\"dataframe\">\n",
       "  <thead>\n",
       "    <tr style=\"text-align: right;\">\n",
       "      <th></th>\n",
       "      <th>engagement_score</th>\n",
       "      <th>experience_score</th>\n",
       "    </tr>\n",
       "  </thead>\n",
       "  <tbody>\n",
       "    <tr>\n",
       "      <th>0</th>\n",
       "      <td>0.909739</td>\n",
       "      <td>0.415180</td>\n",
       "    </tr>\n",
       "    <tr>\n",
       "      <th>1</th>\n",
       "      <td>0.712520</td>\n",
       "      <td>0.701652</td>\n",
       "    </tr>\n",
       "    <tr>\n",
       "      <th>2</th>\n",
       "      <td>0.886170</td>\n",
       "      <td>0.463360</td>\n",
       "    </tr>\n",
       "    <tr>\n",
       "      <th>3</th>\n",
       "      <td>0.639959</td>\n",
       "      <td>0.768409</td>\n",
       "    </tr>\n",
       "    <tr>\n",
       "      <th>4</th>\n",
       "      <td>0.706729</td>\n",
       "      <td>0.707484</td>\n",
       "    </tr>\n",
       "  </tbody>\n",
       "</table>\n",
       "</div>"
      ],
      "text/plain": [
       "   engagement_score  experience_score\n",
       "0          0.909739          0.415180\n",
       "1          0.712520          0.701652\n",
       "2          0.886170          0.463360\n",
       "3          0.639959          0.768409\n",
       "4          0.706729          0.707484"
      ]
     },
     "execution_count": 62,
     "metadata": {},
     "output_type": "execute_result"
    }
   ],
   "source": [
    "normalized_sat_df.head()"
   ]
  },
  {
   "cell_type": "code",
   "execution_count": 63,
   "metadata": {},
   "outputs": [],
   "source": [
    "u_sat_eng = user_satisfaction_df.copy()"
   ]
  },
  {
   "cell_type": "code",
   "execution_count": 64,
   "metadata": {},
   "outputs": [
    {
     "data": {
      "text/html": [
       "<div>\n",
       "<style scoped>\n",
       "    .dataframe tbody tr th:only-of-type {\n",
       "        vertical-align: middle;\n",
       "    }\n",
       "\n",
       "    .dataframe tbody tr th {\n",
       "        vertical-align: top;\n",
       "    }\n",
       "\n",
       "    .dataframe thead th {\n",
       "        text-align: right;\n",
       "    }\n",
       "</style>\n",
       "<table border=\"1\" class=\"dataframe\">\n",
       "  <thead>\n",
       "    <tr style=\"text-align: right;\">\n",
       "      <th></th>\n",
       "      <th>cluster</th>\n",
       "      <th>engagement_score</th>\n",
       "      <th>experience_score</th>\n",
       "    </tr>\n",
       "    <tr>\n",
       "      <th>MSISDN/Number</th>\n",
       "      <th></th>\n",
       "      <th></th>\n",
       "      <th></th>\n",
       "    </tr>\n",
       "  </thead>\n",
       "  <tbody>\n",
       "    <tr>\n",
       "      <th>24.237822</th>\n",
       "      <td>0</td>\n",
       "      <td>0.148540</td>\n",
       "      <td>0.067790</td>\n",
       "    </tr>\n",
       "    <tr>\n",
       "      <th>24.237822</th>\n",
       "      <td>1</td>\n",
       "      <td>0.313709</td>\n",
       "      <td>0.308925</td>\n",
       "    </tr>\n",
       "    <tr>\n",
       "      <th>24.237822</th>\n",
       "      <td>0</td>\n",
       "      <td>0.140515</td>\n",
       "      <td>0.073472</td>\n",
       "    </tr>\n",
       "    <tr>\n",
       "      <th>24.237822</th>\n",
       "      <td>1</td>\n",
       "      <td>0.058808</td>\n",
       "      <td>0.070612</td>\n",
       "    </tr>\n",
       "    <tr>\n",
       "      <th>24.237822</th>\n",
       "      <td>1</td>\n",
       "      <td>1.955241</td>\n",
       "      <td>1.957331</td>\n",
       "    </tr>\n",
       "  </tbody>\n",
       "</table>\n",
       "</div>"
      ],
      "text/plain": [
       "               cluster  engagement_score  experience_score\n",
       "MSISDN/Number                                             \n",
       "24.237822            0          0.148540          0.067790\n",
       "24.237822            1          0.313709          0.308925\n",
       "24.237822            0          0.140515          0.073472\n",
       "24.237822            1          0.058808          0.070612\n",
       "24.237822            1          1.955241          1.957331"
      ]
     },
     "execution_count": 64,
     "metadata": {},
     "output_type": "execute_result"
    }
   ],
   "source": [
    "u_sat_eng.insert(0, 'cluster', kmeans.labels_)\n",
    "u_sat_eng.head(5)"
   ]
  },
  {
   "cell_type": "code",
   "execution_count": 65,
   "metadata": {},
   "outputs": [],
   "source": [
    "u_sat_eng.to_csv('../data/user_satisfaction.csv')"
   ]
  },
  {
   "cell_type": "code",
   "execution_count": 66,
   "metadata": {},
   "outputs": [],
   "source": [
    "agg_sat = u_sat_eng.groupby('cluster').agg(\n",
    "    {'engagement_score': 'sum', 'experience_score': 'sum'})\n"
   ]
  },
  {
   "cell_type": "code",
   "execution_count": 67,
   "metadata": {},
   "outputs": [],
   "source": [
    "agg_sat_df = pd.DataFrame()\n",
    "agg_sat_df['cluster'] = agg_sat.index\n",
    "agg_sat_df['engagement_score'] = agg_sat['engagement_score']\n",
    "agg_sat_df['experience_score'] = agg_sat['experience_score']\n"
   ]
  },
  {
   "cell_type": "code",
   "execution_count": 68,
   "metadata": {},
   "outputs": [
    {
     "data": {
      "text/html": [
       "<div>\n",
       "<style scoped>\n",
       "    .dataframe tbody tr th:only-of-type {\n",
       "        vertical-align: middle;\n",
       "    }\n",
       "\n",
       "    .dataframe tbody tr th {\n",
       "        vertical-align: top;\n",
       "    }\n",
       "\n",
       "    .dataframe thead th {\n",
       "        text-align: right;\n",
       "    }\n",
       "</style>\n",
       "<table border=\"1\" class=\"dataframe\">\n",
       "  <thead>\n",
       "    <tr style=\"text-align: right;\">\n",
       "      <th></th>\n",
       "      <th>cluster</th>\n",
       "      <th>engagement_score</th>\n",
       "      <th>experience_score</th>\n",
       "    </tr>\n",
       "  </thead>\n",
       "  <tbody>\n",
       "    <tr>\n",
       "      <th>0</th>\n",
       "      <td>0</td>\n",
       "      <td>4035.531660</td>\n",
       "      <td>1933.084232</td>\n",
       "    </tr>\n",
       "    <tr>\n",
       "      <th>1</th>\n",
       "      <td>1</td>\n",
       "      <td>66072.711197</td>\n",
       "      <td>66336.314120</td>\n",
       "    </tr>\n",
       "  </tbody>\n",
       "</table>\n",
       "</div>"
      ],
      "text/plain": [
       "   cluster  engagement_score  experience_score\n",
       "0        0       4035.531660       1933.084232\n",
       "1        1      66072.711197      66336.314120"
      ]
     },
     "execution_count": 68,
     "metadata": {},
     "output_type": "execute_result"
    }
   ],
   "source": [
    "agg_sat_df.head()"
   ]
  },
  {
   "cell_type": "code",
   "execution_count": 69,
   "metadata": {},
   "outputs": [
    {
     "data": {
      "text/plain": [
       "<AxesSubplot:xlabel='cluster', ylabel='engagement_score'>"
      ]
     },
     "execution_count": 69,
     "metadata": {},
     "output_type": "execute_result"
    },
    {
     "data": {
      "image/png": "[encoded data removed]",
      "text/plain": [
       "<Figure size 432x288 with 1 Axes>"
      ]
     },
     "metadata": {
      "needs_background": "light"
     },
     "output_type": "display_data"
    }
   ],
   "source": [
    "sns.barplot(x=\"cluster\", y=\"engagement_score\", hue=\"cluster\", data=agg_sat_df)"
   ]
  },
  {
   "cell_type": "code",
   "execution_count": null,
   "metadata": {},
   "outputs": [],
   "source": []
  }
 ],
 "metadata": {
  "kernelspec": {
   "display_name": "Python 3",
   "language": "python",
   "name": "python3"
  },
  "language_info": {
   "codemirror_mode": {
    "name": "ipython",
    "version": 3
   },
   "file_extension": ".py",
   "mimetype": "text/x-python",
   "name": "python",
   "nbconvert_exporter": "python",
   "pygments_lexer": "ipython3",
   "version": "3.7.3"
  }
 },
 "nbformat": 4,
 "nbformat_minor": 2
}
